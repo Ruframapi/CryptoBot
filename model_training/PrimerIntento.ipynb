{
 "cells": [
  {
   "cell_type": "code",
   "execution_count": 3,
   "id": "f5494955-a776-481f-aa71-4cb16b6876e9",
   "metadata": {},
   "outputs": [],
   "source": [
    "import pandas as pd\n",
    "import numpy as np\n",
    "import matplotlib.pyplot as plt\n",
    "import seaborn as sns\n",
    "plt.style.use('ggplot')\n",
    "import xgboost as xgb\n",
    "from warnings import filterwarnings\n",
    "filterwarnings(\"ignore\")\n",
    "from sklearn.metrics import mean_squared_error\n",
    "from sklearn.model_selection import GridSearchCV, train_test_split"
   ]
  },
  {
   "cell_type": "code",
   "execution_count": 11,
   "id": "81c4e070-0133-4b54-8423-32694e62fe77",
   "metadata": {},
   "outputs": [
    {
     "name": "stdout",
     "output_type": "stream",
     "text": [
      "(2991, 10)\n"
     ]
    },
    {
     "data": {
      "text/html": [
       "<div>\n",
       "<style scoped>\n",
       "    .dataframe tbody tr th:only-of-type {\n",
       "        vertical-align: middle;\n",
       "    }\n",
       "\n",
       "    .dataframe tbody tr th {\n",
       "        vertical-align: top;\n",
       "    }\n",
       "\n",
       "    .dataframe thead th {\n",
       "        text-align: right;\n",
       "    }\n",
       "</style>\n",
       "<table border=\"1\" class=\"dataframe\">\n",
       "  <thead>\n",
       "    <tr style=\"text-align: right;\">\n",
       "      <th></th>\n",
       "      <th>SNo</th>\n",
       "      <th>Name</th>\n",
       "      <th>Symbol</th>\n",
       "      <th>Date</th>\n",
       "      <th>High</th>\n",
       "      <th>Low</th>\n",
       "      <th>Open</th>\n",
       "      <th>Close</th>\n",
       "      <th>Volume</th>\n",
       "      <th>Marketcap</th>\n",
       "    </tr>\n",
       "  </thead>\n",
       "  <tbody>\n",
       "    <tr>\n",
       "      <th>0</th>\n",
       "      <td>1</td>\n",
       "      <td>Bitcoin</td>\n",
       "      <td>BTC</td>\n",
       "      <td>2013-04-29 23:59:59</td>\n",
       "      <td>147.488007</td>\n",
       "      <td>134.000000</td>\n",
       "      <td>134.444000</td>\n",
       "      <td>144.539993</td>\n",
       "      <td>0.0</td>\n",
       "      <td>1.603769e+09</td>\n",
       "    </tr>\n",
       "    <tr>\n",
       "      <th>1</th>\n",
       "      <td>2</td>\n",
       "      <td>Bitcoin</td>\n",
       "      <td>BTC</td>\n",
       "      <td>2013-04-30 23:59:59</td>\n",
       "      <td>146.929993</td>\n",
       "      <td>134.050003</td>\n",
       "      <td>144.000000</td>\n",
       "      <td>139.000000</td>\n",
       "      <td>0.0</td>\n",
       "      <td>1.542813e+09</td>\n",
       "    </tr>\n",
       "    <tr>\n",
       "      <th>2</th>\n",
       "      <td>3</td>\n",
       "      <td>Bitcoin</td>\n",
       "      <td>BTC</td>\n",
       "      <td>2013-05-01 23:59:59</td>\n",
       "      <td>139.889999</td>\n",
       "      <td>107.720001</td>\n",
       "      <td>139.000000</td>\n",
       "      <td>116.989998</td>\n",
       "      <td>0.0</td>\n",
       "      <td>1.298955e+09</td>\n",
       "    </tr>\n",
       "    <tr>\n",
       "      <th>3</th>\n",
       "      <td>4</td>\n",
       "      <td>Bitcoin</td>\n",
       "      <td>BTC</td>\n",
       "      <td>2013-05-02 23:59:59</td>\n",
       "      <td>125.599998</td>\n",
       "      <td>92.281898</td>\n",
       "      <td>116.379997</td>\n",
       "      <td>105.209999</td>\n",
       "      <td>0.0</td>\n",
       "      <td>1.168517e+09</td>\n",
       "    </tr>\n",
       "    <tr>\n",
       "      <th>4</th>\n",
       "      <td>5</td>\n",
       "      <td>Bitcoin</td>\n",
       "      <td>BTC</td>\n",
       "      <td>2013-05-03 23:59:59</td>\n",
       "      <td>108.127998</td>\n",
       "      <td>79.099998</td>\n",
       "      <td>106.250000</td>\n",
       "      <td>97.750000</td>\n",
       "      <td>0.0</td>\n",
       "      <td>1.085995e+09</td>\n",
       "    </tr>\n",
       "  </tbody>\n",
       "</table>\n",
       "</div>"
      ],
      "text/plain": [
       "   SNo     Name Symbol                 Date        High         Low  \\\n",
       "0    1  Bitcoin    BTC  2013-04-29 23:59:59  147.488007  134.000000   \n",
       "1    2  Bitcoin    BTC  2013-04-30 23:59:59  146.929993  134.050003   \n",
       "2    3  Bitcoin    BTC  2013-05-01 23:59:59  139.889999  107.720001   \n",
       "3    4  Bitcoin    BTC  2013-05-02 23:59:59  125.599998   92.281898   \n",
       "4    5  Bitcoin    BTC  2013-05-03 23:59:59  108.127998   79.099998   \n",
       "\n",
       "         Open       Close  Volume     Marketcap  \n",
       "0  134.444000  144.539993     0.0  1.603769e+09  \n",
       "1  144.000000  139.000000     0.0  1.542813e+09  \n",
       "2  139.000000  116.989998     0.0  1.298955e+09  \n",
       "3  116.379997  105.209999     0.0  1.168517e+09  \n",
       "4  106.250000   97.750000     0.0  1.085995e+09  "
      ]
     },
     "execution_count": 11,
     "metadata": {},
     "output_type": "execute_result"
    }
   ],
   "source": [
    "train = pd.read_csv('archive/coin_Bitcoin.csv')\n",
    "print(train.shape)\n",
    "train.head()"
   ]
  },
  {
   "cell_type": "code",
   "execution_count": 13,
   "id": "04d2b699-dfea-419c-b32c-f579b82ec61d",
   "metadata": {},
   "outputs": [
    {
     "name": "stdout",
     "output_type": "stream",
     "text": [
      "<class 'pandas.core.frame.DataFrame'>\n",
      "RangeIndex: 2991 entries, 0 to 2990\n",
      "Data columns (total 10 columns):\n",
      " #   Column     Non-Null Count  Dtype  \n",
      "---  ------     --------------  -----  \n",
      " 0   SNo        2991 non-null   int64  \n",
      " 1   Name       2991 non-null   object \n",
      " 2   Symbol     2991 non-null   object \n",
      " 3   Date       2991 non-null   object \n",
      " 4   High       2991 non-null   float64\n",
      " 5   Low        2991 non-null   float64\n",
      " 6   Open       2991 non-null   float64\n",
      " 7   Close      2991 non-null   float64\n",
      " 8   Volume     2991 non-null   float64\n",
      " 9   Marketcap  2991 non-null   float64\n",
      "dtypes: float64(6), int64(1), object(3)\n",
      "memory usage: 233.8+ KB\n",
      "None\n",
      "2991\n"
     ]
    }
   ],
   "source": [
    "print(train.info())\n",
    "train.describe()\n",
    "print(len(train))"
   ]
  },
  {
   "cell_type": "code",
   "execution_count": 14,
   "id": "36038794-28bf-44bb-9bb9-61b0ca88eb71",
   "metadata": {},
   "outputs": [
    {
     "data": {
      "text/plain": [
       "DatetimeIndex(['2013-04-29 23:59:59', '2013-04-30 23:59:59',\n",
       "               '2013-05-01 23:59:59', '2013-05-02 23:59:59',\n",
       "               '2013-05-03 23:59:59', '2013-05-04 23:59:59',\n",
       "               '2013-05-05 23:59:59', '2013-05-06 23:59:59',\n",
       "               '2013-05-07 23:59:59', '2013-05-08 23:59:59',\n",
       "               ...\n",
       "               '2021-06-27 23:59:59', '2021-06-28 23:59:59',\n",
       "               '2021-06-29 23:59:59', '2021-06-30 23:59:59',\n",
       "               '2021-07-01 23:59:59', '2021-07-02 23:59:59',\n",
       "               '2021-07-03 23:59:59', '2021-07-04 23:59:59',\n",
       "               '2021-07-05 23:59:59', '2021-07-06 23:59:59'],\n",
       "              dtype='datetime64[ns]', name='Date', length=2991, freq=None)"
      ]
     },
     "execution_count": 14,
     "metadata": {},
     "output_type": "execute_result"
    }
   ],
   "source": [
    "train.index = pd.to_datetime(train['Date'])\n",
    "train.index"
   ]
  },
  {
   "cell_type": "code",
   "execution_count": 15,
   "id": "dcba2cee-3a86-4c85-8756-58af2f016d20",
   "metadata": {},
   "outputs": [
    {
     "data": {
      "text/html": [
       "<div>\n",
       "<style scoped>\n",
       "    .dataframe tbody tr th:only-of-type {\n",
       "        vertical-align: middle;\n",
       "    }\n",
       "\n",
       "    .dataframe tbody tr th {\n",
       "        vertical-align: top;\n",
       "    }\n",
       "\n",
       "    .dataframe thead th {\n",
       "        text-align: right;\n",
       "    }\n",
       "</style>\n",
       "<table border=\"1\" class=\"dataframe\">\n",
       "  <thead>\n",
       "    <tr style=\"text-align: right;\">\n",
       "      <th></th>\n",
       "      <th>SNo</th>\n",
       "      <th>Name</th>\n",
       "      <th>Symbol</th>\n",
       "      <th>Date</th>\n",
       "      <th>High</th>\n",
       "      <th>Low</th>\n",
       "      <th>Open</th>\n",
       "      <th>Close</th>\n",
       "      <th>Volume</th>\n",
       "      <th>Marketcap</th>\n",
       "      <th>dayofweek</th>\n",
       "      <th>month</th>\n",
       "      <th>dayofyear</th>\n",
       "    </tr>\n",
       "    <tr>\n",
       "      <th>Date</th>\n",
       "      <th></th>\n",
       "      <th></th>\n",
       "      <th></th>\n",
       "      <th></th>\n",
       "      <th></th>\n",
       "      <th></th>\n",
       "      <th></th>\n",
       "      <th></th>\n",
       "      <th></th>\n",
       "      <th></th>\n",
       "      <th></th>\n",
       "      <th></th>\n",
       "      <th></th>\n",
       "    </tr>\n",
       "  </thead>\n",
       "  <tbody>\n",
       "    <tr>\n",
       "      <th>2013-04-29 23:59:59</th>\n",
       "      <td>1</td>\n",
       "      <td>Bitcoin</td>\n",
       "      <td>BTC</td>\n",
       "      <td>2013-04-29 23:59:59</td>\n",
       "      <td>147.488007</td>\n",
       "      <td>134.000000</td>\n",
       "      <td>134.444000</td>\n",
       "      <td>144.539993</td>\n",
       "      <td>0.0</td>\n",
       "      <td>1.603769e+09</td>\n",
       "      <td>0</td>\n",
       "      <td>4</td>\n",
       "      <td>119</td>\n",
       "    </tr>\n",
       "    <tr>\n",
       "      <th>2013-04-30 23:59:59</th>\n",
       "      <td>2</td>\n",
       "      <td>Bitcoin</td>\n",
       "      <td>BTC</td>\n",
       "      <td>2013-04-30 23:59:59</td>\n",
       "      <td>146.929993</td>\n",
       "      <td>134.050003</td>\n",
       "      <td>144.000000</td>\n",
       "      <td>139.000000</td>\n",
       "      <td>0.0</td>\n",
       "      <td>1.542813e+09</td>\n",
       "      <td>1</td>\n",
       "      <td>4</td>\n",
       "      <td>120</td>\n",
       "    </tr>\n",
       "    <tr>\n",
       "      <th>2013-05-01 23:59:59</th>\n",
       "      <td>3</td>\n",
       "      <td>Bitcoin</td>\n",
       "      <td>BTC</td>\n",
       "      <td>2013-05-01 23:59:59</td>\n",
       "      <td>139.889999</td>\n",
       "      <td>107.720001</td>\n",
       "      <td>139.000000</td>\n",
       "      <td>116.989998</td>\n",
       "      <td>0.0</td>\n",
       "      <td>1.298955e+09</td>\n",
       "      <td>2</td>\n",
       "      <td>5</td>\n",
       "      <td>121</td>\n",
       "    </tr>\n",
       "    <tr>\n",
       "      <th>2013-05-02 23:59:59</th>\n",
       "      <td>4</td>\n",
       "      <td>Bitcoin</td>\n",
       "      <td>BTC</td>\n",
       "      <td>2013-05-02 23:59:59</td>\n",
       "      <td>125.599998</td>\n",
       "      <td>92.281898</td>\n",
       "      <td>116.379997</td>\n",
       "      <td>105.209999</td>\n",
       "      <td>0.0</td>\n",
       "      <td>1.168517e+09</td>\n",
       "      <td>3</td>\n",
       "      <td>5</td>\n",
       "      <td>122</td>\n",
       "    </tr>\n",
       "    <tr>\n",
       "      <th>2013-05-03 23:59:59</th>\n",
       "      <td>5</td>\n",
       "      <td>Bitcoin</td>\n",
       "      <td>BTC</td>\n",
       "      <td>2013-05-03 23:59:59</td>\n",
       "      <td>108.127998</td>\n",
       "      <td>79.099998</td>\n",
       "      <td>106.250000</td>\n",
       "      <td>97.750000</td>\n",
       "      <td>0.0</td>\n",
       "      <td>1.085995e+09</td>\n",
       "      <td>4</td>\n",
       "      <td>5</td>\n",
       "      <td>123</td>\n",
       "    </tr>\n",
       "  </tbody>\n",
       "</table>\n",
       "</div>"
      ],
      "text/plain": [
       "                     SNo     Name Symbol                 Date        High  \\\n",
       "Date                                                                        \n",
       "2013-04-29 23:59:59    1  Bitcoin    BTC  2013-04-29 23:59:59  147.488007   \n",
       "2013-04-30 23:59:59    2  Bitcoin    BTC  2013-04-30 23:59:59  146.929993   \n",
       "2013-05-01 23:59:59    3  Bitcoin    BTC  2013-05-01 23:59:59  139.889999   \n",
       "2013-05-02 23:59:59    4  Bitcoin    BTC  2013-05-02 23:59:59  125.599998   \n",
       "2013-05-03 23:59:59    5  Bitcoin    BTC  2013-05-03 23:59:59  108.127998   \n",
       "\n",
       "                            Low        Open       Close  Volume     Marketcap  \\\n",
       "Date                                                                            \n",
       "2013-04-29 23:59:59  134.000000  134.444000  144.539993     0.0  1.603769e+09   \n",
       "2013-04-30 23:59:59  134.050003  144.000000  139.000000     0.0  1.542813e+09   \n",
       "2013-05-01 23:59:59  107.720001  139.000000  116.989998     0.0  1.298955e+09   \n",
       "2013-05-02 23:59:59   92.281898  116.379997  105.209999     0.0  1.168517e+09   \n",
       "2013-05-03 23:59:59   79.099998  106.250000   97.750000     0.0  1.085995e+09   \n",
       "\n",
       "                     dayofweek  month  dayofyear  \n",
       "Date                                              \n",
       "2013-04-29 23:59:59          0      4        119  \n",
       "2013-04-30 23:59:59          1      4        120  \n",
       "2013-05-01 23:59:59          2      5        121  \n",
       "2013-05-02 23:59:59          3      5        122  \n",
       "2013-05-03 23:59:59          4      5        123  "
      ]
     },
     "execution_count": 15,
     "metadata": {},
     "output_type": "execute_result"
    }
   ],
   "source": [
    "def create_features(df):\n",
    "    df['dayofweek'] = df.index.day_of_week\n",
    "    df['month'] = df.index.month\n",
    "    df['dayofyear'] = df.index.dayofyear\n",
    "    return df\n",
    "train = create_features(train)\n",
    "train.head()"
   ]
  },
  {
   "cell_type": "code",
   "execution_count": 16,
   "id": "73dc000a-660f-4563-8cfb-c721af1cda03",
   "metadata": {},
   "outputs": [
    {
     "data": {
      "text/plain": [
       "<seaborn.axisgrid.FacetGrid at 0x23ceb7cdca0>"
      ]
     },
     "execution_count": 16,
     "metadata": {},
     "output_type": "execute_result"
    },
    {
     "data": {
      "image/png": "[encoded data removed]",
      "text/plain": [
       "<Figure size 360x360 with 1 Axes>"
      ]
     },
     "metadata": {},
     "output_type": "display_data"
    }
   ],
   "source": [
    "sns.displot(data=train,x=train.index ,y='Close')\n"
   ]
  },
  {
   "cell_type": "code",
   "execution_count": 18,
   "id": "1f873784-0915-4f7a-bb83-e94919a2d40a",
   "metadata": {},
   "outputs": [],
   "source": [
    "split_row = len(train) - int(0.2 * len(train))\n",
    "train_data = train.iloc[:split_row]\n",
    "test_data = train.iloc[split_row:]"
   ]
  },
  {
   "cell_type": "code",
   "execution_count": 20,
   "id": "f87ade5e-ab01-4882-9355-3b441ed40270",
   "metadata": {},
   "outputs": [
    {
     "data": {
      "text/plain": [
       "<matplotlib.legend.Legend at 0x23d049b44c0>"
      ]
     },
     "execution_count": 20,
     "metadata": {},
     "output_type": "execute_result"
    },
    {
     "data": {
      "image/png": "[encoded data removed]",
      "text/plain": [
       "<Figure size 936x504 with 1 Axes>"
      ]
     },
     "metadata": {},
     "output_type": "display_data"
    }
   ],
   "source": [
    "chosen_col = 'Close'\n",
    "fig, ax = plt.subplots(1, figsize=(13, 7))\n",
    "ax.plot(train_data[chosen_col], label='Train', linewidth=2)\n",
    "ax.plot(test_data[chosen_col], label='Test', linewidth=2)\n",
    "ax.set_ylabel('Price USD', fontsize=14)\n",
    "ax.set_title('', fontsize=16)\n",
    "ax.legend(loc='best', fontsize=16)"
   ]
  },
  {
   "cell_type": "code",
   "execution_count": 22,
   "id": "578d6afc-04b7-4209-9bf2-337a9bed42c9",
   "metadata": {},
   "outputs": [],
   "source": [
    "from sklearn.preprocessing import MinMaxScaler\n",
    "\n",
    "datacol = train.iloc[:, 7:8].values\n",
    "traincol = train_data.iloc[:, 7:8].values\n",
    "testcol = test_data.iloc[:, 7:8].values\n",
    "\n",
    "shaped_data = np.reshape(datacol, (-1,1))\n",
    "train_shaped = np.reshape(traincol, (-1,1))\n",
    "test_shaped = np.reshape(testcol, (-1,1))\n",
    "\n",
    "sc = MinMaxScaler(feature_range=(0,1))\n",
    "sc.fit(shaped_data)\n",
    "\n",
    "train_scaled_data = sc.transform(train_shaped)\n",
    "test_scaled_data = sc.transform(test_shaped)"
   ]
  },
  {
   "cell_type": "code",
   "execution_count": 24,
   "id": "b31d92b8-3439-4615-bc5a-5b6df74ecacd",
   "metadata": {},
   "outputs": [
    {
     "data": {
      "text/plain": [
       "array([[0.00119979],\n",
       "       [0.00111246],\n",
       "       [0.00076549],\n",
       "       ...,\n",
       "       [0.13619706],\n",
       "       [0.13279037],\n",
       "       [0.13371681]])"
      ]
     },
     "execution_count": 24,
     "metadata": {},
     "output_type": "execute_result"
    }
   ],
   "source": [
    "train_scaled_data"
   ]
  },
  {
   "cell_type": "code",
   "execution_count": 25,
   "id": "2b8209fe-92ef-444c-b8d0-42fc16ad314c",
   "metadata": {},
   "outputs": [],
   "source": [
    "X = []\n",
    "y = []\n",
    "time_steps = 50\n",
    "\n",
    "for i in range(time_steps, len(train_data)):\n",
    "    X.append(train_scaled_data[i-time_steps:i,0])\n",
    "    y.append(train_scaled_data[i, 0])\n",
    "\n",
    "X, y = np.array(X), np.array(y)\n",
    "X = np.reshape(X, (X.shape[0], X.shape[1], 1))"
   ]
  },
  {
   "cell_type": "code",
   "execution_count": 28,
   "id": "3a1ede16-3e6c-4c8f-b0a3-6a7c26945970",
   "metadata": {},
   "outputs": [],
   "source": [
    "X_train, X_test, y_train, y_test = train_test_split(X, y, test_size=0.2)"
   ]
  },
  {
   "cell_type": "code",
   "execution_count": 29,
   "id": "47feb0e9-19bd-4f99-b53a-fc58d0a5bdcc",
   "metadata": {},
   "outputs": [],
   "source": [
    "from keras.models import Sequential\n",
    "from keras.layers import LSTM\n",
    "from keras.layers import Dense\n",
    "from keras.layers import Dropout\n",
    "from keras.layers import Activation\n",
    "\n",
    "model = Sequential()\n",
    "model.add(LSTM(units=100, input_shape=(X_train.shape[1], X_train.shape[2])))\n",
    "model.add(Dropout(0.2))\n",
    "model.add(Dense(1))\n",
    "model.add(Activation('linear'))\n",
    "model.compile(optimizer='adam', loss='mse')"
   ]
  },
  {
   "cell_type": "code",
   "execution_count": 30,
   "id": "31f98573-04f4-447a-a213-55e82896fd31",
   "metadata": {},
   "outputs": [
    {
     "name": "stdout",
     "output_type": "stream",
     "text": [
      "Epoch 1/100\n",
      "59/59 [==============================] - 4s 29ms/step - loss: 5.2569e-04 - val_loss: 6.2278e-05\n",
      "Epoch 2/100\n",
      "59/59 [==============================] - 1s 20ms/step - loss: 8.6765e-05 - val_loss: 5.4519e-05\n",
      "Epoch 3/100\n",
      "59/59 [==============================] - 1s 19ms/step - loss: 8.8350e-05 - val_loss: 5.1027e-05\n",
      "Epoch 4/100\n",
      "59/59 [==============================] - 1s 20ms/step - loss: 8.2381e-05 - val_loss: 9.6753e-05\n",
      "Epoch 5/100\n",
      "59/59 [==============================] - 1s 20ms/step - loss: 7.7620e-05 - val_loss: 4.7691e-05\n",
      "Epoch 6/100\n",
      "59/59 [==============================] - 1s 20ms/step - loss: 6.9730e-05 - val_loss: 5.2268e-05\n",
      "Epoch 7/100\n",
      "59/59 [==============================] - 1s 20ms/step - loss: 7.5080e-05 - val_loss: 4.4033e-05\n",
      "Epoch 8/100\n",
      "59/59 [==============================] - 1s 20ms/step - loss: 6.4138e-05 - val_loss: 4.9286e-05\n",
      "Epoch 9/100\n",
      "59/59 [==============================] - 1s 21ms/step - loss: 5.8730e-05 - val_loss: 4.7792e-05\n",
      "Epoch 10/100\n",
      "59/59 [==============================] - 1s 21ms/step - loss: 5.7418e-05 - val_loss: 4.7243e-05\n",
      "Epoch 11/100\n",
      "59/59 [==============================] - 1s 20ms/step - loss: 5.5713e-05 - val_loss: 3.9077e-05\n",
      "Epoch 12/100\n",
      "59/59 [==============================] - 1s 20ms/step - loss: 5.8315e-05 - val_loss: 4.0720e-05\n",
      "Epoch 13/100\n",
      "59/59 [==============================] - 1s 20ms/step - loss: 5.0576e-05 - val_loss: 4.1103e-05\n",
      "Epoch 14/100\n",
      "59/59 [==============================] - 1s 20ms/step - loss: 5.6693e-05 - val_loss: 4.2870e-05\n",
      "Epoch 15/100\n",
      "59/59 [==============================] - 1s 20ms/step - loss: 5.0998e-05 - val_loss: 4.6784e-05\n",
      "Epoch 16/100\n",
      "59/59 [==============================] - 1s 20ms/step - loss: 4.4637e-05 - val_loss: 4.1431e-05\n",
      "Epoch 17/100\n",
      "59/59 [==============================] - 1s 20ms/step - loss: 4.7172e-05 - val_loss: 3.5815e-05\n",
      "Epoch 18/100\n",
      "59/59 [==============================] - 1s 21ms/step - loss: 4.9470e-05 - val_loss: 3.3631e-05\n",
      "Epoch 19/100\n",
      "59/59 [==============================] - 1s 22ms/step - loss: 5.1171e-05 - val_loss: 3.3624e-05\n",
      "Epoch 20/100\n",
      "59/59 [==============================] - 1s 23ms/step - loss: 4.2868e-05 - val_loss: 3.6472e-05\n",
      "Epoch 21/100\n",
      "59/59 [==============================] - 1s 20ms/step - loss: 4.7523e-05 - val_loss: 4.4651e-05\n",
      "Epoch 22/100\n",
      "59/59 [==============================] - 1s 20ms/step - loss: 4.4381e-05 - val_loss: 4.4398e-05\n",
      "Epoch 23/100\n",
      "59/59 [==============================] - 1s 20ms/step - loss: 4.3909e-05 - val_loss: 3.9152e-05\n",
      "Epoch 24/100\n",
      "59/59 [==============================] - 1s 20ms/step - loss: 4.6551e-05 - val_loss: 3.2139e-05\n",
      "Epoch 25/100\n",
      "59/59 [==============================] - 1s 20ms/step - loss: 4.1983e-05 - val_loss: 3.0742e-05\n",
      "Epoch 26/100\n",
      "59/59 [==============================] - 1s 21ms/step - loss: 4.0512e-05 - val_loss: 3.0984e-05\n",
      "Epoch 27/100\n",
      "59/59 [==============================] - 1s 21ms/step - loss: 4.7117e-05 - val_loss: 3.4920e-05\n",
      "Epoch 28/100\n",
      "59/59 [==============================] - 1s 21ms/step - loss: 4.6387e-05 - val_loss: 2.9588e-05\n",
      "Epoch 29/100\n",
      "59/59 [==============================] - 1s 21ms/step - loss: 4.1510e-05 - val_loss: 4.0250e-05\n",
      "Epoch 30/100\n",
      "59/59 [==============================] - 1s 21ms/step - loss: 4.6307e-05 - val_loss: 2.8313e-05\n",
      "Epoch 31/100\n",
      "59/59 [==============================] - 1s 21ms/step - loss: 3.8954e-05 - val_loss: 3.1228e-05\n",
      "Epoch 32/100\n",
      "59/59 [==============================] - 1s 21ms/step - loss: 4.2496e-05 - val_loss: 3.7297e-05\n",
      "Epoch 33/100\n",
      "59/59 [==============================] - 1s 22ms/step - loss: 4.0922e-05 - val_loss: 3.7520e-05\n",
      "Epoch 34/100\n",
      "59/59 [==============================] - 1s 22ms/step - loss: 3.9937e-05 - val_loss: 3.4083e-05\n",
      "Epoch 35/100\n",
      "59/59 [==============================] - 1s 23ms/step - loss: 3.7311e-05 - val_loss: 2.9266e-05\n",
      "Epoch 36/100\n",
      "59/59 [==============================] - 1s 23ms/step - loss: 4.0274e-05 - val_loss: 2.8268e-05\n",
      "Epoch 37/100\n",
      "59/59 [==============================] - 1s 22ms/step - loss: 4.4209e-05 - val_loss: 3.7201e-05\n",
      "Epoch 38/100\n",
      "59/59 [==============================] - 1s 21ms/step - loss: 4.2544e-05 - val_loss: 3.1845e-05\n",
      "Epoch 39/100\n",
      "59/59 [==============================] - 1s 21ms/step - loss: 3.5286e-05 - val_loss: 2.8009e-05\n",
      "Epoch 40/100\n",
      "59/59 [==============================] - 1s 21ms/step - loss: 3.7587e-05 - val_loss: 3.1010e-05\n",
      "Epoch 41/100\n",
      "59/59 [==============================] - 1s 21ms/step - loss: 3.8510e-05 - val_loss: 3.8828e-05\n",
      "Epoch 42/100\n",
      "59/59 [==============================] - 1s 21ms/step - loss: 3.6939e-05 - val_loss: 2.8886e-05\n",
      "Epoch 43/100\n",
      "59/59 [==============================] - 1s 21ms/step - loss: 3.9180e-05 - val_loss: 2.9301e-05\n",
      "Epoch 44/100\n",
      "59/59 [==============================] - 1s 22ms/step - loss: 4.2968e-05 - val_loss: 2.4414e-05\n",
      "Epoch 45/100\n",
      "59/59 [==============================] - 1s 21ms/step - loss: 4.2444e-05 - val_loss: 2.7987e-05\n",
      "Epoch 46/100\n",
      "59/59 [==============================] - 1s 22ms/step - loss: 3.6929e-05 - val_loss: 2.5040e-05\n",
      "Epoch 47/100\n",
      "59/59 [==============================] - 1s 21ms/step - loss: 3.6840e-05 - val_loss: 2.6881e-05\n",
      "Epoch 48/100\n",
      "59/59 [==============================] - 1s 21ms/step - loss: 3.8082e-05 - val_loss: 4.0183e-05\n",
      "Epoch 49/100\n",
      "59/59 [==============================] - 1s 21ms/step - loss: 4.0161e-05 - val_loss: 2.5426e-05\n"
     ]
    }
   ],
   "source": [
    "from keras.callbacks import EarlyStopping\n",
    "\n",
    "callback = EarlyStopping(monitor='loss', patience=10, restore_best_weights=True)\n",
    "checkpoint_callback = ModelCheckpoint(model_name+'.h5', monitor='val_loss', verbose=1, save_best_only=True, mode='min')\n",
    "\n",
    "\n",
    "history = model.fit(X_train, y_train, validation_data=(X_test, y_test), epochs=100, batch_size=32, verbose=1, callbacks=[callback], shuffle=True)"
   ]
  },
  {
   "cell_type": "code",
   "execution_count": 31,
   "id": "1ca52dc8-fc3a-4ed3-bee0-39836360110a",
   "metadata": {},
   "outputs": [
    {
     "name": "stdout",
     "output_type": "stream",
     "text": [
      "Model: \"sequential\"\n",
      "_________________________________________________________________\n",
      " Layer (type)                Output Shape              Param #   \n",
      "=================================================================\n",
      " lstm (LSTM)                 (None, 100)               40800     \n",
      "                                                                 \n",
      " dropout (Dropout)           (None, 100)               0         \n",
      "                                                                 \n",
      " dense (Dense)               (None, 1)                 101       \n",
      "                                                                 \n",
      " activation (Activation)     (None, 1)                 0         \n",
      "                                                                 \n",
      "=================================================================\n",
      "Total params: 40,901\n",
      "Trainable params: 40,901\n",
      "Non-trainable params: 0\n",
      "_________________________________________________________________\n"
     ]
    }
   ],
   "source": [
    "model.summary()"
   ]
  },
  {
   "cell_type": "code",
   "execution_count": 32,
   "id": "eb563dff-c283-433e-b4dc-2d2fadaa29f2",
   "metadata": {},
   "outputs": [
    {
     "name": "stdout",
     "output_type": "stream",
     "text": [
      "18/18 [==============================] - 1s 6ms/step\n"
     ]
    }
   ],
   "source": [
    "from keras.metrics import mean_absolute_error\n",
    "\n",
    "X_testing = []\n",
    "y_testing = []\n",
    "\n",
    "for i in range(time_steps, len(test_data)):\n",
    "    X_testing.append(test_scaled_data[i-time_steps:i,0])\n",
    "    y_testing.append(test_scaled_data[i, 0])\n",
    "\n",
    "X_testing, y_testing = np.array(X_testing), np.array(y_testing)\n",
    "X_testing = np.reshape(X_testing, (X_testing.shape[0], X_testing.shape[1], 1))\n",
    "\n",
    "predicted_price = model.predict(X_testing)\n",
    "inv_price = sc.inverse_transform(predicted_price)\n",
    "real_price = np.reshape(y_testing, (-1,1))\n",
    "real_price = sc.inverse_transform(real_price)"
   ]
  },
  {
   "cell_type": "code",
   "execution_count": 33,
   "id": "39ddff0a-1fda-4ad8-801b-3cea7d6f1d19",
   "metadata": {},
   "outputs": [
    {
     "data": {
      "text/plain": [
       "<matplotlib.legend.Legend at 0x23d18747e80>"
      ]
     },
     "execution_count": 33,
     "metadata": {},
     "output_type": "execute_result"
    },
    {
     "data": {
      "image/png": "[encoded data removed]",
      "text/plain": [
       "<Figure size 936x504 with 1 Axes>"
      ]
     },
     "metadata": {},
     "output_type": "display_data"
    }
   ],
   "source": [
    "fig, ax = plt.subplots(1, figsize=(13, 7))\n",
    "ax.plot(real_price, label='Real', linewidth=2)\n",
    "ax.plot(inv_price, label='Pred', linewidth=2)\n",
    "ax.set_ylabel('Price USD', fontsize=14)\n",
    "ax.set_title('', fontsize=16)\n",
    "ax.legend(loc='best', fontsize=16)"
   ]
  },
  {
   "cell_type": "code",
   "execution_count": 39,
   "id": "69149aa7-8535-4361-b2ad-0d728312e9a0",
   "metadata": {},
   "outputs": [
    {
     "data": {
      "text/plain": [
       "888.9706536792816"
      ]
     },
     "execution_count": 39,
     "metadata": {},
     "output_type": "execute_result"
    }
   ],
   "source": [
    "from sklearn.metrics import mean_absolute_error\n",
    "\n",
    "mean_absolute_error(real_price, inv_price)\n"
   ]
  },
  {
   "cell_type": "code",
   "execution_count": null,
   "id": "a2c8b60a-2ec6-4272-becd-fdc17e8f2a9b",
   "metadata": {},
   "outputs": [],
   "source": []
  }
 ],
 "metadata": {
  "kernelspec": {
   "display_name": "Python 3",
   "language": "python",
   "name": "python3"
  },
  "language_info": {
   "codemirror_mode": {
    "name": "ipython",
    "version": 3
   },
   "file_extension": ".py",
   "mimetype": "text/x-python",
   "name": "python",
   "nbconvert_exporter": "python",
   "pygments_lexer": "ipython3",
   "version": "3.8.10"
  }
 },
 "nbformat": 4,
 "nbformat_minor": 5
}
