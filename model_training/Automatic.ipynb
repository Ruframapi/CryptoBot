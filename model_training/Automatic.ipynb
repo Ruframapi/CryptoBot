{
 "cells": [
  {
   "cell_type": "code",
   "execution_count": 1,
   "id": "6e847c4a-47d2-4b32-8ff8-e52aee368d45",
   "metadata": {},
   "outputs": [],
   "source": [
    "import pandas as pd\n",
    "import numpy as np\n",
    "import matplotlib.pyplot as plt\n",
    "import seaborn as sns\n",
    "from warnings import filterwarnings\n",
    "filterwarnings(\"ignore\")\n",
    "from sklearn.metrics import mean_squared_error\n",
    "from sklearn.preprocessing import MinMaxScaler\n",
    "from sklearn.model_selection import GridSearchCV, train_test_split\n",
    "from pickle import dump"
   ]
  },
  {
   "cell_type": "code",
   "execution_count": 2,
   "id": "04611be0-8946-441a-a124-b300dd9d07be",
   "metadata": {},
   "outputs": [],
   "source": [
    "#fig, ax = plt.subplots(1, figsize=(13, 7))\n",
    "#ax.plot(train_data[objective], label='Train', linewidth=2)\n",
    "#ax.plot(test_data[objective], label='Test', linewidth=2)\n",
    "#ax.set_ylabel('Price USD', fontsize=14)\n",
    "#ax.set_title('', fontsize=16)\n",
    "#ax.legend(loc='best', fontsize=16)"
   ]
  },
  {
   "cell_type": "code",
   "execution_count": 3,
   "id": "2683fb5c-6e2a-4f49-8ad2-e7572565ac0d",
   "metadata": {},
   "outputs": [],
   "source": [
    "def trainingsteps(objective, partial_name, train, train_data, test_data):\n",
    "    #Seleccone el onjetivo\n",
    "    datacol = train[objective].values\n",
    "    traincol = train_data[objective].values\n",
    "    testcol = test_data[objective].values\n",
    "    #Reshape\n",
    "    shaped_data = np.reshape(datacol, (-1,1))\n",
    "    train_shaped = np.reshape(traincol, (-1,1))\n",
    "    test_shaped = np.reshape(testcol, (-1,1))\n",
    "    #Reescalar el objetivo\n",
    "    sc = MinMaxScaler(feature_range=(0,1))\n",
    "    sc.fit(shaped_data)\n",
    "    dump(sc, open('models/'+partial_name+'_scaler.pkl', 'wb'))\n",
    "    train_scaled_data = sc.transform(train_shaped)\n",
    "    test_scaled_data = sc.transform(test_shaped)\n",
    "    return train_scaled_data, test_scaled_data\n",
    "\n",
    "def seriesdefinition(time_steps,lendata,data):\n",
    "    X = []\n",
    "    y = []\n",
    "\n",
    "    for i in range(time_steps, lendata):\n",
    "        X.append(data[i-time_steps:i,0])\n",
    "        y.append(data[i, 0])\n",
    "\n",
    "    X, y = np.array(X), np.array(y)\n",
    "    X = np.reshape(X, (X.shape[0], X.shape[1], 1))\n",
    "    X_train, X_test, y_train, y_test = train_test_split(X, y, test_size=0.2)\n",
    "    return X_train, X_test, y_train, y_test"
   ]
  },
  {
   "cell_type": "code",
   "execution_count": 4,
   "id": "71ba95b2-fd21-44a9-b082-3499fa9dea04",
   "metadata": {},
   "outputs": [],
   "source": [
    "from keras.models import Sequential\n",
    "from keras.layers import LSTM\n",
    "from keras.layers import Dense\n",
    "from keras.layers import Dropout\n",
    "from keras.layers import Activation\n",
    "from keras.callbacks import EarlyStopping, ModelCheckpoint\n",
    "\n",
    "def modeldefinition():\n",
    "    model = Sequential()\n",
    "    model.add(LSTM(units=100, input_shape=(X_train.shape[1], X_train.shape[2])))\n",
    "    model.add(Dropout(0.2))\n",
    "    model.add(Dense(1))\n",
    "    model.add(Activation('linear'))\n",
    "    model.compile(optimizer='adam', loss='mse')\n",
    "    return model"
   ]
  },
  {
   "cell_type": "code",
   "execution_count": 5,
   "id": "44bb3412-2307-4efa-9d40-ca20c0bebfab",
   "metadata": {},
   "outputs": [],
   "source": [
    "def training(X_train,y_train,partialname):\n",
    "    model = modeldefinition()\n",
    "    callback = EarlyStopping(monitor='loss', patience=10, restore_best_weights=True)\n",
    "    checkpoint_callback = ModelCheckpoint('models/'+partialname+'.ckpt', monitor='val_loss', verbose=1, save_best_only=True, mode='min')\n",
    "    history = model.fit(X_train, y_train, validation_data=(X_test, y_test), epochs=100, batch_size=32, verbose=1, callbacks=[callback,checkpoint_callback], shuffle=True)"
   ]
  },
  {
   "cell_type": "code",
   "execution_count": 6,
   "id": "92a839f9-b303-4507-8ab3-72572caebb86",
   "metadata": {},
   "outputs": [
    {
     "name": "stdout",
     "output_type": "stream",
     "text": [
      "Epoch 1/100\n",
      "52/54 [===========================>..] - ETA: 0s - loss: 1.4826e-05\n",
      "Epoch 1: val_loss improved from inf to 0.00001, saving model to models\\LSTM Dogecoin.ckpt\n"
     ]
    },
    {
     "name": "stderr",
     "output_type": "stream",
     "text": [
      "WARNING:absl:Found untraced functions such as lstm_cell_layer_call_fn, lstm_cell_layer_call_and_return_conditional_losses while saving (showing 2 of 2). These functions will not be directly callable after loading.\n"
     ]
    },
    {
     "name": "stdout",
     "output_type": "stream",
     "text": [
      "INFO:tensorflow:Assets written to: models\\LSTM Dogecoin.ckpt\\assets\n"
     ]
    },
    {
     "name": "stderr",
     "output_type": "stream",
     "text": [
      "INFO:tensorflow:Assets written to: models\\LSTM Dogecoin.ckpt\\assets\n"
     ]
    },
    {
     "name": "stdout",
     "output_type": "stream",
     "text": [
      "54/54 [==============================] - 9s 138ms/step - loss: 1.4396e-05 - val_loss: 5.5042e-06\n",
      "Epoch 2/100\n",
      "52/54 [===========================>..] - ETA: 0s - loss: 2.4355e-06\n",
      "Epoch 2: val_loss improved from 0.00001 to 0.00000, saving model to models\\LSTM Dogecoin.ckpt\n"
     ]
    },
    {
     "name": "stderr",
     "output_type": "stream",
     "text": [
      "WARNING:absl:Found untraced functions such as lstm_cell_layer_call_fn, lstm_cell_layer_call_and_return_conditional_losses while saving (showing 2 of 2). These functions will not be directly callable after loading.\n"
     ]
    },
    {
     "name": "stdout",
     "output_type": "stream",
     "text": [
      "INFO:tensorflow:Assets written to: models\\LSTM Dogecoin.ckpt\\assets\n"
     ]
    },
    {
     "name": "stderr",
     "output_type": "stream",
     "text": [
      "INFO:tensorflow:Assets written to: models\\LSTM Dogecoin.ckpt\\assets\n"
     ]
    },
    {
     "name": "stdout",
     "output_type": "stream",
     "text": [
      "54/54 [==============================] - 7s 130ms/step - loss: 2.3751e-06 - val_loss: 1.2420e-06\n",
      "Epoch 3/100\n",
      "52/54 [===========================>..] - ETA: 0s - loss: 9.0107e-07\n",
      "Epoch 3: val_loss improved from 0.00000 to 0.00000, saving model to models\\LSTM Dogecoin.ckpt\n"
     ]
    },
    {
     "name": "stderr",
     "output_type": "stream",
     "text": [
      "WARNING:absl:Found untraced functions such as lstm_cell_layer_call_fn, lstm_cell_layer_call_and_return_conditional_losses while saving (showing 2 of 2). These functions will not be directly callable after loading.\n"
     ]
    },
    {
     "name": "stdout",
     "output_type": "stream",
     "text": [
      "INFO:tensorflow:Assets written to: models\\LSTM Dogecoin.ckpt\\assets\n"
     ]
    },
    {
     "name": "stderr",
     "output_type": "stream",
     "text": [
      "INFO:tensorflow:Assets written to: models\\LSTM Dogecoin.ckpt\\assets\n"
     ]
    },
    {
     "name": "stdout",
     "output_type": "stream",
     "text": [
      "54/54 [==============================] - 7s 130ms/step - loss: 9.0939e-07 - val_loss: 1.2013e-06\n",
      "Epoch 4/100\n",
      "52/54 [===========================>..] - ETA: 0s - loss: 7.2482e-07\n",
      "Epoch 4: val_loss improved from 0.00000 to 0.00000, saving model to models\\LSTM Dogecoin.ckpt\n"
     ]
    },
    {
     "name": "stderr",
     "output_type": "stream",
     "text": [
      "WARNING:absl:Found untraced functions such as lstm_cell_layer_call_fn, lstm_cell_layer_call_and_return_conditional_losses while saving (showing 2 of 2). These functions will not be directly callable after loading.\n"
     ]
    },
    {
     "name": "stdout",
     "output_type": "stream",
     "text": [
      "INFO:tensorflow:Assets written to: models\\LSTM Dogecoin.ckpt\\assets\n"
     ]
    },
    {
     "name": "stderr",
     "output_type": "stream",
     "text": [
      "INFO:tensorflow:Assets written to: models\\LSTM Dogecoin.ckpt\\assets\n"
     ]
    },
    {
     "name": "stdout",
     "output_type": "stream",
     "text": [
      "54/54 [==============================] - 7s 135ms/step - loss: 7.2064e-07 - val_loss: 7.8329e-07\n",
      "Epoch 5/100\n",
      "52/54 [===========================>..] - ETA: 0s - loss: 9.8425e-07\n",
      "Epoch 5: val_loss did not improve from 0.00000\n",
      "54/54 [==============================] - 1s 22ms/step - loss: 9.7588e-07 - val_loss: 1.1595e-06\n",
      "Epoch 6/100\n",
      "52/54 [===========================>..] - ETA: 0s - loss: 6.6774e-07\n",
      "Epoch 6: val_loss did not improve from 0.00000\n",
      "54/54 [==============================] - 1s 21ms/step - loss: 6.5048e-07 - val_loss: 9.5386e-07\n",
      "Epoch 7/100\n",
      "54/54 [==============================] - ETA: 0s - loss: 6.2143e-07\n",
      "Epoch 7: val_loss improved from 0.00000 to 0.00000, saving model to models\\LSTM Dogecoin.ckpt\n"
     ]
    },
    {
     "name": "stderr",
     "output_type": "stream",
     "text": [
      "WARNING:absl:Found untraced functions such as lstm_cell_layer_call_fn, lstm_cell_layer_call_and_return_conditional_losses while saving (showing 2 of 2). These functions will not be directly callable after loading.\n"
     ]
    },
    {
     "name": "stdout",
     "output_type": "stream",
     "text": [
      "INFO:tensorflow:Assets written to: models\\LSTM Dogecoin.ckpt\\assets\n"
     ]
    },
    {
     "name": "stderr",
     "output_type": "stream",
     "text": [
      "INFO:tensorflow:Assets written to: models\\LSTM Dogecoin.ckpt\\assets\n"
     ]
    },
    {
     "name": "stdout",
     "output_type": "stream",
     "text": [
      "54/54 [==============================] - 7s 133ms/step - loss: 6.2143e-07 - val_loss: 5.5573e-07\n",
      "Epoch 8/100\n",
      "52/54 [===========================>..] - ETA: 0s - loss: 5.4321e-07\n",
      "Epoch 8: val_loss did not improve from 0.00000\n",
      "54/54 [==============================] - 1s 21ms/step - loss: 5.3498e-07 - val_loss: 6.8261e-07\n",
      "Epoch 9/100\n",
      "52/54 [===========================>..] - ETA: 0s - loss: 6.4432e-07\n",
      "Epoch 9: val_loss did not improve from 0.00000\n",
      "54/54 [==============================] - 1s 21ms/step - loss: 6.3834e-07 - val_loss: 1.0416e-06\n",
      "Epoch 10/100\n",
      "52/54 [===========================>..] - ETA: 0s - loss: 4.9278e-07\n",
      "Epoch 10: val_loss improved from 0.00000 to 0.00000, saving model to models\\LSTM Dogecoin.ckpt\n"
     ]
    },
    {
     "name": "stderr",
     "output_type": "stream",
     "text": [
      "WARNING:absl:Found untraced functions such as lstm_cell_layer_call_fn, lstm_cell_layer_call_and_return_conditional_losses while saving (showing 2 of 2). These functions will not be directly callable after loading.\n"
     ]
    },
    {
     "name": "stdout",
     "output_type": "stream",
     "text": [
      "INFO:tensorflow:Assets written to: models\\LSTM Dogecoin.ckpt\\assets\n"
     ]
    },
    {
     "name": "stderr",
     "output_type": "stream",
     "text": [
      "INFO:tensorflow:Assets written to: models\\LSTM Dogecoin.ckpt\\assets\n"
     ]
    },
    {
     "name": "stdout",
     "output_type": "stream",
     "text": [
      "54/54 [==============================] - 7s 136ms/step - loss: 5.2926e-07 - val_loss: 4.0856e-07\n",
      "Epoch 11/100\n",
      "52/54 [===========================>..] - ETA: 0s - loss: 4.5675e-07\n",
      "Epoch 11: val_loss did not improve from 0.00000\n",
      "54/54 [==============================] - 1s 21ms/step - loss: 4.7244e-07 - val_loss: 4.2427e-07\n",
      "Epoch 12/100\n",
      "52/54 [===========================>..] - ETA: 0s - loss: 5.0459e-07\n",
      "Epoch 12: val_loss did not improve from 0.00000\n",
      "54/54 [==============================] - 1s 21ms/step - loss: 5.1817e-07 - val_loss: 9.9222e-07\n",
      "Epoch 13/100\n",
      "52/54 [===========================>..] - ETA: 0s - loss: 6.2994e-07\n",
      "Epoch 13: val_loss did not improve from 0.00000\n",
      "54/54 [==============================] - 1s 22ms/step - loss: 6.2566e-07 - val_loss: 4.8470e-07\n",
      "Epoch 14/100\n",
      "54/54 [==============================] - ETA: 0s - loss: 4.8911e-07\n",
      "Epoch 14: val_loss did not improve from 0.00000\n",
      "54/54 [==============================] - 1s 23ms/step - loss: 4.8911e-07 - val_loss: 7.1904e-07\n",
      "Epoch 15/100\n",
      "52/54 [===========================>..] - ETA: 0s - loss: 4.9892e-07\n",
      "Epoch 15: val_loss improved from 0.00000 to 0.00000, saving model to models\\LSTM Dogecoin.ckpt\n"
     ]
    },
    {
     "name": "stderr",
     "output_type": "stream",
     "text": [
      "WARNING:absl:Found untraced functions such as lstm_cell_layer_call_fn, lstm_cell_layer_call_and_return_conditional_losses while saving (showing 2 of 2). These functions will not be directly callable after loading.\n"
     ]
    },
    {
     "name": "stdout",
     "output_type": "stream",
     "text": [
      "INFO:tensorflow:Assets written to: models\\LSTM Dogecoin.ckpt\\assets\n"
     ]
    },
    {
     "name": "stderr",
     "output_type": "stream",
     "text": [
      "INFO:tensorflow:Assets written to: models\\LSTM Dogecoin.ckpt\\assets\n"
     ]
    },
    {
     "name": "stdout",
     "output_type": "stream",
     "text": [
      "54/54 [==============================] - 7s 131ms/step - loss: 4.8993e-07 - val_loss: 3.6717e-07\n",
      "Epoch 16/100\n",
      "53/54 [============================>.] - ETA: 0s - loss: 4.6369e-07\n",
      "Epoch 16: val_loss did not improve from 0.00000\n",
      "54/54 [==============================] - 1s 25ms/step - loss: 4.7131e-07 - val_loss: 3.7836e-07\n",
      "Epoch 17/100\n",
      "52/54 [===========================>..] - ETA: 0s - loss: 4.8695e-07\n",
      "Epoch 17: val_loss did not improve from 0.00000\n",
      "54/54 [==============================] - 1s 22ms/step - loss: 5.0195e-07 - val_loss: 8.3133e-07\n",
      "Epoch 18/100\n",
      "52/54 [===========================>..] - ETA: 0s - loss: 5.5321e-07\n",
      "Epoch 18: val_loss improved from 0.00000 to 0.00000, saving model to models\\LSTM Dogecoin.ckpt\n"
     ]
    },
    {
     "name": "stderr",
     "output_type": "stream",
     "text": [
      "WARNING:absl:Found untraced functions such as lstm_cell_layer_call_fn, lstm_cell_layer_call_and_return_conditional_losses while saving (showing 2 of 2). These functions will not be directly callable after loading.\n"
     ]
    },
    {
     "name": "stdout",
     "output_type": "stream",
     "text": [
      "INFO:tensorflow:Assets written to: models\\LSTM Dogecoin.ckpt\\assets\n"
     ]
    },
    {
     "name": "stderr",
     "output_type": "stream",
     "text": [
      "INFO:tensorflow:Assets written to: models\\LSTM Dogecoin.ckpt\\assets\n"
     ]
    },
    {
     "name": "stdout",
     "output_type": "stream",
     "text": [
      "54/54 [==============================] - 7s 134ms/step - loss: 5.6316e-07 - val_loss: 2.9929e-07\n",
      "Epoch 19/100\n",
      "52/54 [===========================>..] - ETA: 0s - loss: 3.7648e-07\n",
      "Epoch 19: val_loss did not improve from 0.00000\n",
      "54/54 [==============================] - 1s 22ms/step - loss: 3.7049e-07 - val_loss: 3.6973e-07\n",
      "Epoch 20/100\n",
      "52/54 [===========================>..] - ETA: 0s - loss: 4.5989e-07\n",
      "Epoch 20: val_loss did not improve from 0.00000\n",
      "54/54 [==============================] - 1s 22ms/step - loss: 4.5287e-07 - val_loss: 2.9935e-07\n",
      "Epoch 21/100\n",
      "54/54 [==============================] - ETA: 0s - loss: 4.2685e-07\n",
      "Epoch 21: val_loss did not improve from 0.00000\n",
      "54/54 [==============================] - 1s 22ms/step - loss: 4.2685e-07 - val_loss: 7.3776e-07\n",
      "Epoch 22/100\n",
      "52/54 [===========================>..] - ETA: 0s - loss: 5.7530e-07\n",
      "Epoch 22: val_loss did not improve from 0.00000\n",
      "54/54 [==============================] - 1s 22ms/step - loss: 5.6545e-07 - val_loss: 3.2473e-07\n",
      "Epoch 23/100\n",
      "52/54 [===========================>..] - ETA: 0s - loss: 4.5824e-07\n",
      "Epoch 23: val_loss improved from 0.00000 to 0.00000, saving model to models\\LSTM Dogecoin.ckpt\n"
     ]
    },
    {
     "name": "stderr",
     "output_type": "stream",
     "text": [
      "WARNING:absl:Found untraced functions such as lstm_cell_layer_call_fn, lstm_cell_layer_call_and_return_conditional_losses while saving (showing 2 of 2). These functions will not be directly callable after loading.\n"
     ]
    },
    {
     "name": "stdout",
     "output_type": "stream",
     "text": [
      "INFO:tensorflow:Assets written to: models\\LSTM Dogecoin.ckpt\\assets\n"
     ]
    },
    {
     "name": "stderr",
     "output_type": "stream",
     "text": [
      "INFO:tensorflow:Assets written to: models\\LSTM Dogecoin.ckpt\\assets\n"
     ]
    },
    {
     "name": "stdout",
     "output_type": "stream",
     "text": [
      "54/54 [==============================] - 7s 135ms/step - loss: 4.5272e-07 - val_loss: 2.7495e-07\n",
      "Epoch 24/100\n",
      "52/54 [===========================>..] - ETA: 0s - loss: 3.1597e-07\n",
      "Epoch 24: val_loss improved from 0.00000 to 0.00000, saving model to models\\LSTM Dogecoin.ckpt\n"
     ]
    },
    {
     "name": "stderr",
     "output_type": "stream",
     "text": [
      "WARNING:absl:Found untraced functions such as lstm_cell_layer_call_fn, lstm_cell_layer_call_and_return_conditional_losses while saving (showing 2 of 2). These functions will not be directly callable after loading.\n"
     ]
    },
    {
     "name": "stdout",
     "output_type": "stream",
     "text": [
      "INFO:tensorflow:Assets written to: models\\LSTM Dogecoin.ckpt\\assets\n"
     ]
    },
    {
     "name": "stderr",
     "output_type": "stream",
     "text": [
      "INFO:tensorflow:Assets written to: models\\LSTM Dogecoin.ckpt\\assets\n"
     ]
    },
    {
     "name": "stdout",
     "output_type": "stream",
     "text": [
      "54/54 [==============================] - 7s 136ms/step - loss: 3.1225e-07 - val_loss: 2.3730e-07\n",
      "Epoch 25/100\n",
      "52/54 [===========================>..] - ETA: 0s - loss: 3.9171e-07\n",
      "Epoch 25: val_loss did not improve from 0.00000\n",
      "54/54 [==============================] - 1s 22ms/step - loss: 3.9852e-07 - val_loss: 3.6723e-07\n",
      "Epoch 26/100\n",
      "52/54 [===========================>..] - ETA: 0s - loss: 4.9341e-07\n",
      "Epoch 26: val_loss did not improve from 0.00000\n",
      "54/54 [==============================] - 1s 21ms/step - loss: 4.9091e-07 - val_loss: 2.9876e-07\n",
      "Epoch 27/100\n",
      "53/54 [============================>.] - ETA: 0s - loss: 3.4260e-07\n",
      "Epoch 27: val_loss did not improve from 0.00000\n",
      "54/54 [==============================] - 1s 23ms/step - loss: 3.3738e-07 - val_loss: 2.6821e-07\n",
      "Epoch 28/100\n",
      "52/54 [===========================>..] - ETA: 0s - loss: 3.2978e-07\n",
      "Epoch 28: val_loss did not improve from 0.00000\n",
      "54/54 [==============================] - 1s 23ms/step - loss: 3.2559e-07 - val_loss: 2.7528e-07\n",
      "Epoch 29/100\n",
      "54/54 [==============================] - ETA: 0s - loss: 3.6314e-07\n",
      "Epoch 29: val_loss did not improve from 0.00000\n",
      "54/54 [==============================] - 1s 22ms/step - loss: 3.6314e-07 - val_loss: 3.5576e-07\n",
      "Epoch 30/100\n",
      "52/54 [===========================>..] - ETA: 0s - loss: 4.1521e-07\n",
      "Epoch 30: val_loss did not improve from 0.00000\n",
      "54/54 [==============================] - 1s 24ms/step - loss: 4.1987e-07 - val_loss: 2.4155e-07\n",
      "Epoch 31/100\n",
      "52/54 [===========================>..] - ETA: 0s - loss: 3.7943e-07\n",
      "Epoch 31: val_loss did not improve from 0.00000\n",
      "54/54 [==============================] - 1s 22ms/step - loss: 3.7549e-07 - val_loss: 2.5142e-07\n",
      "Epoch 32/100\n",
      "52/54 [===========================>..] - ETA: 0s - loss: 3.0141e-07\n",
      "Epoch 32: val_loss improved from 0.00000 to 0.00000, saving model to models\\LSTM Dogecoin.ckpt\n"
     ]
    },
    {
     "name": "stderr",
     "output_type": "stream",
     "text": [
      "WARNING:absl:Found untraced functions such as lstm_cell_layer_call_fn, lstm_cell_layer_call_and_return_conditional_losses while saving (showing 2 of 2). These functions will not be directly callable after loading.\n"
     ]
    },
    {
     "name": "stdout",
     "output_type": "stream",
     "text": [
      "INFO:tensorflow:Assets written to: models\\LSTM Dogecoin.ckpt\\assets\n"
     ]
    },
    {
     "name": "stderr",
     "output_type": "stream",
     "text": [
      "INFO:tensorflow:Assets written to: models\\LSTM Dogecoin.ckpt\\assets\n"
     ]
    },
    {
     "name": "stdout",
     "output_type": "stream",
     "text": [
      "54/54 [==============================] - 7s 137ms/step - loss: 3.0046e-07 - val_loss: 2.2855e-07\n",
      "Epoch 33/100\n",
      "54/54 [==============================] - ETA: 0s - loss: 3.6639e-07\n",
      "Epoch 33: val_loss did not improve from 0.00000\n",
      "54/54 [==============================] - 1s 24ms/step - loss: 3.6639e-07 - val_loss: 3.1132e-07\n",
      "Epoch 34/100\n",
      "52/54 [===========================>..] - ETA: 0s - loss: 5.2201e-07\n",
      "Epoch 34: val_loss did not improve from 0.00000\n",
      "54/54 [==============================] - 1s 22ms/step - loss: 5.1176e-07 - val_loss: 4.9737e-07\n",
      "Epoch 35/100\n",
      "52/54 [===========================>..] - ETA: 0s - loss: 3.9844e-07\n",
      "Epoch 35: val_loss did not improve from 0.00000\n",
      "54/54 [==============================] - 1s 24ms/step - loss: 3.9041e-07 - val_loss: 3.0715e-07\n",
      "Epoch 36/100\n",
      "54/54 [==============================] - ETA: 0s - loss: 2.8167e-07\n",
      "Epoch 36: val_loss improved from 0.00000 to 0.00000, saving model to models\\LSTM Dogecoin.ckpt\n"
     ]
    },
    {
     "name": "stderr",
     "output_type": "stream",
     "text": [
      "WARNING:absl:Found untraced functions such as lstm_cell_layer_call_fn, lstm_cell_layer_call_and_return_conditional_losses while saving (showing 2 of 2). These functions will not be directly callable after loading.\n"
     ]
    },
    {
     "name": "stdout",
     "output_type": "stream",
     "text": [
      "INFO:tensorflow:Assets written to: models\\LSTM Dogecoin.ckpt\\assets\n"
     ]
    },
    {
     "name": "stderr",
     "output_type": "stream",
     "text": [
      "INFO:tensorflow:Assets written to: models\\LSTM Dogecoin.ckpt\\assets\n"
     ]
    },
    {
     "name": "stdout",
     "output_type": "stream",
     "text": [
      "54/54 [==============================] - 8s 149ms/step - loss: 2.8167e-07 - val_loss: 2.1575e-07\n",
      "Epoch 37/100\n",
      "53/54 [============================>.] - ETA: 0s - loss: 3.5764e-07\n",
      "Epoch 37: val_loss did not improve from 0.00000\n",
      "54/54 [==============================] - 1s 25ms/step - loss: 3.5464e-07 - val_loss: 2.3158e-07\n",
      "Epoch 38/100\n",
      "53/54 [============================>.] - ETA: 0s - loss: 4.3469e-07\n",
      "Epoch 38: val_loss did not improve from 0.00000\n",
      "54/54 [==============================] - 1s 25ms/step - loss: 4.2853e-07 - val_loss: 4.9676e-07\n",
      "Epoch 39/100\n",
      "54/54 [==============================] - ETA: 0s - loss: 4.8286e-07\n",
      "Epoch 39: val_loss did not improve from 0.00000\n",
      "54/54 [==============================] - 2s 29ms/step - loss: 4.8286e-07 - val_loss: 2.3766e-07\n",
      "Epoch 40/100\n",
      "52/54 [===========================>..] - ETA: 0s - loss: 4.2167e-07\n",
      "Epoch 40: val_loss did not improve from 0.00000\n",
      "54/54 [==============================] - 1s 22ms/step - loss: 4.1301e-07 - val_loss: 2.2866e-07\n",
      "Epoch 41/100\n",
      "52/54 [===========================>..] - ETA: 0s - loss: 3.3861e-07\n",
      "Epoch 41: val_loss did not improve from 0.00000\n",
      "54/54 [==============================] - 1s 24ms/step - loss: 3.3212e-07 - val_loss: 2.3391e-07\n",
      "Epoch 42/100\n",
      "52/54 [===========================>..] - ETA: 0s - loss: 3.3174e-07\n",
      "Epoch 42: val_loss did not improve from 0.00000\n",
      "54/54 [==============================] - 1s 23ms/step - loss: 3.2756e-07 - val_loss: 2.5020e-07\n",
      "Epoch 43/100\n",
      "54/54 [==============================] - ETA: 0s - loss: 4.2201e-07\n",
      "Epoch 43: val_loss did not improve from 0.00000\n",
      "54/54 [==============================] - 1s 24ms/step - loss: 4.2201e-07 - val_loss: 2.8203e-07\n",
      "Epoch 44/100\n",
      "54/54 [==============================] - ETA: 0s - loss: 3.6498e-07\n",
      "Epoch 44: val_loss did not improve from 0.00000\n",
      "54/54 [==============================] - 1s 25ms/step - loss: 3.6498e-07 - val_loss: 2.2033e-07\n",
      "Epoch 45/100\n",
      "52/54 [===========================>..] - ETA: 0s - loss: 3.2524e-07\n",
      "Epoch 45: val_loss improved from 0.00000 to 0.00000, saving model to models\\LSTM Dogecoin.ckpt\n"
     ]
    },
    {
     "name": "stderr",
     "output_type": "stream",
     "text": [
      "WARNING:absl:Found untraced functions such as lstm_cell_layer_call_fn, lstm_cell_layer_call_and_return_conditional_losses while saving (showing 2 of 2). These functions will not be directly callable after loading.\n"
     ]
    },
    {
     "name": "stdout",
     "output_type": "stream",
     "text": [
      "INFO:tensorflow:Assets written to: models\\LSTM Dogecoin.ckpt\\assets\n"
     ]
    },
    {
     "name": "stderr",
     "output_type": "stream",
     "text": [
      "INFO:tensorflow:Assets written to: models\\LSTM Dogecoin.ckpt\\assets\n"
     ]
    },
    {
     "name": "stdout",
     "output_type": "stream",
     "text": [
      "54/54 [==============================] - 8s 142ms/step - loss: 3.2537e-07 - val_loss: 1.9421e-07\n",
      "Epoch 46/100\n",
      "52/54 [===========================>..] - ETA: 0s - loss: 3.2691e-07\n",
      "Epoch 46: val_loss did not improve from 0.00000\n",
      "54/54 [==============================] - 1s 23ms/step - loss: 3.3200e-07 - val_loss: 1.9889e-07\n",
      "Epoch 1/100\n",
      "58/59 [============================>.] - ETA: 0s - loss: 0.0033\n",
      "Epoch 1: val_loss improved from inf to 0.00121, saving model to models\\LSTM Litecoin.ckpt\n"
     ]
    },
    {
     "name": "stderr",
     "output_type": "stream",
     "text": [
      "WARNING:absl:Found untraced functions such as lstm_cell_1_layer_call_fn, lstm_cell_1_layer_call_and_return_conditional_losses while saving (showing 2 of 2). These functions will not be directly callable after loading.\n"
     ]
    },
    {
     "name": "stdout",
     "output_type": "stream",
     "text": [
      "INFO:tensorflow:Assets written to: models\\LSTM Litecoin.ckpt\\assets\n"
     ]
    },
    {
     "name": "stderr",
     "output_type": "stream",
     "text": [
      "INFO:tensorflow:Assets written to: models\\LSTM Litecoin.ckpt\\assets\n"
     ]
    },
    {
     "name": "stdout",
     "output_type": "stream",
     "text": [
      "59/59 [==============================] - 10s 135ms/step - loss: 0.0032 - val_loss: 0.0012\n",
      "Epoch 2/100\n",
      "58/59 [============================>.] - ETA: 0s - loss: 6.1531e-04\n",
      "Epoch 2: val_loss improved from 0.00121 to 0.00113, saving model to models\\LSTM Litecoin.ckpt\n"
     ]
    },
    {
     "name": "stderr",
     "output_type": "stream",
     "text": [
      "WARNING:absl:Found untraced functions such as lstm_cell_1_layer_call_fn, lstm_cell_1_layer_call_and_return_conditional_losses while saving (showing 2 of 2). These functions will not be directly callable after loading.\n"
     ]
    },
    {
     "name": "stdout",
     "output_type": "stream",
     "text": [
      "INFO:tensorflow:Assets written to: models\\LSTM Litecoin.ckpt\\assets\n"
     ]
    },
    {
     "name": "stderr",
     "output_type": "stream",
     "text": [
      "INFO:tensorflow:Assets written to: models\\LSTM Litecoin.ckpt\\assets\n"
     ]
    },
    {
     "name": "stdout",
     "output_type": "stream",
     "text": [
      "59/59 [==============================] - 8s 135ms/step - loss: 6.1967e-04 - val_loss: 0.0011\n",
      "Epoch 3/100\n",
      "57/59 [===========================>..] - ETA: 0s - loss: 6.2490e-04\n",
      "Epoch 3: val_loss improved from 0.00113 to 0.00098, saving model to models\\LSTM Litecoin.ckpt\n"
     ]
    },
    {
     "name": "stderr",
     "output_type": "stream",
     "text": [
      "WARNING:absl:Found untraced functions such as lstm_cell_1_layer_call_fn, lstm_cell_1_layer_call_and_return_conditional_losses while saving (showing 2 of 2). These functions will not be directly callable after loading.\n"
     ]
    },
    {
     "name": "stdout",
     "output_type": "stream",
     "text": [
      "INFO:tensorflow:Assets written to: models\\LSTM Litecoin.ckpt\\assets\n"
     ]
    },
    {
     "name": "stderr",
     "output_type": "stream",
     "text": [
      "INFO:tensorflow:Assets written to: models\\LSTM Litecoin.ckpt\\assets\n"
     ]
    },
    {
     "name": "stdout",
     "output_type": "stream",
     "text": [
      "59/59 [==============================] - 8s 130ms/step - loss: 6.8836e-04 - val_loss: 9.7948e-04\n",
      "Epoch 4/100\n",
      "58/59 [============================>.] - ETA: 0s - loss: 5.2224e-04\n",
      "Epoch 4: val_loss did not improve from 0.00098\n",
      "59/59 [==============================] - 1s 24ms/step - loss: 5.5106e-04 - val_loss: 0.0010\n",
      "Epoch 5/100\n",
      "58/59 [============================>.] - ETA: 0s - loss: 4.8184e-04\n",
      "Epoch 5: val_loss improved from 0.00098 to 0.00089, saving model to models\\LSTM Litecoin.ckpt\n"
     ]
    },
    {
     "name": "stderr",
     "output_type": "stream",
     "text": [
      "WARNING:absl:Found untraced functions such as lstm_cell_1_layer_call_fn, lstm_cell_1_layer_call_and_return_conditional_losses while saving (showing 2 of 2). These functions will not be directly callable after loading.\n"
     ]
    },
    {
     "name": "stdout",
     "output_type": "stream",
     "text": [
      "INFO:tensorflow:Assets written to: models\\LSTM Litecoin.ckpt\\assets\n"
     ]
    },
    {
     "name": "stderr",
     "output_type": "stream",
     "text": [
      "INFO:tensorflow:Assets written to: models\\LSTM Litecoin.ckpt\\assets\n"
     ]
    },
    {
     "name": "stdout",
     "output_type": "stream",
     "text": [
      "59/59 [==============================] - 8s 134ms/step - loss: 4.8152e-04 - val_loss: 8.8868e-04\n",
      "Epoch 6/100\n",
      "58/59 [============================>.] - ETA: 0s - loss: 4.6514e-04\n",
      "Epoch 6: val_loss did not improve from 0.00089\n",
      "59/59 [==============================] - 1s 23ms/step - loss: 4.6687e-04 - val_loss: 9.5354e-04\n",
      "Epoch 7/100\n",
      "58/59 [============================>.] - ETA: 0s - loss: 3.7579e-04\n",
      "Epoch 7: val_loss improved from 0.00089 to 0.00083, saving model to models\\LSTM Litecoin.ckpt\n"
     ]
    },
    {
     "name": "stderr",
     "output_type": "stream",
     "text": [
      "WARNING:absl:Found untraced functions such as lstm_cell_1_layer_call_fn, lstm_cell_1_layer_call_and_return_conditional_losses while saving (showing 2 of 2). These functions will not be directly callable after loading.\n"
     ]
    },
    {
     "name": "stdout",
     "output_type": "stream",
     "text": [
      "INFO:tensorflow:Assets written to: models\\LSTM Litecoin.ckpt\\assets\n"
     ]
    },
    {
     "name": "stderr",
     "output_type": "stream",
     "text": [
      "INFO:tensorflow:Assets written to: models\\LSTM Litecoin.ckpt\\assets\n"
     ]
    },
    {
     "name": "stdout",
     "output_type": "stream",
     "text": [
      "59/59 [==============================] - 8s 143ms/step - loss: 3.7815e-04 - val_loss: 8.2565e-04\n",
      "Epoch 8/100\n",
      "58/59 [============================>.] - ETA: 0s - loss: 3.6074e-04\n",
      "Epoch 8: val_loss improved from 0.00083 to 0.00074, saving model to models\\LSTM Litecoin.ckpt\n"
     ]
    },
    {
     "name": "stderr",
     "output_type": "stream",
     "text": [
      "WARNING:absl:Found untraced functions such as lstm_cell_1_layer_call_fn, lstm_cell_1_layer_call_and_return_conditional_losses while saving (showing 2 of 2). These functions will not be directly callable after loading.\n"
     ]
    },
    {
     "name": "stdout",
     "output_type": "stream",
     "text": [
      "INFO:tensorflow:Assets written to: models\\LSTM Litecoin.ckpt\\assets\n"
     ]
    },
    {
     "name": "stderr",
     "output_type": "stream",
     "text": [
      "INFO:tensorflow:Assets written to: models\\LSTM Litecoin.ckpt\\assets\n"
     ]
    },
    {
     "name": "stdout",
     "output_type": "stream",
     "text": [
      "59/59 [==============================] - 9s 149ms/step - loss: 3.5811e-04 - val_loss: 7.4312e-04\n",
      "Epoch 9/100\n",
      "59/59 [==============================] - ETA: 0s - loss: 3.9232e-04\n",
      "Epoch 9: val_loss did not improve from 0.00074\n",
      "59/59 [==============================] - 1s 23ms/step - loss: 3.9232e-04 - val_loss: 7.4583e-04\n",
      "Epoch 10/100\n",
      "57/59 [===========================>..] - ETA: 0s - loss: 3.2661e-04\n",
      "Epoch 10: val_loss improved from 0.00074 to 0.00071, saving model to models\\LSTM Litecoin.ckpt\n"
     ]
    },
    {
     "name": "stderr",
     "output_type": "stream",
     "text": [
      "WARNING:absl:Found untraced functions such as lstm_cell_1_layer_call_fn, lstm_cell_1_layer_call_and_return_conditional_losses while saving (showing 2 of 2). These functions will not be directly callable after loading.\n"
     ]
    },
    {
     "name": "stdout",
     "output_type": "stream",
     "text": [
      "INFO:tensorflow:Assets written to: models\\LSTM Litecoin.ckpt\\assets\n"
     ]
    },
    {
     "name": "stderr",
     "output_type": "stream",
     "text": [
      "INFO:tensorflow:Assets written to: models\\LSTM Litecoin.ckpt\\assets\n"
     ]
    },
    {
     "name": "stdout",
     "output_type": "stream",
     "text": [
      "59/59 [==============================] - 8s 130ms/step - loss: 3.2502e-04 - val_loss: 7.0801e-04\n",
      "Epoch 11/100\n",
      "59/59 [==============================] - ETA: 0s - loss: 3.6974e-04\n",
      "Epoch 11: val_loss did not improve from 0.00071\n",
      "59/59 [==============================] - 2s 26ms/step - loss: 3.6974e-04 - val_loss: 7.0992e-04\n",
      "Epoch 12/100\n",
      "58/59 [============================>.] - ETA: 0s - loss: 3.2422e-04\n",
      "Epoch 12: val_loss improved from 0.00071 to 0.00069, saving model to models\\LSTM Litecoin.ckpt\n"
     ]
    },
    {
     "name": "stderr",
     "output_type": "stream",
     "text": [
      "WARNING:absl:Found untraced functions such as lstm_cell_1_layer_call_fn, lstm_cell_1_layer_call_and_return_conditional_losses while saving (showing 2 of 2). These functions will not be directly callable after loading.\n"
     ]
    },
    {
     "name": "stdout",
     "output_type": "stream",
     "text": [
      "INFO:tensorflow:Assets written to: models\\LSTM Litecoin.ckpt\\assets\n"
     ]
    },
    {
     "name": "stderr",
     "output_type": "stream",
     "text": [
      "INFO:tensorflow:Assets written to: models\\LSTM Litecoin.ckpt\\assets\n"
     ]
    },
    {
     "name": "stdout",
     "output_type": "stream",
     "text": [
      "59/59 [==============================] - 8s 134ms/step - loss: 3.2314e-04 - val_loss: 6.8894e-04\n",
      "Epoch 13/100\n",
      "59/59 [==============================] - ETA: 0s - loss: 4.1195e-04\n",
      "Epoch 13: val_loss did not improve from 0.00069\n",
      "59/59 [==============================] - 1s 25ms/step - loss: 4.1195e-04 - val_loss: 7.2997e-04\n",
      "Epoch 14/100\n",
      "58/59 [============================>.] - ETA: 0s - loss: 3.3117e-04\n",
      "Epoch 14: val_loss improved from 0.00069 to 0.00067, saving model to models\\LSTM Litecoin.ckpt\n"
     ]
    },
    {
     "name": "stderr",
     "output_type": "stream",
     "text": [
      "WARNING:absl:Found untraced functions such as lstm_cell_1_layer_call_fn, lstm_cell_1_layer_call_and_return_conditional_losses while saving (showing 2 of 2). These functions will not be directly callable after loading.\n"
     ]
    },
    {
     "name": "stdout",
     "output_type": "stream",
     "text": [
      "INFO:tensorflow:Assets written to: models\\LSTM Litecoin.ckpt\\assets\n"
     ]
    },
    {
     "name": "stderr",
     "output_type": "stream",
     "text": [
      "INFO:tensorflow:Assets written to: models\\LSTM Litecoin.ckpt\\assets\n"
     ]
    },
    {
     "name": "stdout",
     "output_type": "stream",
     "text": [
      "59/59 [==============================] - 8s 136ms/step - loss: 3.3132e-04 - val_loss: 6.6684e-04\n",
      "Epoch 15/100\n",
      "58/59 [============================>.] - ETA: 0s - loss: 3.2233e-04\n",
      "Epoch 15: val_loss improved from 0.00067 to 0.00065, saving model to models\\LSTM Litecoin.ckpt\n"
     ]
    },
    {
     "name": "stderr",
     "output_type": "stream",
     "text": [
      "WARNING:absl:Found untraced functions such as lstm_cell_1_layer_call_fn, lstm_cell_1_layer_call_and_return_conditional_losses while saving (showing 2 of 2). These functions will not be directly callable after loading.\n"
     ]
    },
    {
     "name": "stdout",
     "output_type": "stream",
     "text": [
      "INFO:tensorflow:Assets written to: models\\LSTM Litecoin.ckpt\\assets\n"
     ]
    },
    {
     "name": "stderr",
     "output_type": "stream",
     "text": [
      "INFO:tensorflow:Assets written to: models\\LSTM Litecoin.ckpt\\assets\n"
     ]
    },
    {
     "name": "stdout",
     "output_type": "stream",
     "text": [
      "59/59 [==============================] - 8s 132ms/step - loss: 3.1947e-04 - val_loss: 6.5355e-04\n",
      "Epoch 16/100\n",
      "58/59 [============================>.] - ETA: 0s - loss: 3.5061e-04\n",
      "Epoch 16: val_loss improved from 0.00065 to 0.00064, saving model to models\\LSTM Litecoin.ckpt\n"
     ]
    },
    {
     "name": "stderr",
     "output_type": "stream",
     "text": [
      "WARNING:absl:Found untraced functions such as lstm_cell_1_layer_call_fn, lstm_cell_1_layer_call_and_return_conditional_losses while saving (showing 2 of 2). These functions will not be directly callable after loading.\n"
     ]
    },
    {
     "name": "stdout",
     "output_type": "stream",
     "text": [
      "INFO:tensorflow:Assets written to: models\\LSTM Litecoin.ckpt\\assets\n"
     ]
    },
    {
     "name": "stderr",
     "output_type": "stream",
     "text": [
      "INFO:tensorflow:Assets written to: models\\LSTM Litecoin.ckpt\\assets\n"
     ]
    },
    {
     "name": "stdout",
     "output_type": "stream",
     "text": [
      "59/59 [==============================] - 8s 135ms/step - loss: 3.5882e-04 - val_loss: 6.4452e-04\n",
      "Epoch 17/100\n",
      "57/59 [===========================>..] - ETA: 0s - loss: 3.2535e-04\n",
      "Epoch 17: val_loss improved from 0.00064 to 0.00063, saving model to models\\LSTM Litecoin.ckpt\n"
     ]
    },
    {
     "name": "stderr",
     "output_type": "stream",
     "text": [
      "WARNING:absl:Found untraced functions such as lstm_cell_1_layer_call_fn, lstm_cell_1_layer_call_and_return_conditional_losses while saving (showing 2 of 2). These functions will not be directly callable after loading.\n"
     ]
    },
    {
     "name": "stdout",
     "output_type": "stream",
     "text": [
      "INFO:tensorflow:Assets written to: models\\LSTM Litecoin.ckpt\\assets\n"
     ]
    },
    {
     "name": "stderr",
     "output_type": "stream",
     "text": [
      "INFO:tensorflow:Assets written to: models\\LSTM Litecoin.ckpt\\assets\n"
     ]
    },
    {
     "name": "stdout",
     "output_type": "stream",
     "text": [
      "59/59 [==============================] - 9s 146ms/step - loss: 3.4665e-04 - val_loss: 6.3360e-04\n",
      "Epoch 18/100\n",
      "57/59 [===========================>..] - ETA: 0s - loss: 3.2295e-04\n",
      "Epoch 18: val_loss did not improve from 0.00063\n",
      "59/59 [==============================] - 2s 26ms/step - loss: 3.1743e-04 - val_loss: 6.3636e-04\n",
      "Epoch 19/100\n",
      "58/59 [============================>.] - ETA: 0s - loss: 3.0988e-04\n",
      "Epoch 19: val_loss did not improve from 0.00063\n",
      "59/59 [==============================] - 1s 24ms/step - loss: 3.1056e-04 - val_loss: 6.7343e-04\n",
      "Epoch 20/100\n",
      "58/59 [============================>.] - ETA: 0s - loss: 2.9819e-04\n",
      "Epoch 20: val_loss improved from 0.00063 to 0.00061, saving model to models\\LSTM Litecoin.ckpt\n"
     ]
    },
    {
     "name": "stderr",
     "output_type": "stream",
     "text": [
      "WARNING:absl:Found untraced functions such as lstm_cell_1_layer_call_fn, lstm_cell_1_layer_call_and_return_conditional_losses while saving (showing 2 of 2). These functions will not be directly callable after loading.\n"
     ]
    },
    {
     "name": "stdout",
     "output_type": "stream",
     "text": [
      "INFO:tensorflow:Assets written to: models\\LSTM Litecoin.ckpt\\assets\n"
     ]
    },
    {
     "name": "stderr",
     "output_type": "stream",
     "text": [
      "INFO:tensorflow:Assets written to: models\\LSTM Litecoin.ckpt\\assets\n"
     ]
    },
    {
     "name": "stdout",
     "output_type": "stream",
     "text": [
      "59/59 [==============================] - 8s 132ms/step - loss: 2.9680e-04 - val_loss: 6.0537e-04\n",
      "Epoch 21/100\n",
      "59/59 [==============================] - ETA: 0s - loss: 3.5004e-04\n",
      "Epoch 21: val_loss did not improve from 0.00061\n",
      "59/59 [==============================] - 2s 26ms/step - loss: 3.5004e-04 - val_loss: 6.2450e-04\n",
      "Epoch 22/100\n",
      "58/59 [============================>.] - ETA: 0s - loss: 3.4590e-04\n",
      "Epoch 22: val_loss did not improve from 0.00061\n",
      "59/59 [==============================] - 1s 23ms/step - loss: 3.4482e-04 - val_loss: 6.4251e-04\n",
      "Epoch 23/100\n",
      "59/59 [==============================] - ETA: 0s - loss: 2.7680e-04\n",
      "Epoch 23: val_loss improved from 0.00061 to 0.00058, saving model to models\\LSTM Litecoin.ckpt\n"
     ]
    },
    {
     "name": "stderr",
     "output_type": "stream",
     "text": [
      "WARNING:absl:Found untraced functions such as lstm_cell_1_layer_call_fn, lstm_cell_1_layer_call_and_return_conditional_losses while saving (showing 2 of 2). These functions will not be directly callable after loading.\n"
     ]
    },
    {
     "name": "stdout",
     "output_type": "stream",
     "text": [
      "INFO:tensorflow:Assets written to: models\\LSTM Litecoin.ckpt\\assets\n"
     ]
    },
    {
     "name": "stderr",
     "output_type": "stream",
     "text": [
      "INFO:tensorflow:Assets written to: models\\LSTM Litecoin.ckpt\\assets\n"
     ]
    },
    {
     "name": "stdout",
     "output_type": "stream",
     "text": [
      "59/59 [==============================] - 8s 137ms/step - loss: 2.7680e-04 - val_loss: 5.7824e-04\n",
      "Epoch 24/100\n",
      "58/59 [============================>.] - ETA: 0s - loss: 2.9864e-04\n",
      "Epoch 24: val_loss improved from 0.00058 to 0.00057, saving model to models\\LSTM Litecoin.ckpt\n"
     ]
    },
    {
     "name": "stderr",
     "output_type": "stream",
     "text": [
      "WARNING:absl:Found untraced functions such as lstm_cell_1_layer_call_fn, lstm_cell_1_layer_call_and_return_conditional_losses while saving (showing 2 of 2). These functions will not be directly callable after loading.\n"
     ]
    },
    {
     "name": "stdout",
     "output_type": "stream",
     "text": [
      "INFO:tensorflow:Assets written to: models\\LSTM Litecoin.ckpt\\assets\n"
     ]
    },
    {
     "name": "stderr",
     "output_type": "stream",
     "text": [
      "INFO:tensorflow:Assets written to: models\\LSTM Litecoin.ckpt\\assets\n"
     ]
    },
    {
     "name": "stdout",
     "output_type": "stream",
     "text": [
      "59/59 [==============================] - 8s 137ms/step - loss: 3.0382e-04 - val_loss: 5.7377e-04\n",
      "Epoch 25/100\n",
      "58/59 [============================>.] - ETA: 0s - loss: 3.0310e-04\n",
      "Epoch 25: val_loss did not improve from 0.00057\n",
      "59/59 [==============================] - 1s 23ms/step - loss: 3.0117e-04 - val_loss: 5.9312e-04\n",
      "Epoch 26/100\n",
      "59/59 [==============================] - ETA: 0s - loss: 3.0668e-04\n",
      "Epoch 26: val_loss did not improve from 0.00057\n",
      "59/59 [==============================] - 1s 23ms/step - loss: 3.0668e-04 - val_loss: 7.2380e-04\n",
      "Epoch 27/100\n",
      "58/59 [============================>.] - ETA: 0s - loss: 3.1294e-04\n",
      "Epoch 27: val_loss did not improve from 0.00057\n",
      "59/59 [==============================] - 1s 24ms/step - loss: 3.1047e-04 - val_loss: 5.9667e-04\n",
      "Epoch 28/100\n",
      "58/59 [============================>.] - ETA: 0s - loss: 2.8689e-04\n",
      "Epoch 28: val_loss improved from 0.00057 to 0.00057, saving model to models\\LSTM Litecoin.ckpt\n"
     ]
    },
    {
     "name": "stderr",
     "output_type": "stream",
     "text": [
      "WARNING:absl:Found untraced functions such as lstm_cell_1_layer_call_fn, lstm_cell_1_layer_call_and_return_conditional_losses while saving (showing 2 of 2). These functions will not be directly callable after loading.\n"
     ]
    },
    {
     "name": "stdout",
     "output_type": "stream",
     "text": [
      "INFO:tensorflow:Assets written to: models\\LSTM Litecoin.ckpt\\assets\n"
     ]
    },
    {
     "name": "stderr",
     "output_type": "stream",
     "text": [
      "INFO:tensorflow:Assets written to: models\\LSTM Litecoin.ckpt\\assets\n"
     ]
    },
    {
     "name": "stdout",
     "output_type": "stream",
     "text": [
      "59/59 [==============================] - 7s 128ms/step - loss: 2.8861e-04 - val_loss: 5.6566e-04\n",
      "Epoch 29/100\n",
      "59/59 [==============================] - ETA: 0s - loss: 2.7802e-04\n",
      "Epoch 29: val_loss improved from 0.00057 to 0.00055, saving model to models\\LSTM Litecoin.ckpt\n"
     ]
    },
    {
     "name": "stderr",
     "output_type": "stream",
     "text": [
      "WARNING:absl:Found untraced functions such as lstm_cell_1_layer_call_fn, lstm_cell_1_layer_call_and_return_conditional_losses while saving (showing 2 of 2). These functions will not be directly callable after loading.\n"
     ]
    },
    {
     "name": "stdout",
     "output_type": "stream",
     "text": [
      "INFO:tensorflow:Assets written to: models\\LSTM Litecoin.ckpt\\assets\n"
     ]
    },
    {
     "name": "stderr",
     "output_type": "stream",
     "text": [
      "INFO:tensorflow:Assets written to: models\\LSTM Litecoin.ckpt\\assets\n"
     ]
    },
    {
     "name": "stdout",
     "output_type": "stream",
     "text": [
      "59/59 [==============================] - 8s 136ms/step - loss: 2.7802e-04 - val_loss: 5.4826e-04\n",
      "Epoch 30/100\n",
      "57/59 [===========================>..] - ETA: 0s - loss: 2.9619e-04\n",
      "Epoch 30: val_loss did not improve from 0.00055\n",
      "59/59 [==============================] - 1s 23ms/step - loss: 2.9384e-04 - val_loss: 5.5094e-04\n",
      "Epoch 31/100\n",
      "58/59 [============================>.] - ETA: 0s - loss: 2.1170e-04\n",
      "Epoch 31: val_loss improved from 0.00055 to 0.00053, saving model to models\\LSTM Litecoin.ckpt\n"
     ]
    },
    {
     "name": "stderr",
     "output_type": "stream",
     "text": [
      "WARNING:absl:Found untraced functions such as lstm_cell_1_layer_call_fn, lstm_cell_1_layer_call_and_return_conditional_losses while saving (showing 2 of 2). These functions will not be directly callable after loading.\n"
     ]
    },
    {
     "name": "stdout",
     "output_type": "stream",
     "text": [
      "INFO:tensorflow:Assets written to: models\\LSTM Litecoin.ckpt\\assets\n"
     ]
    },
    {
     "name": "stderr",
     "output_type": "stream",
     "text": [
      "INFO:tensorflow:Assets written to: models\\LSTM Litecoin.ckpt\\assets\n"
     ]
    },
    {
     "name": "stdout",
     "output_type": "stream",
     "text": [
      "59/59 [==============================] - 8s 138ms/step - loss: 2.0996e-04 - val_loss: 5.3325e-04\n",
      "Epoch 32/100\n",
      "58/59 [============================>.] - ETA: 0s - loss: 2.8377e-04\n",
      "Epoch 32: val_loss did not improve from 0.00053\n",
      "59/59 [==============================] - 2s 26ms/step - loss: 2.8153e-04 - val_loss: 5.3661e-04\n",
      "Epoch 33/100\n",
      "57/59 [===========================>..] - ETA: 0s - loss: 2.4295e-04\n",
      "Epoch 33: val_loss did not improve from 0.00053\n",
      "59/59 [==============================] - 1s 25ms/step - loss: 2.4310e-04 - val_loss: 6.4286e-04\n",
      "Epoch 34/100\n",
      "57/59 [===========================>..] - ETA: 0s - loss: 2.6554e-04\n",
      "Epoch 34: val_loss improved from 0.00053 to 0.00053, saving model to models\\LSTM Litecoin.ckpt\n"
     ]
    },
    {
     "name": "stderr",
     "output_type": "stream",
     "text": [
      "WARNING:absl:Found untraced functions such as lstm_cell_1_layer_call_fn, lstm_cell_1_layer_call_and_return_conditional_losses while saving (showing 2 of 2). These functions will not be directly callable after loading.\n"
     ]
    },
    {
     "name": "stdout",
     "output_type": "stream",
     "text": [
      "INFO:tensorflow:Assets written to: models\\LSTM Litecoin.ckpt\\assets\n"
     ]
    },
    {
     "name": "stderr",
     "output_type": "stream",
     "text": [
      "INFO:tensorflow:Assets written to: models\\LSTM Litecoin.ckpt\\assets\n"
     ]
    },
    {
     "name": "stdout",
     "output_type": "stream",
     "text": [
      "59/59 [==============================] - 8s 140ms/step - loss: 2.6350e-04 - val_loss: 5.2572e-04\n",
      "Epoch 35/100\n",
      "58/59 [============================>.] - ETA: 0s - loss: 2.8750e-04\n",
      "Epoch 35: val_loss did not improve from 0.00053\n",
      "59/59 [==============================] - 1s 22ms/step - loss: 2.8711e-04 - val_loss: 6.1033e-04\n",
      "Epoch 36/100\n",
      "58/59 [============================>.] - ETA: 0s - loss: 2.7334e-04\n",
      "Epoch 36: val_loss did not improve from 0.00053\n",
      "59/59 [==============================] - 1s 22ms/step - loss: 2.7146e-04 - val_loss: 5.2647e-04\n",
      "Epoch 37/100\n",
      "58/59 [============================>.] - ETA: 0s - loss: 2.5705e-04\n",
      "Epoch 37: val_loss improved from 0.00053 to 0.00051, saving model to models\\LSTM Litecoin.ckpt\n"
     ]
    },
    {
     "name": "stderr",
     "output_type": "stream",
     "text": [
      "WARNING:absl:Found untraced functions such as lstm_cell_1_layer_call_fn, lstm_cell_1_layer_call_and_return_conditional_losses while saving (showing 2 of 2). These functions will not be directly callable after loading.\n"
     ]
    },
    {
     "name": "stdout",
     "output_type": "stream",
     "text": [
      "INFO:tensorflow:Assets written to: models\\LSTM Litecoin.ckpt\\assets\n"
     ]
    },
    {
     "name": "stderr",
     "output_type": "stream",
     "text": [
      "INFO:tensorflow:Assets written to: models\\LSTM Litecoin.ckpt\\assets\n"
     ]
    },
    {
     "name": "stdout",
     "output_type": "stream",
     "text": [
      "59/59 [==============================] - 7s 126ms/step - loss: 2.5527e-04 - val_loss: 5.0658e-04\n",
      "Epoch 38/100\n",
      "58/59 [============================>.] - ETA: 0s - loss: 2.7419e-04\n",
      "Epoch 38: val_loss did not improve from 0.00051\n",
      "59/59 [==============================] - 1s 23ms/step - loss: 2.7243e-04 - val_loss: 5.2176e-04\n",
      "Epoch 39/100\n",
      "58/59 [============================>.] - ETA: 0s - loss: 2.6261e-04\n",
      "Epoch 39: val_loss improved from 0.00051 to 0.00050, saving model to models\\LSTM Litecoin.ckpt\n"
     ]
    },
    {
     "name": "stderr",
     "output_type": "stream",
     "text": [
      "WARNING:absl:Found untraced functions such as lstm_cell_1_layer_call_fn, lstm_cell_1_layer_call_and_return_conditional_losses while saving (showing 2 of 2). These functions will not be directly callable after loading.\n"
     ]
    },
    {
     "name": "stdout",
     "output_type": "stream",
     "text": [
      "INFO:tensorflow:Assets written to: models\\LSTM Litecoin.ckpt\\assets\n"
     ]
    },
    {
     "name": "stderr",
     "output_type": "stream",
     "text": [
      "INFO:tensorflow:Assets written to: models\\LSTM Litecoin.ckpt\\assets\n"
     ]
    },
    {
     "name": "stdout",
     "output_type": "stream",
     "text": [
      "59/59 [==============================] - 8s 129ms/step - loss: 2.6780e-04 - val_loss: 5.0035e-04\n",
      "Epoch 40/100\n",
      "58/59 [============================>.] - ETA: 0s - loss: 2.9025e-04\n",
      "Epoch 40: val_loss did not improve from 0.00050\n",
      "59/59 [==============================] - 1s 23ms/step - loss: 2.8778e-04 - val_loss: 5.1239e-04\n",
      "Epoch 41/100\n",
      "58/59 [============================>.] - ETA: 0s - loss: 2.2919e-04\n",
      "Epoch 41: val_loss did not improve from 0.00050\n",
      "59/59 [==============================] - 1s 22ms/step - loss: 2.2788e-04 - val_loss: 5.3057e-04\n",
      "Epoch 1/100\n",
      "59/59 [==============================] - ETA: 0s - loss: 5.4953e-04\n",
      "Epoch 1: val_loss improved from inf to 0.00008, saving model to models\\LSTM Bitcoin.ckpt\n"
     ]
    },
    {
     "name": "stderr",
     "output_type": "stream",
     "text": [
      "WARNING:absl:Found untraced functions such as lstm_cell_2_layer_call_fn, lstm_cell_2_layer_call_and_return_conditional_losses while saving (showing 2 of 2). These functions will not be directly callable after loading.\n"
     ]
    },
    {
     "name": "stdout",
     "output_type": "stream",
     "text": [
      "INFO:tensorflow:Assets written to: models\\LSTM Bitcoin.ckpt\\assets\n"
     ]
    },
    {
     "name": "stderr",
     "output_type": "stream",
     "text": [
      "INFO:tensorflow:Assets written to: models\\LSTM Bitcoin.ckpt\\assets\n"
     ]
    },
    {
     "name": "stdout",
     "output_type": "stream",
     "text": [
      "59/59 [==============================] - 11s 142ms/step - loss: 5.4953e-04 - val_loss: 7.9459e-05\n",
      "Epoch 2/100\n",
      "58/59 [============================>.] - ETA: 0s - loss: 9.9144e-05\n",
      "Epoch 2: val_loss improved from 0.00008 to 0.00007, saving model to models\\LSTM Bitcoin.ckpt\n"
     ]
    },
    {
     "name": "stderr",
     "output_type": "stream",
     "text": [
      "WARNING:absl:Found untraced functions such as lstm_cell_2_layer_call_fn, lstm_cell_2_layer_call_and_return_conditional_losses while saving (showing 2 of 2). These functions will not be directly callable after loading.\n"
     ]
    },
    {
     "name": "stdout",
     "output_type": "stream",
     "text": [
      "INFO:tensorflow:Assets written to: models\\LSTM Bitcoin.ckpt\\assets\n"
     ]
    },
    {
     "name": "stderr",
     "output_type": "stream",
     "text": [
      "INFO:tensorflow:Assets written to: models\\LSTM Bitcoin.ckpt\\assets\n"
     ]
    },
    {
     "name": "stdout",
     "output_type": "stream",
     "text": [
      "59/59 [==============================] - 8s 129ms/step - loss: 9.8448e-05 - val_loss: 7.0580e-05\n",
      "Epoch 3/100\n",
      "58/59 [============================>.] - ETA: 0s - loss: 9.7781e-05\n",
      "Epoch 3: val_loss did not improve from 0.00007\n",
      "59/59 [==============================] - 1s 25ms/step - loss: 9.7511e-05 - val_loss: 1.1506e-04\n",
      "Epoch 4/100\n",
      "58/59 [============================>.] - ETA: 0s - loss: 7.6520e-05\n",
      "Epoch 4: val_loss improved from 0.00007 to 0.00006, saving model to models\\LSTM Bitcoin.ckpt\n"
     ]
    },
    {
     "name": "stderr",
     "output_type": "stream",
     "text": [
      "WARNING:absl:Found untraced functions such as lstm_cell_2_layer_call_fn, lstm_cell_2_layer_call_and_return_conditional_losses while saving (showing 2 of 2). These functions will not be directly callable after loading.\n"
     ]
    },
    {
     "name": "stdout",
     "output_type": "stream",
     "text": [
      "INFO:tensorflow:Assets written to: models\\LSTM Bitcoin.ckpt\\assets\n"
     ]
    },
    {
     "name": "stderr",
     "output_type": "stream",
     "text": [
      "INFO:tensorflow:Assets written to: models\\LSTM Bitcoin.ckpt\\assets\n"
     ]
    },
    {
     "name": "stdout",
     "output_type": "stream",
     "text": [
      "59/59 [==============================] - 8s 131ms/step - loss: 7.5897e-05 - val_loss: 6.0403e-05\n",
      "Epoch 5/100\n",
      "58/59 [============================>.] - ETA: 0s - loss: 8.3050e-05\n",
      "Epoch 5: val_loss did not improve from 0.00006\n",
      "59/59 [==============================] - 1s 25ms/step - loss: 8.2412e-05 - val_loss: 6.2741e-05\n",
      "Epoch 6/100\n",
      "58/59 [============================>.] - ETA: 0s - loss: 6.8004e-05\n",
      "Epoch 6: val_loss improved from 0.00006 to 0.00006, saving model to models\\LSTM Bitcoin.ckpt\n"
     ]
    },
    {
     "name": "stderr",
     "output_type": "stream",
     "text": [
      "WARNING:absl:Found untraced functions such as lstm_cell_2_layer_call_fn, lstm_cell_2_layer_call_and_return_conditional_losses while saving (showing 2 of 2). These functions will not be directly callable after loading.\n"
     ]
    },
    {
     "name": "stdout",
     "output_type": "stream",
     "text": [
      "INFO:tensorflow:Assets written to: models\\LSTM Bitcoin.ckpt\\assets\n"
     ]
    },
    {
     "name": "stderr",
     "output_type": "stream",
     "text": [
      "INFO:tensorflow:Assets written to: models\\LSTM Bitcoin.ckpt\\assets\n"
     ]
    },
    {
     "name": "stdout",
     "output_type": "stream",
     "text": [
      "59/59 [==============================] - 8s 132ms/step - loss: 6.7999e-05 - val_loss: 5.9906e-05\n",
      "Epoch 7/100\n",
      "59/59 [==============================] - ETA: 0s - loss: 6.7931e-05\n",
      "Epoch 7: val_loss improved from 0.00006 to 0.00005, saving model to models\\LSTM Bitcoin.ckpt\n"
     ]
    },
    {
     "name": "stderr",
     "output_type": "stream",
     "text": [
      "WARNING:absl:Found untraced functions such as lstm_cell_2_layer_call_fn, lstm_cell_2_layer_call_and_return_conditional_losses while saving (showing 2 of 2). These functions will not be directly callable after loading.\n"
     ]
    },
    {
     "name": "stdout",
     "output_type": "stream",
     "text": [
      "INFO:tensorflow:Assets written to: models\\LSTM Bitcoin.ckpt\\assets\n"
     ]
    },
    {
     "name": "stderr",
     "output_type": "stream",
     "text": [
      "INFO:tensorflow:Assets written to: models\\LSTM Bitcoin.ckpt\\assets\n"
     ]
    },
    {
     "name": "stdout",
     "output_type": "stream",
     "text": [
      "59/59 [==============================] - 8s 133ms/step - loss: 6.7931e-05 - val_loss: 5.3703e-05\n",
      "Epoch 8/100\n",
      "59/59 [==============================] - ETA: 0s - loss: 6.3291e-05\n",
      "Epoch 8: val_loss improved from 0.00005 to 0.00005, saving model to models\\LSTM Bitcoin.ckpt\n"
     ]
    },
    {
     "name": "stderr",
     "output_type": "stream",
     "text": [
      "WARNING:absl:Found untraced functions such as lstm_cell_2_layer_call_fn, lstm_cell_2_layer_call_and_return_conditional_losses while saving (showing 2 of 2). These functions will not be directly callable after loading.\n"
     ]
    },
    {
     "name": "stdout",
     "output_type": "stream",
     "text": [
      "INFO:tensorflow:Assets written to: models\\LSTM Bitcoin.ckpt\\assets\n"
     ]
    },
    {
     "name": "stderr",
     "output_type": "stream",
     "text": [
      "INFO:tensorflow:Assets written to: models\\LSTM Bitcoin.ckpt\\assets\n"
     ]
    },
    {
     "name": "stdout",
     "output_type": "stream",
     "text": [
      "59/59 [==============================] - 8s 129ms/step - loss: 6.3291e-05 - val_loss: 5.2841e-05\n",
      "Epoch 9/100\n",
      "58/59 [============================>.] - ETA: 0s - loss: 5.7479e-05\n",
      "Epoch 9: val_loss did not improve from 0.00005\n",
      "59/59 [==============================] - 1s 23ms/step - loss: 5.7255e-05 - val_loss: 5.7729e-05\n",
      "Epoch 10/100\n",
      "58/59 [============================>.] - ETA: 0s - loss: 6.7090e-05\n",
      "Epoch 10: val_loss did not improve from 0.00005\n",
      "59/59 [==============================] - 1s 22ms/step - loss: 6.8194e-05 - val_loss: 5.6871e-05\n",
      "Epoch 11/100\n",
      "58/59 [============================>.] - ETA: 0s - loss: 6.2390e-05\n",
      "Epoch 11: val_loss did not improve from 0.00005\n",
      "59/59 [==============================] - 1s 22ms/step - loss: 6.2087e-05 - val_loss: 6.1595e-05\n",
      "Epoch 12/100\n",
      "57/59 [===========================>..] - ETA: 0s - loss: 5.8435e-05\n",
      "Epoch 12: val_loss improved from 0.00005 to 0.00005, saving model to models\\LSTM Bitcoin.ckpt\n"
     ]
    },
    {
     "name": "stderr",
     "output_type": "stream",
     "text": [
      "WARNING:absl:Found untraced functions such as lstm_cell_2_layer_call_fn, lstm_cell_2_layer_call_and_return_conditional_losses while saving (showing 2 of 2). These functions will not be directly callable after loading.\n"
     ]
    },
    {
     "name": "stdout",
     "output_type": "stream",
     "text": [
      "INFO:tensorflow:Assets written to: models\\LSTM Bitcoin.ckpt\\assets\n"
     ]
    },
    {
     "name": "stderr",
     "output_type": "stream",
     "text": [
      "INFO:tensorflow:Assets written to: models\\LSTM Bitcoin.ckpt\\assets\n"
     ]
    },
    {
     "name": "stdout",
     "output_type": "stream",
     "text": [
      "59/59 [==============================] - 8s 132ms/step - loss: 5.9536e-05 - val_loss: 5.1921e-05\n",
      "Epoch 13/100\n",
      "58/59 [============================>.] - ETA: 0s - loss: 6.0844e-05\n",
      "Epoch 13: val_loss improved from 0.00005 to 0.00005, saving model to models\\LSTM Bitcoin.ckpt\n"
     ]
    },
    {
     "name": "stderr",
     "output_type": "stream",
     "text": [
      "WARNING:absl:Found untraced functions such as lstm_cell_2_layer_call_fn, lstm_cell_2_layer_call_and_return_conditional_losses while saving (showing 2 of 2). These functions will not be directly callable after loading.\n"
     ]
    },
    {
     "name": "stdout",
     "output_type": "stream",
     "text": [
      "INFO:tensorflow:Assets written to: models\\LSTM Bitcoin.ckpt\\assets\n"
     ]
    },
    {
     "name": "stderr",
     "output_type": "stream",
     "text": [
      "INFO:tensorflow:Assets written to: models\\LSTM Bitcoin.ckpt\\assets\n"
     ]
    },
    {
     "name": "stdout",
     "output_type": "stream",
     "text": [
      "59/59 [==============================] - 8s 130ms/step - loss: 6.0403e-05 - val_loss: 5.0890e-05\n",
      "Epoch 14/100\n",
      "58/59 [============================>.] - ETA: 0s - loss: 5.2188e-05\n",
      "Epoch 14: val_loss did not improve from 0.00005\n",
      "59/59 [==============================] - 1s 23ms/step - loss: 5.1979e-05 - val_loss: 5.5004e-05\n",
      "Epoch 15/100\n",
      "58/59 [============================>.] - ETA: 0s - loss: 5.4156e-05\n",
      "Epoch 15: val_loss did not improve from 0.00005\n",
      "59/59 [==============================] - 1s 23ms/step - loss: 5.3892e-05 - val_loss: 6.8649e-05\n",
      "Epoch 16/100\n",
      "58/59 [============================>.] - ETA: 0s - loss: 5.3787e-05\n",
      "Epoch 16: val_loss improved from 0.00005 to 0.00005, saving model to models\\LSTM Bitcoin.ckpt\n"
     ]
    },
    {
     "name": "stderr",
     "output_type": "stream",
     "text": [
      "WARNING:absl:Found untraced functions such as lstm_cell_2_layer_call_fn, lstm_cell_2_layer_call_and_return_conditional_losses while saving (showing 2 of 2). These functions will not be directly callable after loading.\n"
     ]
    },
    {
     "name": "stdout",
     "output_type": "stream",
     "text": [
      "INFO:tensorflow:Assets written to: models\\LSTM Bitcoin.ckpt\\assets\n"
     ]
    },
    {
     "name": "stderr",
     "output_type": "stream",
     "text": [
      "INFO:tensorflow:Assets written to: models\\LSTM Bitcoin.ckpt\\assets\n"
     ]
    },
    {
     "name": "stdout",
     "output_type": "stream",
     "text": [
      "59/59 [==============================] - 8s 134ms/step - loss: 5.3666e-05 - val_loss: 4.5539e-05\n",
      "Epoch 17/100\n",
      "58/59 [============================>.] - ETA: 0s - loss: 4.4086e-05\n",
      "Epoch 17: val_loss did not improve from 0.00005\n",
      "59/59 [==============================] - 1s 23ms/step - loss: 4.4398e-05 - val_loss: 4.6067e-05\n",
      "Epoch 18/100\n",
      "58/59 [============================>.] - ETA: 0s - loss: 5.1420e-05\n",
      "Epoch 18: val_loss did not improve from 0.00005\n",
      "59/59 [==============================] - 1s 24ms/step - loss: 5.1736e-05 - val_loss: 5.3291e-05\n",
      "Epoch 19/100\n",
      "58/59 [============================>.] - ETA: 0s - loss: 4.9448e-05\n",
      "Epoch 19: val_loss improved from 0.00005 to 0.00004, saving model to models\\LSTM Bitcoin.ckpt\n"
     ]
    },
    {
     "name": "stderr",
     "output_type": "stream",
     "text": [
      "WARNING:absl:Found untraced functions such as lstm_cell_2_layer_call_fn, lstm_cell_2_layer_call_and_return_conditional_losses while saving (showing 2 of 2). These functions will not be directly callable after loading.\n"
     ]
    },
    {
     "name": "stdout",
     "output_type": "stream",
     "text": [
      "INFO:tensorflow:Assets written to: models\\LSTM Bitcoin.ckpt\\assets\n"
     ]
    },
    {
     "name": "stderr",
     "output_type": "stream",
     "text": [
      "INFO:tensorflow:Assets written to: models\\LSTM Bitcoin.ckpt\\assets\n"
     ]
    },
    {
     "name": "stdout",
     "output_type": "stream",
     "text": [
      "59/59 [==============================] - 9s 151ms/step - loss: 4.9037e-05 - val_loss: 4.3925e-05\n",
      "Epoch 20/100\n",
      "57/59 [===========================>..] - ETA: 0s - loss: 4.3230e-05\n",
      "Epoch 20: val_loss did not improve from 0.00004\n",
      "59/59 [==============================] - 2s 26ms/step - loss: 4.3160e-05 - val_loss: 5.6931e-05\n",
      "Epoch 21/100\n",
      "58/59 [============================>.] - ETA: 0s - loss: 4.4876e-05\n",
      "Epoch 21: val_loss did not improve from 0.00004\n",
      "59/59 [==============================] - 1s 24ms/step - loss: 4.5208e-05 - val_loss: 6.1380e-05\n",
      "Epoch 22/100\n",
      "58/59 [============================>.] - ETA: 0s - loss: 4.6360e-05\n",
      "Epoch 22: val_loss improved from 0.00004 to 0.00004, saving model to models\\LSTM Bitcoin.ckpt\n"
     ]
    },
    {
     "name": "stderr",
     "output_type": "stream",
     "text": [
      "WARNING:absl:Found untraced functions such as lstm_cell_2_layer_call_fn, lstm_cell_2_layer_call_and_return_conditional_losses while saving (showing 2 of 2). These functions will not be directly callable after loading.\n"
     ]
    },
    {
     "name": "stdout",
     "output_type": "stream",
     "text": [
      "INFO:tensorflow:Assets written to: models\\LSTM Bitcoin.ckpt\\assets\n"
     ]
    },
    {
     "name": "stderr",
     "output_type": "stream",
     "text": [
      "INFO:tensorflow:Assets written to: models\\LSTM Bitcoin.ckpt\\assets\n"
     ]
    },
    {
     "name": "stdout",
     "output_type": "stream",
     "text": [
      "59/59 [==============================] - 9s 148ms/step - loss: 4.6003e-05 - val_loss: 4.1977e-05\n",
      "Epoch 23/100\n",
      "58/59 [============================>.] - ETA: 0s - loss: 4.2392e-05\n",
      "Epoch 23: val_loss did not improve from 0.00004\n",
      "59/59 [==============================] - 1s 23ms/step - loss: 4.2512e-05 - val_loss: 4.3827e-05\n",
      "Epoch 24/100\n",
      "58/59 [============================>.] - ETA: 0s - loss: 4.5639e-05\n",
      "Epoch 24: val_loss did not improve from 0.00004\n",
      "59/59 [==============================] - 1s 22ms/step - loss: 4.5732e-05 - val_loss: 5.1109e-05\n",
      "Epoch 25/100\n",
      "58/59 [============================>.] - ETA: 0s - loss: 4.5655e-05\n",
      "Epoch 25: val_loss improved from 0.00004 to 0.00004, saving model to models\\LSTM Bitcoin.ckpt\n"
     ]
    },
    {
     "name": "stderr",
     "output_type": "stream",
     "text": [
      "WARNING:absl:Found untraced functions such as lstm_cell_2_layer_call_fn, lstm_cell_2_layer_call_and_return_conditional_losses while saving (showing 2 of 2). These functions will not be directly callable after loading.\n"
     ]
    },
    {
     "name": "stdout",
     "output_type": "stream",
     "text": [
      "INFO:tensorflow:Assets written to: models\\LSTM Bitcoin.ckpt\\assets\n"
     ]
    },
    {
     "name": "stderr",
     "output_type": "stream",
     "text": [
      "INFO:tensorflow:Assets written to: models\\LSTM Bitcoin.ckpt\\assets\n"
     ]
    },
    {
     "name": "stdout",
     "output_type": "stream",
     "text": [
      "59/59 [==============================] - 8s 133ms/step - loss: 4.5469e-05 - val_loss: 4.1045e-05\n",
      "Epoch 26/100\n",
      "57/59 [===========================>..] - ETA: 0s - loss: 4.1646e-05\n",
      "Epoch 26: val_loss did not improve from 0.00004\n",
      "59/59 [==============================] - 1s 25ms/step - loss: 4.1147e-05 - val_loss: 4.1762e-05\n",
      "Epoch 27/100\n",
      "58/59 [============================>.] - ETA: 0s - loss: 4.2720e-05\n",
      "Epoch 27: val_loss improved from 0.00004 to 0.00004, saving model to models\\LSTM Bitcoin.ckpt\n"
     ]
    },
    {
     "name": "stderr",
     "output_type": "stream",
     "text": [
      "WARNING:absl:Found untraced functions such as lstm_cell_2_layer_call_fn, lstm_cell_2_layer_call_and_return_conditional_losses while saving (showing 2 of 2). These functions will not be directly callable after loading.\n"
     ]
    },
    {
     "name": "stdout",
     "output_type": "stream",
     "text": [
      "INFO:tensorflow:Assets written to: models\\LSTM Bitcoin.ckpt\\assets\n"
     ]
    },
    {
     "name": "stderr",
     "output_type": "stream",
     "text": [
      "INFO:tensorflow:Assets written to: models\\LSTM Bitcoin.ckpt\\assets\n"
     ]
    },
    {
     "name": "stdout",
     "output_type": "stream",
     "text": [
      "59/59 [==============================] - 8s 135ms/step - loss: 4.2566e-05 - val_loss: 4.0563e-05\n",
      "Epoch 28/100\n",
      "58/59 [============================>.] - ETA: 0s - loss: 4.4652e-05\n",
      "Epoch 28: val_loss did not improve from 0.00004\n",
      "59/59 [==============================] - 2s 27ms/step - loss: 4.4364e-05 - val_loss: 4.3801e-05\n",
      "Epoch 29/100\n",
      "58/59 [============================>.] - ETA: 0s - loss: 3.7400e-05\n",
      "Epoch 29: val_loss did not improve from 0.00004\n",
      "59/59 [==============================] - 1s 23ms/step - loss: 3.7173e-05 - val_loss: 4.1609e-05\n",
      "Epoch 30/100\n",
      "58/59 [============================>.] - ETA: 0s - loss: 4.4001e-05\n",
      "Epoch 30: val_loss improved from 0.00004 to 0.00004, saving model to models\\LSTM Bitcoin.ckpt\n"
     ]
    },
    {
     "name": "stderr",
     "output_type": "stream",
     "text": [
      "WARNING:absl:Found untraced functions such as lstm_cell_2_layer_call_fn, lstm_cell_2_layer_call_and_return_conditional_losses while saving (showing 2 of 2). These functions will not be directly callable after loading.\n"
     ]
    },
    {
     "name": "stdout",
     "output_type": "stream",
     "text": [
      "INFO:tensorflow:Assets written to: models\\LSTM Bitcoin.ckpt\\assets\n"
     ]
    },
    {
     "name": "stderr",
     "output_type": "stream",
     "text": [
      "INFO:tensorflow:Assets written to: models\\LSTM Bitcoin.ckpt\\assets\n"
     ]
    },
    {
     "name": "stdout",
     "output_type": "stream",
     "text": [
      "59/59 [==============================] - 8s 131ms/step - loss: 4.3754e-05 - val_loss: 4.0357e-05\n",
      "Epoch 31/100\n",
      "58/59 [============================>.] - ETA: 0s - loss: 3.4360e-05\n",
      "Epoch 31: val_loss did not improve from 0.00004\n",
      "59/59 [==============================] - 1s 22ms/step - loss: 3.4561e-05 - val_loss: 4.3887e-05\n",
      "Epoch 32/100\n",
      "59/59 [==============================] - ETA: 0s - loss: 4.2428e-05\n",
      "Epoch 32: val_loss did not improve from 0.00004\n",
      "59/59 [==============================] - 2s 26ms/step - loss: 4.2428e-05 - val_loss: 4.2424e-05\n",
      "Epoch 33/100\n",
      "59/59 [==============================] - ETA: 0s - loss: 3.7239e-05\n",
      "Epoch 33: val_loss improved from 0.00004 to 0.00004, saving model to models\\LSTM Bitcoin.ckpt\n"
     ]
    },
    {
     "name": "stderr",
     "output_type": "stream",
     "text": [
      "WARNING:absl:Found untraced functions such as lstm_cell_2_layer_call_fn, lstm_cell_2_layer_call_and_return_conditional_losses while saving (showing 2 of 2). These functions will not be directly callable after loading.\n"
     ]
    },
    {
     "name": "stdout",
     "output_type": "stream",
     "text": [
      "INFO:tensorflow:Assets written to: models\\LSTM Bitcoin.ckpt\\assets\n"
     ]
    },
    {
     "name": "stderr",
     "output_type": "stream",
     "text": [
      "INFO:tensorflow:Assets written to: models\\LSTM Bitcoin.ckpt\\assets\n"
     ]
    },
    {
     "name": "stdout",
     "output_type": "stream",
     "text": [
      "59/59 [==============================] - 11s 186ms/step - loss: 3.7239e-05 - val_loss: 3.9545e-05\n",
      "Epoch 34/100\n",
      "58/59 [============================>.] - ETA: 0s - loss: 3.3862e-05\n",
      "Epoch 34: val_loss improved from 0.00004 to 0.00004, saving model to models\\LSTM Bitcoin.ckpt\n"
     ]
    },
    {
     "name": "stderr",
     "output_type": "stream",
     "text": [
      "WARNING:absl:Found untraced functions such as lstm_cell_2_layer_call_fn, lstm_cell_2_layer_call_and_return_conditional_losses while saving (showing 2 of 2). These functions will not be directly callable after loading.\n"
     ]
    },
    {
     "name": "stdout",
     "output_type": "stream",
     "text": [
      "INFO:tensorflow:Assets written to: models\\LSTM Bitcoin.ckpt\\assets\n"
     ]
    },
    {
     "name": "stderr",
     "output_type": "stream",
     "text": [
      "INFO:tensorflow:Assets written to: models\\LSTM Bitcoin.ckpt\\assets\n"
     ]
    },
    {
     "name": "stdout",
     "output_type": "stream",
     "text": [
      "59/59 [==============================] - 8s 133ms/step - loss: 3.3675e-05 - val_loss: 3.8696e-05\n",
      "Epoch 35/100\n",
      "58/59 [============================>.] - ETA: 0s - loss: 3.7733e-05\n",
      "Epoch 35: val_loss did not improve from 0.00004\n",
      "59/59 [==============================] - 1s 23ms/step - loss: 3.7507e-05 - val_loss: 4.4796e-05\n",
      "Epoch 36/100\n",
      "58/59 [============================>.] - ETA: 0s - loss: 3.8154e-05\n",
      "Epoch 36: val_loss did not improve from 0.00004\n",
      "59/59 [==============================] - 1s 23ms/step - loss: 3.8129e-05 - val_loss: 4.4553e-05\n",
      "Epoch 37/100\n",
      "58/59 [============================>.] - ETA: 0s - loss: 3.6600e-05\n",
      "Epoch 37: val_loss did not improve from 0.00004\n",
      "59/59 [==============================] - 1s 23ms/step - loss: 3.6613e-05 - val_loss: 3.8847e-05\n",
      "Epoch 38/100\n",
      "58/59 [============================>.] - ETA: 0s - loss: 3.5533e-05\n",
      "Epoch 38: val_loss did not improve from 0.00004\n",
      "59/59 [==============================] - 1s 23ms/step - loss: 3.6570e-05 - val_loss: 6.4917e-05\n",
      "Epoch 39/100\n",
      "58/59 [============================>.] - ETA: 0s - loss: 3.9954e-05\n",
      "Epoch 39: val_loss improved from 0.00004 to 0.00004, saving model to models\\LSTM Bitcoin.ckpt\n"
     ]
    },
    {
     "name": "stderr",
     "output_type": "stream",
     "text": [
      "WARNING:absl:Found untraced functions such as lstm_cell_2_layer_call_fn, lstm_cell_2_layer_call_and_return_conditional_losses while saving (showing 2 of 2). These functions will not be directly callable after loading.\n"
     ]
    },
    {
     "name": "stdout",
     "output_type": "stream",
     "text": [
      "INFO:tensorflow:Assets written to: models\\LSTM Bitcoin.ckpt\\assets\n"
     ]
    },
    {
     "name": "stderr",
     "output_type": "stream",
     "text": [
      "INFO:tensorflow:Assets written to: models\\LSTM Bitcoin.ckpt\\assets\n"
     ]
    },
    {
     "name": "stdout",
     "output_type": "stream",
     "text": [
      "59/59 [==============================] - 8s 131ms/step - loss: 3.9606e-05 - val_loss: 3.7965e-05\n",
      "Epoch 40/100\n",
      "57/59 [===========================>..] - ETA: 0s - loss: 3.5943e-05\n",
      "Epoch 40: val_loss did not improve from 0.00004\n",
      "59/59 [==============================] - 1s 25ms/step - loss: 3.6200e-05 - val_loss: 3.8922e-05\n",
      "Epoch 41/100\n",
      "57/59 [===========================>..] - ETA: 0s - loss: 3.7879e-05\n",
      "Epoch 41: val_loss did not improve from 0.00004\n",
      "59/59 [==============================] - 2s 26ms/step - loss: 3.9423e-05 - val_loss: 7.1738e-05\n",
      "Epoch 42/100\n",
      "59/59 [==============================] - ETA: 0s - loss: 4.0734e-05\n",
      "Epoch 42: val_loss improved from 0.00004 to 0.00004, saving model to models\\LSTM Bitcoin.ckpt\n"
     ]
    },
    {
     "name": "stderr",
     "output_type": "stream",
     "text": [
      "WARNING:absl:Found untraced functions such as lstm_cell_2_layer_call_fn, lstm_cell_2_layer_call_and_return_conditional_losses while saving (showing 2 of 2). These functions will not be directly callable after loading.\n"
     ]
    },
    {
     "name": "stdout",
     "output_type": "stream",
     "text": [
      "INFO:tensorflow:Assets written to: models\\LSTM Bitcoin.ckpt\\assets\n"
     ]
    },
    {
     "name": "stderr",
     "output_type": "stream",
     "text": [
      "INFO:tensorflow:Assets written to: models\\LSTM Bitcoin.ckpt\\assets\n"
     ]
    },
    {
     "name": "stdout",
     "output_type": "stream",
     "text": [
      "59/59 [==============================] - 8s 140ms/step - loss: 4.0734e-05 - val_loss: 3.7857e-05\n",
      "Epoch 43/100\n",
      "59/59 [==============================] - ETA: 0s - loss: 3.6285e-05\n",
      "Epoch 43: val_loss improved from 0.00004 to 0.00004, saving model to models\\LSTM Bitcoin.ckpt\n"
     ]
    },
    {
     "name": "stderr",
     "output_type": "stream",
     "text": [
      "WARNING:absl:Found untraced functions such as lstm_cell_2_layer_call_fn, lstm_cell_2_layer_call_and_return_conditional_losses while saving (showing 2 of 2). These functions will not be directly callable after loading.\n"
     ]
    },
    {
     "name": "stdout",
     "output_type": "stream",
     "text": [
      "INFO:tensorflow:Assets written to: models\\LSTM Bitcoin.ckpt\\assets\n"
     ]
    },
    {
     "name": "stderr",
     "output_type": "stream",
     "text": [
      "INFO:tensorflow:Assets written to: models\\LSTM Bitcoin.ckpt\\assets\n"
     ]
    },
    {
     "name": "stdout",
     "output_type": "stream",
     "text": [
      "59/59 [==============================] - 8s 137ms/step - loss: 3.6285e-05 - val_loss: 3.7772e-05\n",
      "Epoch 44/100\n",
      "58/59 [============================>.] - ETA: 0s - loss: 3.1039e-05\n",
      "Epoch 44: val_loss did not improve from 0.00004\n",
      "59/59 [==============================] - 2s 27ms/step - loss: 3.0985e-05 - val_loss: 3.7848e-05\n",
      "Epoch 45/100\n",
      "58/59 [============================>.] - ETA: 0s - loss: 3.5849e-05\n",
      "Epoch 45: val_loss did not improve from 0.00004\n",
      "59/59 [==============================] - 1s 24ms/step - loss: 3.5677e-05 - val_loss: 4.2793e-05\n",
      "Epoch 46/100\n",
      "58/59 [============================>.] - ETA: 0s - loss: 3.2121e-05\n",
      "Epoch 46: val_loss did not improve from 0.00004\n",
      "59/59 [==============================] - 2s 26ms/step - loss: 3.2120e-05 - val_loss: 3.9050e-05\n",
      "Epoch 47/100\n",
      "58/59 [============================>.] - ETA: 0s - loss: 3.1843e-05\n",
      "Epoch 47: val_loss improved from 0.00004 to 0.00004, saving model to models\\LSTM Bitcoin.ckpt\n"
     ]
    },
    {
     "name": "stderr",
     "output_type": "stream",
     "text": [
      "WARNING:absl:Found untraced functions such as lstm_cell_2_layer_call_fn, lstm_cell_2_layer_call_and_return_conditional_losses while saving (showing 2 of 2). These functions will not be directly callable after loading.\n"
     ]
    },
    {
     "name": "stdout",
     "output_type": "stream",
     "text": [
      "INFO:tensorflow:Assets written to: models\\LSTM Bitcoin.ckpt\\assets\n"
     ]
    },
    {
     "name": "stderr",
     "output_type": "stream",
     "text": [
      "INFO:tensorflow:Assets written to: models\\LSTM Bitcoin.ckpt\\assets\n"
     ]
    },
    {
     "name": "stdout",
     "output_type": "stream",
     "text": [
      "59/59 [==============================] - 8s 138ms/step - loss: 3.3393e-05 - val_loss: 3.6646e-05\n",
      "Epoch 48/100\n",
      "59/59 [==============================] - ETA: 0s - loss: 3.3683e-05\n",
      "Epoch 48: val_loss improved from 0.00004 to 0.00004, saving model to models\\LSTM Bitcoin.ckpt\n"
     ]
    },
    {
     "name": "stderr",
     "output_type": "stream",
     "text": [
      "WARNING:absl:Found untraced functions such as lstm_cell_2_layer_call_fn, lstm_cell_2_layer_call_and_return_conditional_losses while saving (showing 2 of 2). These functions will not be directly callable after loading.\n"
     ]
    },
    {
     "name": "stdout",
     "output_type": "stream",
     "text": [
      "INFO:tensorflow:Assets written to: models\\LSTM Bitcoin.ckpt\\assets\n"
     ]
    },
    {
     "name": "stderr",
     "output_type": "stream",
     "text": [
      "INFO:tensorflow:Assets written to: models\\LSTM Bitcoin.ckpt\\assets\n"
     ]
    },
    {
     "name": "stdout",
     "output_type": "stream",
     "text": [
      "59/59 [==============================] - 10s 165ms/step - loss: 3.3683e-05 - val_loss: 3.6237e-05\n",
      "Epoch 49/100\n",
      "58/59 [============================>.] - ETA: 0s - loss: 3.9981e-05\n",
      "Epoch 49: val_loss did not improve from 0.00004\n",
      "59/59 [==============================] - 1s 24ms/step - loss: 4.0165e-05 - val_loss: 3.6441e-05\n",
      "Epoch 50/100\n",
      "58/59 [============================>.] - ETA: 0s - loss: 3.3731e-05\n",
      "Epoch 50: val_loss did not improve from 0.00004\n",
      "59/59 [==============================] - 1s 23ms/step - loss: 3.3644e-05 - val_loss: 3.6326e-05\n",
      "Epoch 51/100\n",
      "58/59 [============================>.] - ETA: 0s - loss: 2.9672e-05\n",
      "Epoch 51: val_loss improved from 0.00004 to 0.00004, saving model to models\\LSTM Bitcoin.ckpt\n"
     ]
    },
    {
     "name": "stderr",
     "output_type": "stream",
     "text": [
      "WARNING:absl:Found untraced functions such as lstm_cell_2_layer_call_fn, lstm_cell_2_layer_call_and_return_conditional_losses while saving (showing 2 of 2). These functions will not be directly callable after loading.\n"
     ]
    },
    {
     "name": "stdout",
     "output_type": "stream",
     "text": [
      "INFO:tensorflow:Assets written to: models\\LSTM Bitcoin.ckpt\\assets\n"
     ]
    },
    {
     "name": "stderr",
     "output_type": "stream",
     "text": [
      "INFO:tensorflow:Assets written to: models\\LSTM Bitcoin.ckpt\\assets\n"
     ]
    },
    {
     "name": "stdout",
     "output_type": "stream",
     "text": [
      "59/59 [==============================] - 8s 132ms/step - loss: 2.9490e-05 - val_loss: 3.5297e-05\n",
      "Epoch 52/100\n",
      "58/59 [============================>.] - ETA: 0s - loss: 3.3510e-05\n",
      "Epoch 52: val_loss improved from 0.00004 to 0.00004, saving model to models\\LSTM Bitcoin.ckpt\n"
     ]
    },
    {
     "name": "stderr",
     "output_type": "stream",
     "text": [
      "WARNING:absl:Found untraced functions such as lstm_cell_2_layer_call_fn, lstm_cell_2_layer_call_and_return_conditional_losses while saving (showing 2 of 2). These functions will not be directly callable after loading.\n"
     ]
    },
    {
     "name": "stdout",
     "output_type": "stream",
     "text": [
      "INFO:tensorflow:Assets written to: models\\LSTM Bitcoin.ckpt\\assets\n"
     ]
    },
    {
     "name": "stderr",
     "output_type": "stream",
     "text": [
      "INFO:tensorflow:Assets written to: models\\LSTM Bitcoin.ckpt\\assets\n"
     ]
    },
    {
     "name": "stdout",
     "output_type": "stream",
     "text": [
      "59/59 [==============================] - 8s 131ms/step - loss: 3.3581e-05 - val_loss: 3.5256e-05\n",
      "Epoch 53/100\n",
      "59/59 [==============================] - ETA: 0s - loss: 3.0343e-05\n",
      "Epoch 53: val_loss did not improve from 0.00004\n",
      "59/59 [==============================] - 1s 25ms/step - loss: 3.0343e-05 - val_loss: 3.5884e-05\n",
      "Epoch 54/100\n",
      "58/59 [============================>.] - ETA: 0s - loss: 3.6018e-05\n",
      "Epoch 54: val_loss did not improve from 0.00004\n",
      "59/59 [==============================] - 1s 23ms/step - loss: 3.5831e-05 - val_loss: 3.7542e-05\n",
      "Epoch 55/100\n",
      "58/59 [============================>.] - ETA: 0s - loss: 3.6237e-05\n",
      "Epoch 55: val_loss did not improve from 0.00004\n",
      "59/59 [==============================] - 2s 26ms/step - loss: 3.6037e-05 - val_loss: 3.8013e-05\n",
      "Epoch 56/100\n",
      "59/59 [==============================] - ETA: 0s - loss: 3.0378e-05\n",
      "Epoch 56: val_loss improved from 0.00004 to 0.00004, saving model to models\\LSTM Bitcoin.ckpt\n"
     ]
    },
    {
     "name": "stderr",
     "output_type": "stream",
     "text": [
      "WARNING:absl:Found untraced functions such as lstm_cell_2_layer_call_fn, lstm_cell_2_layer_call_and_return_conditional_losses while saving (showing 2 of 2). These functions will not be directly callable after loading.\n"
     ]
    },
    {
     "name": "stdout",
     "output_type": "stream",
     "text": [
      "INFO:tensorflow:Assets written to: models\\LSTM Bitcoin.ckpt\\assets\n"
     ]
    },
    {
     "name": "stderr",
     "output_type": "stream",
     "text": [
      "INFO:tensorflow:Assets written to: models\\LSTM Bitcoin.ckpt\\assets\n"
     ]
    },
    {
     "name": "stdout",
     "output_type": "stream",
     "text": [
      "59/59 [==============================] - 8s 139ms/step - loss: 3.0378e-05 - val_loss: 3.5003e-05\n",
      "Epoch 57/100\n",
      "58/59 [============================>.] - ETA: 0s - loss: 3.1458e-05\n",
      "Epoch 57: val_loss improved from 0.00004 to 0.00003, saving model to models\\LSTM Bitcoin.ckpt\n"
     ]
    },
    {
     "name": "stderr",
     "output_type": "stream",
     "text": [
      "WARNING:absl:Found untraced functions such as lstm_cell_2_layer_call_fn, lstm_cell_2_layer_call_and_return_conditional_losses while saving (showing 2 of 2). These functions will not be directly callable after loading.\n"
     ]
    },
    {
     "name": "stdout",
     "output_type": "stream",
     "text": [
      "INFO:tensorflow:Assets written to: models\\LSTM Bitcoin.ckpt\\assets\n"
     ]
    },
    {
     "name": "stderr",
     "output_type": "stream",
     "text": [
      "INFO:tensorflow:Assets written to: models\\LSTM Bitcoin.ckpt\\assets\n"
     ]
    },
    {
     "name": "stdout",
     "output_type": "stream",
     "text": [
      "59/59 [==============================] - 8s 133ms/step - loss: 3.1442e-05 - val_loss: 3.4005e-05\n",
      "Epoch 58/100\n",
      "57/59 [===========================>..] - ETA: 0s - loss: 3.4789e-05\n",
      "Epoch 58: val_loss did not improve from 0.00003\n",
      "59/59 [==============================] - 1s 23ms/step - loss: 3.4694e-05 - val_loss: 3.5225e-05\n",
      "Epoch 59/100\n",
      "58/59 [============================>.] - ETA: 0s - loss: 3.2272e-05\n",
      "Epoch 59: val_loss did not improve from 0.00003\n",
      "59/59 [==============================] - 1s 24ms/step - loss: 3.2144e-05 - val_loss: 4.0170e-05\n",
      "Epoch 60/100\n",
      "58/59 [============================>.] - ETA: 0s - loss: 3.4195e-05\n",
      "Epoch 60: val_loss did not improve from 0.00003\n",
      "59/59 [==============================] - 1s 23ms/step - loss: 3.4074e-05 - val_loss: 3.8971e-05\n",
      "Epoch 61/100\n",
      "58/59 [============================>.] - ETA: 0s - loss: 3.1865e-05\n",
      "Epoch 61: val_loss improved from 0.00003 to 0.00003, saving model to models\\LSTM Bitcoin.ckpt\n"
     ]
    },
    {
     "name": "stderr",
     "output_type": "stream",
     "text": [
      "WARNING:absl:Found untraced functions such as lstm_cell_2_layer_call_fn, lstm_cell_2_layer_call_and_return_conditional_losses while saving (showing 2 of 2). These functions will not be directly callable after loading.\n"
     ]
    },
    {
     "name": "stdout",
     "output_type": "stream",
     "text": [
      "INFO:tensorflow:Assets written to: models\\LSTM Bitcoin.ckpt\\assets\n"
     ]
    },
    {
     "name": "stderr",
     "output_type": "stream",
     "text": [
      "INFO:tensorflow:Assets written to: models\\LSTM Bitcoin.ckpt\\assets\n"
     ]
    },
    {
     "name": "stdout",
     "output_type": "stream",
     "text": [
      "59/59 [==============================] - 9s 148ms/step - loss: 3.2042e-05 - val_loss: 3.3963e-05\n",
      "Epoch 1/100\n",
      "55/57 [===========================>..] - ETA: 0s - loss: 0.0018\n",
      "Epoch 1: val_loss improved from inf to 0.00066, saving model to models\\LSTM XRP.ckpt\n"
     ]
    },
    {
     "name": "stderr",
     "output_type": "stream",
     "text": [
      "WARNING:absl:Found untraced functions such as lstm_cell_3_layer_call_fn, lstm_cell_3_layer_call_and_return_conditional_losses while saving (showing 2 of 2). These functions will not be directly callable after loading.\n"
     ]
    },
    {
     "name": "stdout",
     "output_type": "stream",
     "text": [
      "INFO:tensorflow:Assets written to: models\\LSTM XRP.ckpt\\assets\n"
     ]
    },
    {
     "name": "stderr",
     "output_type": "stream",
     "text": [
      "INFO:tensorflow:Assets written to: models\\LSTM XRP.ckpt\\assets\n"
     ]
    },
    {
     "name": "stdout",
     "output_type": "stream",
     "text": [
      "57/57 [==============================] - 10s 148ms/step - loss: 0.0018 - val_loss: 6.5553e-04\n",
      "Epoch 2/100\n",
      "55/57 [===========================>..] - ETA: 0s - loss: 6.5166e-04\n",
      "Epoch 2: val_loss improved from 0.00066 to 0.00039, saving model to models\\LSTM XRP.ckpt\n"
     ]
    },
    {
     "name": "stderr",
     "output_type": "stream",
     "text": [
      "WARNING:absl:Found untraced functions such as lstm_cell_3_layer_call_fn, lstm_cell_3_layer_call_and_return_conditional_losses while saving (showing 2 of 2). These functions will not be directly callable after loading.\n"
     ]
    },
    {
     "name": "stdout",
     "output_type": "stream",
     "text": [
      "INFO:tensorflow:Assets written to: models\\LSTM XRP.ckpt\\assets\n"
     ]
    },
    {
     "name": "stderr",
     "output_type": "stream",
     "text": [
      "INFO:tensorflow:Assets written to: models\\LSTM XRP.ckpt\\assets\n"
     ]
    },
    {
     "name": "stdout",
     "output_type": "stream",
     "text": [
      "57/57 [==============================] - 8s 137ms/step - loss: 7.0289e-04 - val_loss: 3.9158e-04\n",
      "Epoch 3/100\n",
      "55/57 [===========================>..] - ETA: 0s - loss: 6.7496e-04\n",
      "Epoch 3: val_loss improved from 0.00039 to 0.00028, saving model to models\\LSTM XRP.ckpt\n"
     ]
    },
    {
     "name": "stderr",
     "output_type": "stream",
     "text": [
      "WARNING:absl:Found untraced functions such as lstm_cell_3_layer_call_fn, lstm_cell_3_layer_call_and_return_conditional_losses while saving (showing 2 of 2). These functions will not be directly callable after loading.\n"
     ]
    },
    {
     "name": "stdout",
     "output_type": "stream",
     "text": [
      "INFO:tensorflow:Assets written to: models\\LSTM XRP.ckpt\\assets\n"
     ]
    },
    {
     "name": "stderr",
     "output_type": "stream",
     "text": [
      "INFO:tensorflow:Assets written to: models\\LSTM XRP.ckpt\\assets\n"
     ]
    },
    {
     "name": "stdout",
     "output_type": "stream",
     "text": [
      "57/57 [==============================] - 8s 135ms/step - loss: 6.6371e-04 - val_loss: 2.7667e-04\n",
      "Epoch 4/100\n",
      "56/57 [============================>.] - ETA: 0s - loss: 5.9600e-04\n",
      "Epoch 4: val_loss improved from 0.00028 to 0.00022, saving model to models\\LSTM XRP.ckpt\n"
     ]
    },
    {
     "name": "stderr",
     "output_type": "stream",
     "text": [
      "WARNING:absl:Found untraced functions such as lstm_cell_3_layer_call_fn, lstm_cell_3_layer_call_and_return_conditional_losses while saving (showing 2 of 2). These functions will not be directly callable after loading.\n"
     ]
    },
    {
     "name": "stdout",
     "output_type": "stream",
     "text": [
      "INFO:tensorflow:Assets written to: models\\LSTM XRP.ckpt\\assets\n"
     ]
    },
    {
     "name": "stderr",
     "output_type": "stream",
     "text": [
      "INFO:tensorflow:Assets written to: models\\LSTM XRP.ckpt\\assets\n"
     ]
    },
    {
     "name": "stdout",
     "output_type": "stream",
     "text": [
      "57/57 [==============================] - 9s 152ms/step - loss: 5.9000e-04 - val_loss: 2.1703e-04\n",
      "Epoch 5/100\n",
      "57/57 [==============================] - ETA: 0s - loss: 4.2305e-04\n",
      "Epoch 5: val_loss improved from 0.00022 to 0.00017, saving model to models\\LSTM XRP.ckpt\n"
     ]
    },
    {
     "name": "stderr",
     "output_type": "stream",
     "text": [
      "WARNING:absl:Found untraced functions such as lstm_cell_3_layer_call_fn, lstm_cell_3_layer_call_and_return_conditional_losses while saving (showing 2 of 2). These functions will not be directly callable after loading.\n"
     ]
    },
    {
     "name": "stdout",
     "output_type": "stream",
     "text": [
      "INFO:tensorflow:Assets written to: models\\LSTM XRP.ckpt\\assets\n"
     ]
    },
    {
     "name": "stderr",
     "output_type": "stream",
     "text": [
      "INFO:tensorflow:Assets written to: models\\LSTM XRP.ckpt\\assets\n"
     ]
    },
    {
     "name": "stdout",
     "output_type": "stream",
     "text": [
      "57/57 [==============================] - 8s 136ms/step - loss: 4.2305e-04 - val_loss: 1.6679e-04\n",
      "Epoch 6/100\n",
      "55/57 [===========================>..] - ETA: 0s - loss: 4.4031e-04\n",
      "Epoch 6: val_loss improved from 0.00017 to 0.00017, saving model to models\\LSTM XRP.ckpt\n"
     ]
    },
    {
     "name": "stderr",
     "output_type": "stream",
     "text": [
      "WARNING:absl:Found untraced functions such as lstm_cell_3_layer_call_fn, lstm_cell_3_layer_call_and_return_conditional_losses while saving (showing 2 of 2). These functions will not be directly callable after loading.\n"
     ]
    },
    {
     "name": "stdout",
     "output_type": "stream",
     "text": [
      "INFO:tensorflow:Assets written to: models\\LSTM XRP.ckpt\\assets\n"
     ]
    },
    {
     "name": "stderr",
     "output_type": "stream",
     "text": [
      "INFO:tensorflow:Assets written to: models\\LSTM XRP.ckpt\\assets\n"
     ]
    },
    {
     "name": "stdout",
     "output_type": "stream",
     "text": [
      "57/57 [==============================] - 7s 134ms/step - loss: 4.3123e-04 - val_loss: 1.6634e-04\n",
      "Epoch 7/100\n",
      "57/57 [==============================] - ETA: 0s - loss: 4.2477e-04\n",
      "Epoch 7: val_loss did not improve from 0.00017\n",
      "57/57 [==============================] - 1s 26ms/step - loss: 4.2477e-04 - val_loss: 4.1081e-04\n",
      "Epoch 8/100\n",
      "57/57 [==============================] - ETA: 0s - loss: 5.5396e-04\n",
      "Epoch 8: val_loss improved from 0.00017 to 0.00014, saving model to models\\LSTM XRP.ckpt\n"
     ]
    },
    {
     "name": "stderr",
     "output_type": "stream",
     "text": [
      "WARNING:absl:Found untraced functions such as lstm_cell_3_layer_call_fn, lstm_cell_3_layer_call_and_return_conditional_losses while saving (showing 2 of 2). These functions will not be directly callable after loading.\n"
     ]
    },
    {
     "name": "stdout",
     "output_type": "stream",
     "text": [
      "INFO:tensorflow:Assets written to: models\\LSTM XRP.ckpt\\assets\n"
     ]
    },
    {
     "name": "stderr",
     "output_type": "stream",
     "text": [
      "INFO:tensorflow:Assets written to: models\\LSTM XRP.ckpt\\assets\n"
     ]
    },
    {
     "name": "stdout",
     "output_type": "stream",
     "text": [
      "57/57 [==============================] - 8s 141ms/step - loss: 5.5396e-04 - val_loss: 1.4141e-04\n",
      "Epoch 9/100\n",
      "55/57 [===========================>..] - ETA: 0s - loss: 3.8920e-04\n",
      "Epoch 9: val_loss improved from 0.00014 to 0.00013, saving model to models\\LSTM XRP.ckpt\n"
     ]
    },
    {
     "name": "stderr",
     "output_type": "stream",
     "text": [
      "WARNING:absl:Found untraced functions such as lstm_cell_3_layer_call_fn, lstm_cell_3_layer_call_and_return_conditional_losses while saving (showing 2 of 2). These functions will not be directly callable after loading.\n"
     ]
    },
    {
     "name": "stdout",
     "output_type": "stream",
     "text": [
      "INFO:tensorflow:Assets written to: models\\LSTM XRP.ckpt\\assets\n"
     ]
    },
    {
     "name": "stderr",
     "output_type": "stream",
     "text": [
      "INFO:tensorflow:Assets written to: models\\LSTM XRP.ckpt\\assets\n"
     ]
    },
    {
     "name": "stdout",
     "output_type": "stream",
     "text": [
      "57/57 [==============================] - 8s 142ms/step - loss: 3.7951e-04 - val_loss: 1.2873e-04\n",
      "Epoch 10/100\n",
      "55/57 [===========================>..] - ETA: 0s - loss: 3.9837e-04\n",
      "Epoch 10: val_loss did not improve from 0.00013\n",
      "57/57 [==============================] - 1s 24ms/step - loss: 3.9157e-04 - val_loss: 2.1125e-04\n",
      "Epoch 11/100\n",
      "55/57 [===========================>..] - ETA: 0s - loss: 3.6492e-04\n",
      "Epoch 11: val_loss did not improve from 0.00013\n",
      "57/57 [==============================] - 1s 25ms/step - loss: 3.5674e-04 - val_loss: 1.4563e-04\n",
      "Epoch 12/100\n",
      "55/57 [===========================>..] - ETA: 0s - loss: 4.8779e-04\n",
      "Epoch 12: val_loss did not improve from 0.00013\n",
      "57/57 [==============================] - 1s 22ms/step - loss: 4.7908e-04 - val_loss: 1.4982e-04\n",
      "Epoch 13/100\n",
      "57/57 [==============================] - ETA: 0s - loss: 3.5296e-04\n",
      "Epoch 13: val_loss did not improve from 0.00013\n",
      "57/57 [==============================] - 1s 22ms/step - loss: 3.5296e-04 - val_loss: 1.5563e-04\n",
      "Epoch 14/100\n",
      "56/57 [============================>.] - ETA: 0s - loss: 3.5417e-04\n",
      "Epoch 14: val_loss did not improve from 0.00013\n",
      "57/57 [==============================] - 1s 23ms/step - loss: 3.5112e-04 - val_loss: 1.3635e-04\n",
      "Epoch 15/100\n",
      "55/57 [===========================>..] - ETA: 0s - loss: 3.4662e-04\n",
      "Epoch 15: val_loss did not improve from 0.00013\n",
      "57/57 [==============================] - 1s 22ms/step - loss: 3.4140e-04 - val_loss: 1.5797e-04\n",
      "Epoch 16/100\n",
      "55/57 [===========================>..] - ETA: 0s - loss: 3.3525e-04\n",
      "Epoch 16: val_loss did not improve from 0.00013\n",
      "57/57 [==============================] - 1s 23ms/step - loss: 3.4233e-04 - val_loss: 2.1894e-04\n",
      "Epoch 17/100\n",
      "55/57 [===========================>..] - ETA: 0s - loss: 3.1095e-04\n",
      "Epoch 17: val_loss did not improve from 0.00013\n",
      "57/57 [==============================] - 1s 22ms/step - loss: 3.1131e-04 - val_loss: 1.5784e-04\n",
      "Epoch 18/100\n",
      "55/57 [===========================>..] - ETA: 0s - loss: 2.4424e-04\n",
      "Epoch 18: val_loss did not improve from 0.00013\n",
      "57/57 [==============================] - 1s 22ms/step - loss: 2.7519e-04 - val_loss: 1.3688e-04\n",
      "Epoch 19/100\n",
      "55/57 [===========================>..] - ETA: 0s - loss: 3.6758e-04\n",
      "Epoch 19: val_loss did not improve from 0.00013\n",
      "57/57 [==============================] - 1s 23ms/step - loss: 3.6121e-04 - val_loss: 1.5752e-04\n",
      "Epoch 20/100\n",
      "55/57 [===========================>..] - ETA: 0s - loss: 3.9992e-04\n",
      "Epoch 20: val_loss did not improve from 0.00013\n",
      "57/57 [==============================] - 1s 23ms/step - loss: 3.9406e-04 - val_loss: 2.9784e-04\n",
      "Epoch 21/100\n",
      "55/57 [===========================>..] - ETA: 0s - loss: 3.3035e-04\n",
      "Epoch 21: val_loss did not improve from 0.00013\n",
      "57/57 [==============================] - 1s 23ms/step - loss: 3.2569e-04 - val_loss: 1.9371e-04\n",
      "Epoch 22/100\n",
      "56/57 [============================>.] - ETA: 0s - loss: 3.0913e-04\n",
      "Epoch 22: val_loss did not improve from 0.00013\n",
      "57/57 [==============================] - 1s 25ms/step - loss: 3.0636e-04 - val_loss: 1.4423e-04\n",
      "Epoch 23/100\n",
      "55/57 [===========================>..] - ETA: 0s - loss: 3.0079e-04\n",
      "Epoch 23: val_loss did not improve from 0.00013\n",
      "57/57 [==============================] - 1s 25ms/step - loss: 2.9743e-04 - val_loss: 1.5563e-04\n",
      "Epoch 24/100\n",
      "57/57 [==============================] - ETA: 0s - loss: 3.0754e-04\n",
      "Epoch 24: val_loss did not improve from 0.00013\n",
      "57/57 [==============================] - 2s 27ms/step - loss: 3.0754e-04 - val_loss: 1.6902e-04\n",
      "Epoch 25/100\n",
      "55/57 [===========================>..] - ETA: 0s - loss: 3.7038e-04\n",
      "Epoch 25: val_loss did not improve from 0.00013\n",
      "57/57 [==============================] - 1s 23ms/step - loss: 3.6126e-04 - val_loss: 1.7381e-04\n",
      "Epoch 26/100\n",
      "55/57 [===========================>..] - ETA: 0s - loss: 3.3516e-04\n",
      "Epoch 26: val_loss did not improve from 0.00013\n",
      "57/57 [==============================] - 1s 22ms/step - loss: 3.2754e-04 - val_loss: 1.5785e-04\n",
      "Epoch 27/100\n",
      "55/57 [===========================>..] - ETA: 0s - loss: 2.7035e-04\n",
      "Epoch 27: val_loss did not improve from 0.00013\n",
      "57/57 [==============================] - 1s 23ms/step - loss: 2.6840e-04 - val_loss: 1.3363e-04\n",
      "Epoch 28/100\n",
      "55/57 [===========================>..] - ETA: 0s - loss: 2.6829e-04\n",
      "Epoch 28: val_loss did not improve from 0.00013\n",
      "57/57 [==============================] - 1s 22ms/step - loss: 2.7286e-04 - val_loss: 1.6073e-04\n",
      "Epoch 29/100\n",
      "55/57 [===========================>..] - ETA: 0s - loss: 3.5483e-04\n",
      "Epoch 29: val_loss did not improve from 0.00013\n",
      "57/57 [==============================] - 1s 23ms/step - loss: 3.4796e-04 - val_loss: 1.8730e-04\n",
      "Epoch 30/100\n",
      "55/57 [===========================>..] - ETA: 0s - loss: 2.6247e-04\n",
      "Epoch 30: val_loss did not improve from 0.00013\n",
      "57/57 [==============================] - 1s 23ms/step - loss: 2.5740e-04 - val_loss: 1.8591e-04\n",
      "Epoch 31/100\n",
      "55/57 [===========================>..] - ETA: 0s - loss: 3.3349e-04\n",
      "Epoch 31: val_loss did not improve from 0.00013\n",
      "57/57 [==============================] - 1s 22ms/step - loss: 3.2837e-04 - val_loss: 1.5828e-04\n",
      "Epoch 32/100\n",
      "55/57 [===========================>..] - ETA: 0s - loss: 2.7728e-04\n",
      "Epoch 32: val_loss did not improve from 0.00013\n",
      "57/57 [==============================] - 1s 22ms/step - loss: 2.7321e-04 - val_loss: 1.9078e-04\n",
      "Epoch 33/100\n",
      "55/57 [===========================>..] - ETA: 0s - loss: 3.0891e-04\n",
      "Epoch 33: val_loss did not improve from 0.00013\n",
      "57/57 [==============================] - 1s 22ms/step - loss: 3.1227e-04 - val_loss: 1.5077e-04\n",
      "Epoch 34/100\n",
      "56/57 [============================>.] - ETA: 0s - loss: 2.4697e-04\n",
      "Epoch 34: val_loss did not improve from 0.00013\n",
      "57/57 [==============================] - 1s 23ms/step - loss: 2.4454e-04 - val_loss: 1.6904e-04\n",
      "Epoch 35/100\n",
      "55/57 [===========================>..] - ETA: 0s - loss: 2.8314e-04\n",
      "Epoch 35: val_loss did not improve from 0.00013\n",
      "57/57 [==============================] - 1s 23ms/step - loss: 2.7636e-04 - val_loss: 1.6248e-04\n",
      "Epoch 36/100\n",
      "55/57 [===========================>..] - ETA: 0s - loss: 2.4527e-04\n",
      "Epoch 36: val_loss did not improve from 0.00013\n",
      "57/57 [==============================] - 1s 22ms/step - loss: 2.3931e-04 - val_loss: 2.2761e-04\n",
      "Epoch 37/100\n",
      "55/57 [===========================>..] - ETA: 0s - loss: 2.6675e-04\n",
      "Epoch 37: val_loss did not improve from 0.00013\n",
      "57/57 [==============================] - 1s 22ms/step - loss: 2.6294e-04 - val_loss: 1.8095e-04\n",
      "Epoch 38/100\n",
      "55/57 [===========================>..] - ETA: 0s - loss: 2.6999e-04\n",
      "Epoch 38: val_loss did not improve from 0.00013\n",
      "57/57 [==============================] - 1s 22ms/step - loss: 2.6792e-04 - val_loss: 2.6818e-04\n",
      "Epoch 39/100\n",
      "55/57 [===========================>..] - ETA: 0s - loss: 2.4036e-04\n",
      "Epoch 39: val_loss did not improve from 0.00013\n",
      "57/57 [==============================] - 1s 22ms/step - loss: 2.4604e-04 - val_loss: 1.3937e-04\n",
      "Epoch 40/100\n",
      "55/57 [===========================>..] - ETA: 0s - loss: 2.7255e-04\n",
      "Epoch 40: val_loss did not improve from 0.00013\n",
      "57/57 [==============================] - 1s 22ms/step - loss: 2.9071e-04 - val_loss: 1.8800e-04\n",
      "Epoch 41/100\n",
      "55/57 [===========================>..] - ETA: 0s - loss: 2.3613e-04\n",
      "Epoch 41: val_loss did not improve from 0.00013\n",
      "57/57 [==============================] - 1s 22ms/step - loss: 2.3195e-04 - val_loss: 1.6499e-04\n",
      "Epoch 42/100\n",
      "55/57 [===========================>..] - ETA: 0s - loss: 2.4675e-04\n",
      "Epoch 42: val_loss did not improve from 0.00013\n",
      "57/57 [==============================] - 1s 23ms/step - loss: 2.4052e-04 - val_loss: 1.8199e-04\n",
      "Epoch 43/100\n",
      "55/57 [===========================>..] - ETA: 0s - loss: 2.7960e-04\n",
      "Epoch 43: val_loss did not improve from 0.00013\n",
      "57/57 [==============================] - 1s 24ms/step - loss: 2.7506e-04 - val_loss: 2.0118e-04\n",
      "Epoch 44/100\n",
      "56/57 [============================>.] - ETA: 0s - loss: 1.8971e-04\n",
      "Epoch 44: val_loss did not improve from 0.00013\n",
      "57/57 [==============================] - 1s 24ms/step - loss: 1.8870e-04 - val_loss: 1.5472e-04\n",
      "Epoch 45/100\n",
      "55/57 [===========================>..] - ETA: 0s - loss: 2.2410e-04\n",
      "Epoch 45: val_loss did not improve from 0.00013\n",
      "57/57 [==============================] - 1s 22ms/step - loss: 2.2553e-04 - val_loss: 1.7928e-04\n",
      "Epoch 46/100\n",
      "55/57 [===========================>..] - ETA: 0s - loss: 2.5425e-04\n",
      "Epoch 46: val_loss did not improve from 0.00013\n",
      "57/57 [==============================] - 1s 22ms/step - loss: 2.4834e-04 - val_loss: 1.5948e-04\n",
      "Epoch 47/100\n",
      "55/57 [===========================>..] - ETA: 0s - loss: 1.9709e-04\n",
      "Epoch 47: val_loss did not improve from 0.00013\n",
      "57/57 [==============================] - 1s 22ms/step - loss: 1.9494e-04 - val_loss: 1.4471e-04\n",
      "Epoch 48/100\n",
      "55/57 [===========================>..] - ETA: 0s - loss: 2.1046e-04\n",
      "Epoch 48: val_loss did not improve from 0.00013\n",
      "57/57 [==============================] - 1s 22ms/step - loss: 2.0819e-04 - val_loss: 1.4850e-04\n",
      "Epoch 49/100\n",
      "55/57 [===========================>..] - ETA: 0s - loss: 2.1030e-04\n",
      "Epoch 49: val_loss did not improve from 0.00013\n",
      "57/57 [==============================] - 1s 22ms/step - loss: 2.2236e-04 - val_loss: 1.5705e-04\n",
      "Epoch 50/100\n",
      "55/57 [===========================>..] - ETA: 0s - loss: 2.0359e-04\n",
      "Epoch 50: val_loss improved from 0.00013 to 0.00012, saving model to models\\LSTM XRP.ckpt\n"
     ]
    },
    {
     "name": "stderr",
     "output_type": "stream",
     "text": [
      "WARNING:absl:Found untraced functions such as lstm_cell_3_layer_call_fn, lstm_cell_3_layer_call_and_return_conditional_losses while saving (showing 2 of 2). These functions will not be directly callable after loading.\n"
     ]
    },
    {
     "name": "stdout",
     "output_type": "stream",
     "text": [
      "INFO:tensorflow:Assets written to: models\\LSTM XRP.ckpt\\assets\n"
     ]
    },
    {
     "name": "stderr",
     "output_type": "stream",
     "text": [
      "INFO:tensorflow:Assets written to: models\\LSTM XRP.ckpt\\assets\n"
     ]
    },
    {
     "name": "stdout",
     "output_type": "stream",
     "text": [
      "57/57 [==============================] - 8s 140ms/step - loss: 1.9922e-04 - val_loss: 1.2374e-04\n",
      "Epoch 51/100\n",
      "55/57 [===========================>..] - ETA: 0s - loss: 2.6569e-04\n",
      "Epoch 51: val_loss did not improve from 0.00012\n",
      "57/57 [==============================] - 1s 24ms/step - loss: 2.6211e-04 - val_loss: 1.3331e-04\n",
      "Epoch 52/100\n",
      "57/57 [==============================] - ETA: 0s - loss: 2.1084e-04\n",
      "Epoch 52: val_loss did not improve from 0.00012\n",
      "57/57 [==============================] - 1s 25ms/step - loss: 2.1084e-04 - val_loss: 1.3929e-04\n",
      "Epoch 53/100\n",
      "55/57 [===========================>..] - ETA: 0s - loss: 2.0178e-04\n",
      "Epoch 53: val_loss did not improve from 0.00012\n",
      "57/57 [==============================] - 1s 24ms/step - loss: 1.9897e-04 - val_loss: 1.4487e-04\n",
      "Epoch 54/100\n",
      "55/57 [===========================>..] - ETA: 0s - loss: 2.0593e-04\n",
      "Epoch 54: val_loss did not improve from 0.00012\n",
      "57/57 [==============================] - 1s 22ms/step - loss: 2.0152e-04 - val_loss: 1.2966e-04\n",
      "Epoch 1/100\n",
      "49/50 [============================>.] - ETA: 0s - loss: 0.0033\n",
      "Epoch 1: val_loss improved from inf to 0.00044, saving model to models\\LSTM Stellar.ckpt\n"
     ]
    },
    {
     "name": "stderr",
     "output_type": "stream",
     "text": [
      "WARNING:absl:Found untraced functions such as lstm_cell_4_layer_call_fn, lstm_cell_4_layer_call_and_return_conditional_losses while saving (showing 2 of 2). These functions will not be directly callable after loading.\n"
     ]
    },
    {
     "name": "stdout",
     "output_type": "stream",
     "text": [
      "INFO:tensorflow:Assets written to: models\\LSTM Stellar.ckpt\\assets\n"
     ]
    },
    {
     "name": "stderr",
     "output_type": "stream",
     "text": [
      "INFO:tensorflow:Assets written to: models\\LSTM Stellar.ckpt\\assets\n"
     ]
    },
    {
     "name": "stdout",
     "output_type": "stream",
     "text": [
      "50/50 [==============================] - 10s 158ms/step - loss: 0.0033 - val_loss: 4.4297e-04\n",
      "Epoch 2/100\n",
      "49/50 [============================>.] - ETA: 0s - loss: 0.0012\n",
      "Epoch 2: val_loss did not improve from 0.00044\n",
      "50/50 [==============================] - 1s 23ms/step - loss: 0.0012 - val_loss: 5.0828e-04\n",
      "Epoch 3/100\n",
      "49/50 [============================>.] - ETA: 0s - loss: 0.0011  \n",
      "Epoch 3: val_loss improved from 0.00044 to 0.00037, saving model to models\\LSTM Stellar.ckpt\n"
     ]
    },
    {
     "name": "stderr",
     "output_type": "stream",
     "text": [
      "WARNING:absl:Found untraced functions such as lstm_cell_4_layer_call_fn, lstm_cell_4_layer_call_and_return_conditional_losses while saving (showing 2 of 2). These functions will not be directly callable after loading.\n"
     ]
    },
    {
     "name": "stdout",
     "output_type": "stream",
     "text": [
      "INFO:tensorflow:Assets written to: models\\LSTM Stellar.ckpt\\assets\n"
     ]
    },
    {
     "name": "stderr",
     "output_type": "stream",
     "text": [
      "INFO:tensorflow:Assets written to: models\\LSTM Stellar.ckpt\\assets\n"
     ]
    },
    {
     "name": "stdout",
     "output_type": "stream",
     "text": [
      "50/50 [==============================] - 7s 146ms/step - loss: 0.0011 - val_loss: 3.7140e-04\n",
      "Epoch 4/100\n",
      "49/50 [============================>.] - ETA: 0s - loss: 9.7275e-04\n",
      "Epoch 4: val_loss improved from 0.00037 to 0.00032, saving model to models\\LSTM Stellar.ckpt\n"
     ]
    },
    {
     "name": "stderr",
     "output_type": "stream",
     "text": [
      "WARNING:absl:Found untraced functions such as lstm_cell_4_layer_call_fn, lstm_cell_4_layer_call_and_return_conditional_losses while saving (showing 2 of 2). These functions will not be directly callable after loading.\n"
     ]
    },
    {
     "name": "stdout",
     "output_type": "stream",
     "text": [
      "INFO:tensorflow:Assets written to: models\\LSTM Stellar.ckpt\\assets\n"
     ]
    },
    {
     "name": "stderr",
     "output_type": "stream",
     "text": [
      "INFO:tensorflow:Assets written to: models\\LSTM Stellar.ckpt\\assets\n"
     ]
    },
    {
     "name": "stdout",
     "output_type": "stream",
     "text": [
      "50/50 [==============================] - 7s 150ms/step - loss: 9.6736e-04 - val_loss: 3.1665e-04\n",
      "Epoch 5/100\n",
      "50/50 [==============================] - ETA: 0s - loss: 8.2087e-04\n",
      "Epoch 5: val_loss improved from 0.00032 to 0.00030, saving model to models\\LSTM Stellar.ckpt\n"
     ]
    },
    {
     "name": "stderr",
     "output_type": "stream",
     "text": [
      "WARNING:absl:Found untraced functions such as lstm_cell_4_layer_call_fn, lstm_cell_4_layer_call_and_return_conditional_losses while saving (showing 2 of 2). These functions will not be directly callable after loading.\n"
     ]
    },
    {
     "name": "stdout",
     "output_type": "stream",
     "text": [
      "INFO:tensorflow:Assets written to: models\\LSTM Stellar.ckpt\\assets\n"
     ]
    },
    {
     "name": "stderr",
     "output_type": "stream",
     "text": [
      "INFO:tensorflow:Assets written to: models\\LSTM Stellar.ckpt\\assets\n"
     ]
    },
    {
     "name": "stdout",
     "output_type": "stream",
     "text": [
      "50/50 [==============================] - 7s 152ms/step - loss: 8.2087e-04 - val_loss: 3.0240e-04\n",
      "Epoch 6/100\n",
      "48/50 [===========================>..] - ETA: 0s - loss: 7.4913e-04\n",
      "Epoch 6: val_loss did not improve from 0.00030\n",
      "50/50 [==============================] - 1s 23ms/step - loss: 7.5824e-04 - val_loss: 3.3165e-04\n",
      "Epoch 7/100\n",
      "49/50 [============================>.] - ETA: 0s - loss: 8.1696e-04\n",
      "Epoch 7: val_loss improved from 0.00030 to 0.00026, saving model to models\\LSTM Stellar.ckpt\n"
     ]
    },
    {
     "name": "stderr",
     "output_type": "stream",
     "text": [
      "WARNING:absl:Found untraced functions such as lstm_cell_4_layer_call_fn, lstm_cell_4_layer_call_and_return_conditional_losses while saving (showing 2 of 2). These functions will not be directly callable after loading.\n"
     ]
    },
    {
     "name": "stdout",
     "output_type": "stream",
     "text": [
      "INFO:tensorflow:Assets written to: models\\LSTM Stellar.ckpt\\assets\n"
     ]
    },
    {
     "name": "stderr",
     "output_type": "stream",
     "text": [
      "INFO:tensorflow:Assets written to: models\\LSTM Stellar.ckpt\\assets\n"
     ]
    },
    {
     "name": "stdout",
     "output_type": "stream",
     "text": [
      "50/50 [==============================] - 8s 153ms/step - loss: 8.1280e-04 - val_loss: 2.6377e-04\n",
      "Epoch 8/100\n",
      "49/50 [============================>.] - ETA: 0s - loss: 6.6009e-04\n",
      "Epoch 8: val_loss did not improve from 0.00026\n",
      "50/50 [==============================] - 1s 24ms/step - loss: 6.6291e-04 - val_loss: 2.8599e-04\n",
      "Epoch 9/100\n",
      "49/50 [============================>.] - ETA: 0s - loss: 5.2962e-04\n",
      "Epoch 9: val_loss did not improve from 0.00026\n",
      "50/50 [==============================] - 1s 22ms/step - loss: 6.6556e-04 - val_loss: 4.3655e-04\n",
      "Epoch 10/100\n",
      "49/50 [============================>.] - ETA: 0s - loss: 7.2717e-04\n",
      "Epoch 10: val_loss improved from 0.00026 to 0.00024, saving model to models\\LSTM Stellar.ckpt\n"
     ]
    },
    {
     "name": "stderr",
     "output_type": "stream",
     "text": [
      "WARNING:absl:Found untraced functions such as lstm_cell_4_layer_call_fn, lstm_cell_4_layer_call_and_return_conditional_losses while saving (showing 2 of 2). These functions will not be directly callable after loading.\n"
     ]
    },
    {
     "name": "stdout",
     "output_type": "stream",
     "text": [
      "INFO:tensorflow:Assets written to: models\\LSTM Stellar.ckpt\\assets\n"
     ]
    },
    {
     "name": "stderr",
     "output_type": "stream",
     "text": [
      "INFO:tensorflow:Assets written to: models\\LSTM Stellar.ckpt\\assets\n"
     ]
    },
    {
     "name": "stdout",
     "output_type": "stream",
     "text": [
      "50/50 [==============================] - 7s 151ms/step - loss: 7.2347e-04 - val_loss: 2.3667e-04\n",
      "Epoch 11/100\n",
      "48/50 [===========================>..] - ETA: 0s - loss: 6.0292e-04\n",
      "Epoch 11: val_loss did not improve from 0.00024\n",
      "50/50 [==============================] - 1s 28ms/step - loss: 5.8911e-04 - val_loss: 2.6821e-04\n",
      "Epoch 12/100\n",
      "48/50 [===========================>..] - ETA: 0s - loss: 5.2108e-04\n",
      "Epoch 12: val_loss did not improve from 0.00024\n",
      "50/50 [==============================] - 1s 27ms/step - loss: 5.1405e-04 - val_loss: 2.7859e-04\n",
      "Epoch 13/100\n",
      "48/50 [===========================>..] - ETA: 0s - loss: 5.2332e-04\n",
      "Epoch 13: val_loss improved from 0.00024 to 0.00022, saving model to models\\LSTM Stellar.ckpt\n"
     ]
    },
    {
     "name": "stderr",
     "output_type": "stream",
     "text": [
      "WARNING:absl:Found untraced functions such as lstm_cell_4_layer_call_fn, lstm_cell_4_layer_call_and_return_conditional_losses while saving (showing 2 of 2). These functions will not be directly callable after loading.\n"
     ]
    },
    {
     "name": "stdout",
     "output_type": "stream",
     "text": [
      "INFO:tensorflow:Assets written to: models\\LSTM Stellar.ckpt\\assets\n"
     ]
    },
    {
     "name": "stderr",
     "output_type": "stream",
     "text": [
      "INFO:tensorflow:Assets written to: models\\LSTM Stellar.ckpt\\assets\n"
     ]
    },
    {
     "name": "stdout",
     "output_type": "stream",
     "text": [
      "50/50 [==============================] - 7s 152ms/step - loss: 5.2005e-04 - val_loss: 2.2135e-04\n",
      "Epoch 14/100\n",
      "48/50 [===========================>..] - ETA: 0s - loss: 5.1021e-04\n",
      "Epoch 14: val_loss did not improve from 0.00022\n",
      "50/50 [==============================] - 1s 30ms/step - loss: 5.1015e-04 - val_loss: 2.2934e-04\n",
      "Epoch 15/100\n",
      "49/50 [============================>.] - ETA: 0s - loss: 5.1180e-04\n",
      "Epoch 15: val_loss did not improve from 0.00022\n",
      "50/50 [==============================] - 1s 27ms/step - loss: 5.0904e-04 - val_loss: 2.2574e-04\n",
      "Epoch 16/100\n",
      "49/50 [============================>.] - ETA: 0s - loss: 4.9970e-04\n",
      "Epoch 16: val_loss did not improve from 0.00022\n",
      "50/50 [==============================] - 1s 22ms/step - loss: 4.9743e-04 - val_loss: 3.2885e-04\n",
      "Epoch 17/100\n",
      "49/50 [============================>.] - ETA: 0s - loss: 5.6796e-04\n",
      "Epoch 17: val_loss improved from 0.00022 to 0.00022, saving model to models\\LSTM Stellar.ckpt\n"
     ]
    },
    {
     "name": "stderr",
     "output_type": "stream",
     "text": [
      "WARNING:absl:Found untraced functions such as lstm_cell_4_layer_call_fn, lstm_cell_4_layer_call_and_return_conditional_losses while saving (showing 2 of 2). These functions will not be directly callable after loading.\n"
     ]
    },
    {
     "name": "stdout",
     "output_type": "stream",
     "text": [
      "INFO:tensorflow:Assets written to: models\\LSTM Stellar.ckpt\\assets\n"
     ]
    },
    {
     "name": "stderr",
     "output_type": "stream",
     "text": [
      "INFO:tensorflow:Assets written to: models\\LSTM Stellar.ckpt\\assets\n"
     ]
    },
    {
     "name": "stdout",
     "output_type": "stream",
     "text": [
      "50/50 [==============================] - 8s 164ms/step - loss: 5.6704e-04 - val_loss: 2.1789e-04\n",
      "Epoch 18/100\n",
      "48/50 [===========================>..] - ETA: 0s - loss: 4.8856e-04\n",
      "Epoch 18: val_loss did not improve from 0.00022\n",
      "50/50 [==============================] - 1s 24ms/step - loss: 4.8099e-04 - val_loss: 2.4325e-04\n",
      "Epoch 19/100\n",
      "49/50 [============================>.] - ETA: 0s - loss: 4.7950e-04\n",
      "Epoch 19: val_loss did not improve from 0.00022\n",
      "50/50 [==============================] - 1s 23ms/step - loss: 4.7748e-04 - val_loss: 2.1919e-04\n",
      "Epoch 20/100\n",
      "49/50 [============================>.] - ETA: 0s - loss: 4.7336e-04\n",
      "Epoch 20: val_loss improved from 0.00022 to 0.00020, saving model to models\\LSTM Stellar.ckpt\n"
     ]
    },
    {
     "name": "stderr",
     "output_type": "stream",
     "text": [
      "WARNING:absl:Found untraced functions such as lstm_cell_4_layer_call_fn, lstm_cell_4_layer_call_and_return_conditional_losses while saving (showing 2 of 2). These functions will not be directly callable after loading.\n"
     ]
    },
    {
     "name": "stdout",
     "output_type": "stream",
     "text": [
      "INFO:tensorflow:Assets written to: models\\LSTM Stellar.ckpt\\assets\n"
     ]
    },
    {
     "name": "stderr",
     "output_type": "stream",
     "text": [
      "INFO:tensorflow:Assets written to: models\\LSTM Stellar.ckpt\\assets\n"
     ]
    },
    {
     "name": "stdout",
     "output_type": "stream",
     "text": [
      "50/50 [==============================] - 8s 156ms/step - loss: 4.7086e-04 - val_loss: 1.9619e-04\n",
      "Epoch 21/100\n",
      "49/50 [============================>.] - ETA: 0s - loss: 4.8887e-04\n",
      "Epoch 21: val_loss improved from 0.00020 to 0.00019, saving model to models\\LSTM Stellar.ckpt\n"
     ]
    },
    {
     "name": "stderr",
     "output_type": "stream",
     "text": [
      "WARNING:absl:Found untraced functions such as lstm_cell_4_layer_call_fn, lstm_cell_4_layer_call_and_return_conditional_losses while saving (showing 2 of 2). These functions will not be directly callable after loading.\n"
     ]
    },
    {
     "name": "stdout",
     "output_type": "stream",
     "text": [
      "INFO:tensorflow:Assets written to: models\\LSTM Stellar.ckpt\\assets\n"
     ]
    },
    {
     "name": "stderr",
     "output_type": "stream",
     "text": [
      "INFO:tensorflow:Assets written to: models\\LSTM Stellar.ckpt\\assets\n"
     ]
    },
    {
     "name": "stdout",
     "output_type": "stream",
     "text": [
      "50/50 [==============================] - 8s 161ms/step - loss: 4.8617e-04 - val_loss: 1.9104e-04\n",
      "Epoch 22/100\n",
      "48/50 [===========================>..] - ETA: 0s - loss: 5.0755e-04\n",
      "Epoch 22: val_loss did not improve from 0.00019\n",
      "50/50 [==============================] - 1s 26ms/step - loss: 4.9521e-04 - val_loss: 1.9887e-04\n",
      "Epoch 23/100\n",
      "48/50 [===========================>..] - ETA: 0s - loss: 4.9688e-04\n",
      "Epoch 23: val_loss did not improve from 0.00019\n",
      "50/50 [==============================] - 1s 28ms/step - loss: 4.9168e-04 - val_loss: 2.1271e-04\n",
      "Epoch 24/100\n",
      "49/50 [============================>.] - ETA: 0s - loss: 4.9820e-04\n",
      "Epoch 24: val_loss improved from 0.00019 to 0.00018, saving model to models\\LSTM Stellar.ckpt\n"
     ]
    },
    {
     "name": "stderr",
     "output_type": "stream",
     "text": [
      "WARNING:absl:Found untraced functions such as lstm_cell_4_layer_call_fn, lstm_cell_4_layer_call_and_return_conditional_losses while saving (showing 2 of 2). These functions will not be directly callable after loading.\n"
     ]
    },
    {
     "name": "stdout",
     "output_type": "stream",
     "text": [
      "INFO:tensorflow:Assets written to: models\\LSTM Stellar.ckpt\\assets\n"
     ]
    },
    {
     "name": "stderr",
     "output_type": "stream",
     "text": [
      "INFO:tensorflow:Assets written to: models\\LSTM Stellar.ckpt\\assets\n"
     ]
    },
    {
     "name": "stdout",
     "output_type": "stream",
     "text": [
      "50/50 [==============================] - 10s 213ms/step - loss: 4.9629e-04 - val_loss: 1.8208e-04\n",
      "Epoch 25/100\n",
      "49/50 [============================>.] - ETA: 0s - loss: 4.1440e-04\n",
      "Epoch 25: val_loss did not improve from 0.00018\n",
      "50/50 [==============================] - 1s 24ms/step - loss: 4.1237e-04 - val_loss: 2.3342e-04\n",
      "Epoch 26/100\n",
      "49/50 [============================>.] - ETA: 0s - loss: 4.2318e-04\n",
      "Epoch 26: val_loss did not improve from 0.00018\n",
      "50/50 [==============================] - 1s 23ms/step - loss: 4.2170e-04 - val_loss: 1.8512e-04\n",
      "Epoch 27/100\n",
      "49/50 [============================>.] - ETA: 0s - loss: 4.4245e-04\n",
      "Epoch 27: val_loss did not improve from 0.00018\n",
      "50/50 [==============================] - 1s 23ms/step - loss: 4.4124e-04 - val_loss: 1.9041e-04\n",
      "Epoch 28/100\n",
      "49/50 [============================>.] - ETA: 0s - loss: 5.0689e-04\n",
      "Epoch 28: val_loss did not improve from 0.00018\n",
      "50/50 [==============================] - 1s 22ms/step - loss: 5.0411e-04 - val_loss: 2.0095e-04\n",
      "Epoch 29/100\n",
      "49/50 [============================>.] - ETA: 0s - loss: 5.2358e-04\n",
      "Epoch 29: val_loss did not improve from 0.00018\n",
      "50/50 [==============================] - 1s 23ms/step - loss: 5.2084e-04 - val_loss: 2.0154e-04\n",
      "Epoch 30/100\n",
      "49/50 [============================>.] - ETA: 0s - loss: 4.7583e-04\n",
      "Epoch 30: val_loss did not improve from 0.00018\n",
      "50/50 [==============================] - 1s 22ms/step - loss: 4.7361e-04 - val_loss: 2.2168e-04\n",
      "Epoch 31/100\n",
      "48/50 [===========================>..] - ETA: 0s - loss: 4.6141e-04\n",
      "Epoch 31: val_loss improved from 0.00018 to 0.00017, saving model to models\\LSTM Stellar.ckpt\n"
     ]
    },
    {
     "name": "stderr",
     "output_type": "stream",
     "text": [
      "WARNING:absl:Found untraced functions such as lstm_cell_4_layer_call_fn, lstm_cell_4_layer_call_and_return_conditional_losses while saving (showing 2 of 2). These functions will not be directly callable after loading.\n"
     ]
    },
    {
     "name": "stdout",
     "output_type": "stream",
     "text": [
      "INFO:tensorflow:Assets written to: models\\LSTM Stellar.ckpt\\assets\n"
     ]
    },
    {
     "name": "stderr",
     "output_type": "stream",
     "text": [
      "INFO:tensorflow:Assets written to: models\\LSTM Stellar.ckpt\\assets\n"
     ]
    },
    {
     "name": "stdout",
     "output_type": "stream",
     "text": [
      "50/50 [==============================] - 8s 168ms/step - loss: 4.5604e-04 - val_loss: 1.7451e-04\n",
      "Epoch 32/100\n",
      "49/50 [============================>.] - ETA: 0s - loss: 3.9720e-04\n",
      "Epoch 32: val_loss improved from 0.00017 to 0.00017, saving model to models\\LSTM Stellar.ckpt\n"
     ]
    },
    {
     "name": "stderr",
     "output_type": "stream",
     "text": [
      "WARNING:absl:Found untraced functions such as lstm_cell_4_layer_call_fn, lstm_cell_4_layer_call_and_return_conditional_losses while saving (showing 2 of 2). These functions will not be directly callable after loading.\n"
     ]
    },
    {
     "name": "stdout",
     "output_type": "stream",
     "text": [
      "INFO:tensorflow:Assets written to: models\\LSTM Stellar.ckpt\\assets\n"
     ]
    },
    {
     "name": "stderr",
     "output_type": "stream",
     "text": [
      "INFO:tensorflow:Assets written to: models\\LSTM Stellar.ckpt\\assets\n"
     ]
    },
    {
     "name": "stdout",
     "output_type": "stream",
     "text": [
      "50/50 [==============================] - 8s 154ms/step - loss: 3.9496e-04 - val_loss: 1.7200e-04\n",
      "Epoch 33/100\n",
      "49/50 [============================>.] - ETA: 0s - loss: 3.8859e-04\n",
      "Epoch 33: val_loss did not improve from 0.00017\n",
      "50/50 [==============================] - 1s 23ms/step - loss: 3.8673e-04 - val_loss: 1.8018e-04\n",
      "Epoch 34/100\n",
      "49/50 [============================>.] - ETA: 0s - loss: 3.8674e-04\n",
      "Epoch 34: val_loss did not improve from 0.00017\n",
      "50/50 [==============================] - 1s 22ms/step - loss: 3.8658e-04 - val_loss: 1.7700e-04\n",
      "Epoch 35/100\n",
      "49/50 [============================>.] - ETA: 0s - loss: 4.4165e-04\n",
      "Epoch 35: val_loss improved from 0.00017 to 0.00016, saving model to models\\LSTM Stellar.ckpt\n"
     ]
    },
    {
     "name": "stderr",
     "output_type": "stream",
     "text": [
      "WARNING:absl:Found untraced functions such as lstm_cell_4_layer_call_fn, lstm_cell_4_layer_call_and_return_conditional_losses while saving (showing 2 of 2). These functions will not be directly callable after loading.\n"
     ]
    },
    {
     "name": "stdout",
     "output_type": "stream",
     "text": [
      "INFO:tensorflow:Assets written to: models\\LSTM Stellar.ckpt\\assets\n"
     ]
    },
    {
     "name": "stderr",
     "output_type": "stream",
     "text": [
      "INFO:tensorflow:Assets written to: models\\LSTM Stellar.ckpt\\assets\n"
     ]
    },
    {
     "name": "stdout",
     "output_type": "stream",
     "text": [
      "50/50 [==============================] - 7s 149ms/step - loss: 4.3927e-04 - val_loss: 1.6483e-04\n",
      "Epoch 36/100\n",
      "50/50 [==============================] - ETA: 0s - loss: 4.1291e-04\n",
      "Epoch 36: val_loss did not improve from 0.00016\n",
      "50/50 [==============================] - 1s 25ms/step - loss: 4.1291e-04 - val_loss: 1.6746e-04\n",
      "Epoch 37/100\n",
      "48/50 [===========================>..] - ETA: 0s - loss: 4.7903e-04\n",
      "Epoch 37: val_loss did not improve from 0.00016\n",
      "50/50 [==============================] - 1s 23ms/step - loss: 4.6932e-04 - val_loss: 1.7352e-04\n",
      "Epoch 38/100\n",
      "49/50 [============================>.] - ETA: 0s - loss: 4.0723e-04\n",
      "Epoch 38: val_loss did not improve from 0.00016\n",
      "50/50 [==============================] - 1s 22ms/step - loss: 4.0748e-04 - val_loss: 1.9276e-04\n",
      "Epoch 39/100\n",
      "49/50 [============================>.] - ETA: 0s - loss: 4.1924e-04\n",
      "Epoch 39: val_loss did not improve from 0.00016\n",
      "50/50 [==============================] - 1s 22ms/step - loss: 4.1752e-04 - val_loss: 1.8436e-04\n",
      "Epoch 40/100\n",
      "49/50 [============================>.] - ETA: 0s - loss: 3.3296e-04\n",
      "Epoch 40: val_loss did not improve from 0.00016\n",
      "50/50 [==============================] - 1s 22ms/step - loss: 3.4691e-04 - val_loss: 2.0497e-04\n",
      "Epoch 41/100\n",
      "49/50 [============================>.] - ETA: 0s - loss: 4.3894e-04\n",
      "Epoch 41: val_loss improved from 0.00016 to 0.00016, saving model to models\\LSTM Stellar.ckpt\n"
     ]
    },
    {
     "name": "stderr",
     "output_type": "stream",
     "text": [
      "WARNING:absl:Found untraced functions such as lstm_cell_4_layer_call_fn, lstm_cell_4_layer_call_and_return_conditional_losses while saving (showing 2 of 2). These functions will not be directly callable after loading.\n"
     ]
    },
    {
     "name": "stdout",
     "output_type": "stream",
     "text": [
      "INFO:tensorflow:Assets written to: models\\LSTM Stellar.ckpt\\assets\n"
     ]
    },
    {
     "name": "stderr",
     "output_type": "stream",
     "text": [
      "INFO:tensorflow:Assets written to: models\\LSTM Stellar.ckpt\\assets\n"
     ]
    },
    {
     "name": "stdout",
     "output_type": "stream",
     "text": [
      "50/50 [==============================] - 8s 153ms/step - loss: 4.4059e-04 - val_loss: 1.6342e-04\n",
      "Epoch 42/100\n",
      "49/50 [============================>.] - ETA: 0s - loss: 3.6774e-04\n",
      "Epoch 42: val_loss did not improve from 0.00016\n",
      "50/50 [==============================] - 1s 23ms/step - loss: 3.7808e-04 - val_loss: 2.1317e-04\n",
      "Epoch 43/100\n",
      "49/50 [============================>.] - ETA: 0s - loss: 4.3049e-04\n",
      "Epoch 43: val_loss did not improve from 0.00016\n",
      "50/50 [==============================] - 1s 22ms/step - loss: 4.3068e-04 - val_loss: 1.6606e-04\n",
      "Epoch 44/100\n",
      "49/50 [============================>.] - ETA: 0s - loss: 4.0992e-04\n",
      "Epoch 44: val_loss improved from 0.00016 to 0.00015, saving model to models\\LSTM Stellar.ckpt\n"
     ]
    },
    {
     "name": "stderr",
     "output_type": "stream",
     "text": [
      "WARNING:absl:Found untraced functions such as lstm_cell_4_layer_call_fn, lstm_cell_4_layer_call_and_return_conditional_losses while saving (showing 2 of 2). These functions will not be directly callable after loading.\n"
     ]
    },
    {
     "name": "stdout",
     "output_type": "stream",
     "text": [
      "INFO:tensorflow:Assets written to: models\\LSTM Stellar.ckpt\\assets\n"
     ]
    },
    {
     "name": "stderr",
     "output_type": "stream",
     "text": [
      "INFO:tensorflow:Assets written to: models\\LSTM Stellar.ckpt\\assets\n"
     ]
    },
    {
     "name": "stdout",
     "output_type": "stream",
     "text": [
      "50/50 [==============================] - 7s 151ms/step - loss: 4.0969e-04 - val_loss: 1.5227e-04\n",
      "Epoch 45/100\n",
      "49/50 [============================>.] - ETA: 0s - loss: 3.8663e-04\n",
      "Epoch 45: val_loss did not improve from 0.00015\n",
      "50/50 [==============================] - 1s 24ms/step - loss: 3.8460e-04 - val_loss: 1.9875e-04\n",
      "Epoch 46/100\n",
      "49/50 [============================>.] - ETA: 0s - loss: 4.0937e-04\n",
      "Epoch 46: val_loss did not improve from 0.00015\n",
      "50/50 [==============================] - 1s 24ms/step - loss: 4.0724e-04 - val_loss: 1.6594e-04\n",
      "Epoch 47/100\n",
      "49/50 [============================>.] - ETA: 0s - loss: 3.6563e-04\n",
      "Epoch 47: val_loss did not improve from 0.00015\n",
      "50/50 [==============================] - 1s 23ms/step - loss: 3.6430e-04 - val_loss: 1.5904e-04\n",
      "Epoch 48/100\n",
      "49/50 [============================>.] - ETA: 0s - loss: 3.5125e-04\n",
      "Epoch 48: val_loss did not improve from 0.00015\n",
      "50/50 [==============================] - 1s 22ms/step - loss: 3.5104e-04 - val_loss: 1.7498e-04\n",
      "Epoch 49/100\n",
      "49/50 [============================>.] - ETA: 0s - loss: 4.1447e-04\n",
      "Epoch 49: val_loss did not improve from 0.00015\n",
      "50/50 [==============================] - 1s 22ms/step - loss: 4.1235e-04 - val_loss: 1.5339e-04\n",
      "Epoch 50/100\n",
      "49/50 [============================>.] - ETA: 0s - loss: 4.1475e-04\n",
      "Epoch 50: val_loss did not improve from 0.00015\n",
      "50/50 [==============================] - 1s 22ms/step - loss: 4.1354e-04 - val_loss: 1.6653e-04\n",
      "Epoch 1/100\n",
      "49/51 [===========================>..] - ETA: 0s - loss: 0.0096\n",
      "Epoch 1: val_loss improved from inf to 0.00105, saving model to models\\LSTM Monero.ckpt\n"
     ]
    },
    {
     "name": "stderr",
     "output_type": "stream",
     "text": [
      "WARNING:absl:Found untraced functions such as lstm_cell_5_layer_call_fn, lstm_cell_5_layer_call_and_return_conditional_losses while saving (showing 2 of 2). These functions will not be directly callable after loading.\n"
     ]
    },
    {
     "name": "stdout",
     "output_type": "stream",
     "text": [
      "INFO:tensorflow:Assets written to: models\\LSTM Monero.ckpt\\assets\n"
     ]
    },
    {
     "name": "stderr",
     "output_type": "stream",
     "text": [
      "INFO:tensorflow:Assets written to: models\\LSTM Monero.ckpt\\assets\n"
     ]
    },
    {
     "name": "stdout",
     "output_type": "stream",
     "text": [
      "51/51 [==============================] - 11s 172ms/step - loss: 0.0093 - val_loss: 0.0011\n",
      "Epoch 2/100\n",
      "50/51 [============================>.] - ETA: 0s - loss: 0.0013\n",
      "Epoch 2: val_loss improved from 0.00105 to 0.00084, saving model to models\\LSTM Monero.ckpt\n"
     ]
    },
    {
     "name": "stderr",
     "output_type": "stream",
     "text": [
      "WARNING:absl:Found untraced functions such as lstm_cell_5_layer_call_fn, lstm_cell_5_layer_call_and_return_conditional_losses while saving (showing 2 of 2). These functions will not be directly callable after loading.\n"
     ]
    },
    {
     "name": "stdout",
     "output_type": "stream",
     "text": [
      "INFO:tensorflow:Assets written to: models\\LSTM Monero.ckpt\\assets\n"
     ]
    },
    {
     "name": "stderr",
     "output_type": "stream",
     "text": [
      "INFO:tensorflow:Assets written to: models\\LSTM Monero.ckpt\\assets\n"
     ]
    },
    {
     "name": "stdout",
     "output_type": "stream",
     "text": [
      "51/51 [==============================] - 7s 148ms/step - loss: 0.0013 - val_loss: 8.4362e-04\n",
      "Epoch 3/100\n",
      "49/51 [===========================>..] - ETA: 0s - loss: 0.0012\n",
      "Epoch 3: val_loss improved from 0.00084 to 0.00066, saving model to models\\LSTM Monero.ckpt\n"
     ]
    },
    {
     "name": "stderr",
     "output_type": "stream",
     "text": [
      "WARNING:absl:Found untraced functions such as lstm_cell_5_layer_call_fn, lstm_cell_5_layer_call_and_return_conditional_losses while saving (showing 2 of 2). These functions will not be directly callable after loading.\n"
     ]
    },
    {
     "name": "stdout",
     "output_type": "stream",
     "text": [
      "INFO:tensorflow:Assets written to: models\\LSTM Monero.ckpt\\assets\n"
     ]
    },
    {
     "name": "stderr",
     "output_type": "stream",
     "text": [
      "INFO:tensorflow:Assets written to: models\\LSTM Monero.ckpt\\assets\n"
     ]
    },
    {
     "name": "stdout",
     "output_type": "stream",
     "text": [
      "51/51 [==============================] - 8s 157ms/step - loss: 0.0013 - val_loss: 6.5601e-04\n",
      "Epoch 4/100\n",
      "49/51 [===========================>..] - ETA: 0s - loss: 8.8147e-04\n",
      "Epoch 4: val_loss did not improve from 0.00066\n",
      "51/51 [==============================] - 1s 23ms/step - loss: 9.0598e-04 - val_loss: 6.8365e-04\n",
      "Epoch 5/100\n",
      "49/51 [===========================>..] - ETA: 0s - loss: 0.0011  \n",
      "Epoch 5: val_loss did not improve from 0.00066\n",
      "51/51 [==============================] - 1s 23ms/step - loss: 0.0011 - val_loss: 7.1685e-04\n",
      "Epoch 6/100\n",
      "49/51 [===========================>..] - ETA: 0s - loss: 8.8184e-04\n",
      "Epoch 6: val_loss improved from 0.00066 to 0.00064, saving model to models\\LSTM Monero.ckpt\n"
     ]
    },
    {
     "name": "stderr",
     "output_type": "stream",
     "text": [
      "WARNING:absl:Found untraced functions such as lstm_cell_5_layer_call_fn, lstm_cell_5_layer_call_and_return_conditional_losses while saving (showing 2 of 2). These functions will not be directly callable after loading.\n"
     ]
    },
    {
     "name": "stdout",
     "output_type": "stream",
     "text": [
      "INFO:tensorflow:Assets written to: models\\LSTM Monero.ckpt\\assets\n"
     ]
    },
    {
     "name": "stderr",
     "output_type": "stream",
     "text": [
      "INFO:tensorflow:Assets written to: models\\LSTM Monero.ckpt\\assets\n"
     ]
    },
    {
     "name": "stdout",
     "output_type": "stream",
     "text": [
      "51/51 [==============================] - 7s 148ms/step - loss: 8.9781e-04 - val_loss: 6.3510e-04\n",
      "Epoch 7/100\n",
      "49/51 [===========================>..] - ETA: 0s - loss: 8.8587e-04\n",
      "Epoch 7: val_loss improved from 0.00064 to 0.00056, saving model to models\\LSTM Monero.ckpt\n"
     ]
    },
    {
     "name": "stderr",
     "output_type": "stream",
     "text": [
      "WARNING:absl:Found untraced functions such as lstm_cell_5_layer_call_fn, lstm_cell_5_layer_call_and_return_conditional_losses while saving (showing 2 of 2). These functions will not be directly callable after loading.\n"
     ]
    },
    {
     "name": "stdout",
     "output_type": "stream",
     "text": [
      "INFO:tensorflow:Assets written to: models\\LSTM Monero.ckpt\\assets\n"
     ]
    },
    {
     "name": "stderr",
     "output_type": "stream",
     "text": [
      "INFO:tensorflow:Assets written to: models\\LSTM Monero.ckpt\\assets\n"
     ]
    },
    {
     "name": "stdout",
     "output_type": "stream",
     "text": [
      "51/51 [==============================] - 8s 151ms/step - loss: 8.8847e-04 - val_loss: 5.5522e-04\n",
      "Epoch 8/100\n",
      "49/51 [===========================>..] - ETA: 0s - loss: 7.8849e-04\n",
      "Epoch 8: val_loss did not improve from 0.00056\n",
      "51/51 [==============================] - 1s 24ms/step - loss: 7.7310e-04 - val_loss: 6.8284e-04\n",
      "Epoch 9/100\n",
      "49/51 [===========================>..] - ETA: 0s - loss: 8.5430e-04\n",
      "Epoch 9: val_loss improved from 0.00056 to 0.00050, saving model to models\\LSTM Monero.ckpt\n"
     ]
    },
    {
     "name": "stderr",
     "output_type": "stream",
     "text": [
      "WARNING:absl:Found untraced functions such as lstm_cell_5_layer_call_fn, lstm_cell_5_layer_call_and_return_conditional_losses while saving (showing 2 of 2). These functions will not be directly callable after loading.\n"
     ]
    },
    {
     "name": "stdout",
     "output_type": "stream",
     "text": [
      "INFO:tensorflow:Assets written to: models\\LSTM Monero.ckpt\\assets\n"
     ]
    },
    {
     "name": "stderr",
     "output_type": "stream",
     "text": [
      "INFO:tensorflow:Assets written to: models\\LSTM Monero.ckpt\\assets\n"
     ]
    },
    {
     "name": "stdout",
     "output_type": "stream",
     "text": [
      "51/51 [==============================] - 7s 146ms/step - loss: 8.6135e-04 - val_loss: 4.9525e-04\n",
      "Epoch 10/100\n",
      "49/51 [===========================>..] - ETA: 0s - loss: 8.0147e-04\n",
      "Epoch 10: val_loss did not improve from 0.00050\n",
      "51/51 [==============================] - 1s 23ms/step - loss: 8.1491e-04 - val_loss: 5.2338e-04\n",
      "Epoch 11/100\n",
      "49/51 [===========================>..] - ETA: 0s - loss: 7.8693e-04\n",
      "Epoch 11: val_loss did not improve from 0.00050\n",
      "51/51 [==============================] - 1s 23ms/step - loss: 7.8135e-04 - val_loss: 5.1005e-04\n",
      "Epoch 12/100\n",
      "49/51 [===========================>..] - ETA: 0s - loss: 7.9419e-04\n",
      "Epoch 12: val_loss did not improve from 0.00050\n",
      "51/51 [==============================] - 1s 23ms/step - loss: 7.8683e-04 - val_loss: 4.9703e-04\n",
      "Epoch 13/100\n",
      "49/51 [===========================>..] - ETA: 0s - loss: 7.1414e-04\n",
      "Epoch 13: val_loss improved from 0.00050 to 0.00045, saving model to models\\LSTM Monero.ckpt\n"
     ]
    },
    {
     "name": "stderr",
     "output_type": "stream",
     "text": [
      "WARNING:absl:Found untraced functions such as lstm_cell_5_layer_call_fn, lstm_cell_5_layer_call_and_return_conditional_losses while saving (showing 2 of 2). These functions will not be directly callable after loading.\n"
     ]
    },
    {
     "name": "stdout",
     "output_type": "stream",
     "text": [
      "INFO:tensorflow:Assets written to: models\\LSTM Monero.ckpt\\assets\n"
     ]
    },
    {
     "name": "stderr",
     "output_type": "stream",
     "text": [
      "INFO:tensorflow:Assets written to: models\\LSTM Monero.ckpt\\assets\n"
     ]
    },
    {
     "name": "stdout",
     "output_type": "stream",
     "text": [
      "51/51 [==============================] - 7s 145ms/step - loss: 7.0874e-04 - val_loss: 4.4693e-04\n",
      "Epoch 14/100\n",
      "49/51 [===========================>..] - ETA: 0s - loss: 6.3097e-04\n",
      "Epoch 14: val_loss did not improve from 0.00045\n",
      "51/51 [==============================] - 1s 23ms/step - loss: 6.3159e-04 - val_loss: 4.7222e-04\n",
      "Epoch 15/100\n",
      "51/51 [==============================] - ETA: 0s - loss: 7.4043e-04\n",
      "Epoch 15: val_loss did not improve from 0.00045\n",
      "51/51 [==============================] - 1s 24ms/step - loss: 7.4043e-04 - val_loss: 5.0337e-04\n",
      "Epoch 16/100\n",
      "49/51 [===========================>..] - ETA: 0s - loss: 6.3004e-04\n",
      "Epoch 16: val_loss did not improve from 0.00045\n",
      "51/51 [==============================] - 1s 22ms/step - loss: 6.4931e-04 - val_loss: 4.6640e-04\n",
      "Epoch 17/100\n",
      "49/51 [===========================>..] - ETA: 0s - loss: 5.7689e-04\n",
      "Epoch 17: val_loss improved from 0.00045 to 0.00045, saving model to models\\LSTM Monero.ckpt\n"
     ]
    },
    {
     "name": "stderr",
     "output_type": "stream",
     "text": [
      "WARNING:absl:Found untraced functions such as lstm_cell_5_layer_call_fn, lstm_cell_5_layer_call_and_return_conditional_losses while saving (showing 2 of 2). These functions will not be directly callable after loading.\n"
     ]
    },
    {
     "name": "stdout",
     "output_type": "stream",
     "text": [
      "INFO:tensorflow:Assets written to: models\\LSTM Monero.ckpt\\assets\n"
     ]
    },
    {
     "name": "stderr",
     "output_type": "stream",
     "text": [
      "INFO:tensorflow:Assets written to: models\\LSTM Monero.ckpt\\assets\n"
     ]
    },
    {
     "name": "stdout",
     "output_type": "stream",
     "text": [
      "51/51 [==============================] - 8s 156ms/step - loss: 6.0973e-04 - val_loss: 4.4619e-04\n",
      "Epoch 18/100\n",
      "49/51 [===========================>..] - ETA: 0s - loss: 6.0122e-04\n",
      "Epoch 18: val_loss improved from 0.00045 to 0.00042, saving model to models\\LSTM Monero.ckpt\n"
     ]
    },
    {
     "name": "stderr",
     "output_type": "stream",
     "text": [
      "WARNING:absl:Found untraced functions such as lstm_cell_5_layer_call_fn, lstm_cell_5_layer_call_and_return_conditional_losses while saving (showing 2 of 2). These functions will not be directly callable after loading.\n"
     ]
    },
    {
     "name": "stdout",
     "output_type": "stream",
     "text": [
      "INFO:tensorflow:Assets written to: models\\LSTM Monero.ckpt\\assets\n"
     ]
    },
    {
     "name": "stderr",
     "output_type": "stream",
     "text": [
      "INFO:tensorflow:Assets written to: models\\LSTM Monero.ckpt\\assets\n"
     ]
    },
    {
     "name": "stdout",
     "output_type": "stream",
     "text": [
      "51/51 [==============================] - 10s 206ms/step - loss: 5.9153e-04 - val_loss: 4.2471e-04\n",
      "Epoch 19/100\n",
      "51/51 [==============================] - ETA: 0s - loss: 6.1469e-04\n",
      "Epoch 19: val_loss did not improve from 0.00042\n",
      "51/51 [==============================] - 1s 24ms/step - loss: 6.1469e-04 - val_loss: 4.8454e-04\n",
      "Epoch 20/100\n",
      "50/51 [============================>.] - ETA: 0s - loss: 6.3550e-04\n",
      "Epoch 20: val_loss improved from 0.00042 to 0.00039, saving model to models\\LSTM Monero.ckpt\n"
     ]
    },
    {
     "name": "stderr",
     "output_type": "stream",
     "text": [
      "WARNING:absl:Found untraced functions such as lstm_cell_5_layer_call_fn, lstm_cell_5_layer_call_and_return_conditional_losses while saving (showing 2 of 2). These functions will not be directly callable after loading.\n"
     ]
    },
    {
     "name": "stdout",
     "output_type": "stream",
     "text": [
      "INFO:tensorflow:Assets written to: models\\LSTM Monero.ckpt\\assets\n"
     ]
    },
    {
     "name": "stderr",
     "output_type": "stream",
     "text": [
      "INFO:tensorflow:Assets written to: models\\LSTM Monero.ckpt\\assets\n"
     ]
    },
    {
     "name": "stdout",
     "output_type": "stream",
     "text": [
      "51/51 [==============================] - 7s 149ms/step - loss: 6.2685e-04 - val_loss: 3.9372e-04\n",
      "Epoch 21/100\n",
      "49/51 [===========================>..] - ETA: 0s - loss: 6.8124e-04\n",
      "Epoch 21: val_loss did not improve from 0.00039\n",
      "51/51 [==============================] - 1s 23ms/step - loss: 6.8969e-04 - val_loss: 4.1737e-04\n",
      "Epoch 22/100\n",
      "49/51 [===========================>..] - ETA: 0s - loss: 5.8289e-04\n",
      "Epoch 22: val_loss did not improve from 0.00039\n",
      "51/51 [==============================] - 1s 24ms/step - loss: 5.9631e-04 - val_loss: 4.0846e-04\n",
      "Epoch 23/100\n",
      "49/51 [===========================>..] - ETA: 0s - loss: 5.3674e-04\n",
      "Epoch 23: val_loss improved from 0.00039 to 0.00038, saving model to models\\LSTM Monero.ckpt\n"
     ]
    },
    {
     "name": "stderr",
     "output_type": "stream",
     "text": [
      "WARNING:absl:Found untraced functions such as lstm_cell_5_layer_call_fn, lstm_cell_5_layer_call_and_return_conditional_losses while saving (showing 2 of 2). These functions will not be directly callable after loading.\n"
     ]
    },
    {
     "name": "stdout",
     "output_type": "stream",
     "text": [
      "INFO:tensorflow:Assets written to: models\\LSTM Monero.ckpt\\assets\n"
     ]
    },
    {
     "name": "stderr",
     "output_type": "stream",
     "text": [
      "INFO:tensorflow:Assets written to: models\\LSTM Monero.ckpt\\assets\n"
     ]
    },
    {
     "name": "stdout",
     "output_type": "stream",
     "text": [
      "51/51 [==============================] - 7s 149ms/step - loss: 5.4033e-04 - val_loss: 3.7987e-04\n",
      "Epoch 24/100\n",
      "49/51 [===========================>..] - ETA: 0s - loss: 8.1858e-04\n",
      "Epoch 24: val_loss did not improve from 0.00038\n",
      "51/51 [==============================] - 1s 24ms/step - loss: 7.9712e-04 - val_loss: 4.4370e-04\n",
      "Epoch 25/100\n",
      "51/51 [==============================] - ETA: 0s - loss: 6.4916e-04\n",
      "Epoch 25: val_loss improved from 0.00038 to 0.00037, saving model to models\\LSTM Monero.ckpt\n"
     ]
    },
    {
     "name": "stderr",
     "output_type": "stream",
     "text": [
      "WARNING:absl:Found untraced functions such as lstm_cell_5_layer_call_fn, lstm_cell_5_layer_call_and_return_conditional_losses while saving (showing 2 of 2). These functions will not be directly callable after loading.\n"
     ]
    },
    {
     "name": "stdout",
     "output_type": "stream",
     "text": [
      "INFO:tensorflow:Assets written to: models\\LSTM Monero.ckpt\\assets\n"
     ]
    },
    {
     "name": "stderr",
     "output_type": "stream",
     "text": [
      "INFO:tensorflow:Assets written to: models\\LSTM Monero.ckpt\\assets\n"
     ]
    },
    {
     "name": "stdout",
     "output_type": "stream",
     "text": [
      "51/51 [==============================] - 8s 160ms/step - loss: 6.4916e-04 - val_loss: 3.7492e-04\n",
      "Epoch 26/100\n",
      "50/51 [============================>.] - ETA: 0s - loss: 5.4319e-04\n",
      "Epoch 26: val_loss did not improve from 0.00037\n",
      "51/51 [==============================] - 1s 25ms/step - loss: 5.6411e-04 - val_loss: 3.8895e-04\n",
      "Epoch 27/100\n",
      "51/51 [==============================] - ETA: 0s - loss: 5.9525e-04\n",
      "Epoch 27: val_loss did not improve from 0.00037\n",
      "51/51 [==============================] - 1s 29ms/step - loss: 5.9525e-04 - val_loss: 3.7504e-04\n",
      "Epoch 28/100\n",
      "49/51 [===========================>..] - ETA: 0s - loss: 6.0411e-04\n",
      "Epoch 28: val_loss did not improve from 0.00037\n",
      "51/51 [==============================] - 1s 25ms/step - loss: 5.8989e-04 - val_loss: 3.7797e-04\n",
      "Epoch 29/100\n",
      "50/51 [============================>.] - ETA: 0s - loss: 5.7979e-04\n",
      "Epoch 29: val_loss improved from 0.00037 to 0.00035, saving model to models\\LSTM Monero.ckpt\n"
     ]
    },
    {
     "name": "stderr",
     "output_type": "stream",
     "text": [
      "WARNING:absl:Found untraced functions such as lstm_cell_5_layer_call_fn, lstm_cell_5_layer_call_and_return_conditional_losses while saving (showing 2 of 2). These functions will not be directly callable after loading.\n"
     ]
    },
    {
     "name": "stdout",
     "output_type": "stream",
     "text": [
      "INFO:tensorflow:Assets written to: models\\LSTM Monero.ckpt\\assets\n"
     ]
    },
    {
     "name": "stderr",
     "output_type": "stream",
     "text": [
      "INFO:tensorflow:Assets written to: models\\LSTM Monero.ckpt\\assets\n"
     ]
    },
    {
     "name": "stdout",
     "output_type": "stream",
     "text": [
      "51/51 [==============================] - 8s 156ms/step - loss: 5.8210e-04 - val_loss: 3.5000e-04\n",
      "Epoch 30/100\n",
      "49/51 [===========================>..] - ETA: 0s - loss: 5.9921e-04\n",
      "Epoch 30: val_loss did not improve from 0.00035\n",
      "51/51 [==============================] - 1s 23ms/step - loss: 5.8756e-04 - val_loss: 3.7054e-04\n",
      "Epoch 31/100\n",
      "49/51 [===========================>..] - ETA: 0s - loss: 6.0785e-04\n",
      "Epoch 31: val_loss did not improve from 0.00035\n",
      "51/51 [==============================] - 1s 23ms/step - loss: 6.1728e-04 - val_loss: 3.6837e-04\n",
      "Epoch 32/100\n",
      "51/51 [==============================] - ETA: 0s - loss: 5.8332e-04\n",
      "Epoch 32: val_loss improved from 0.00035 to 0.00035, saving model to models\\LSTM Monero.ckpt\n"
     ]
    },
    {
     "name": "stderr",
     "output_type": "stream",
     "text": [
      "WARNING:absl:Found untraced functions such as lstm_cell_5_layer_call_fn, lstm_cell_5_layer_call_and_return_conditional_losses while saving (showing 2 of 2). These functions will not be directly callable after loading.\n"
     ]
    },
    {
     "name": "stdout",
     "output_type": "stream",
     "text": [
      "INFO:tensorflow:Assets written to: models\\LSTM Monero.ckpt\\assets\n"
     ]
    },
    {
     "name": "stderr",
     "output_type": "stream",
     "text": [
      "INFO:tensorflow:Assets written to: models\\LSTM Monero.ckpt\\assets\n"
     ]
    },
    {
     "name": "stdout",
     "output_type": "stream",
     "text": [
      "51/51 [==============================] - 8s 157ms/step - loss: 5.8332e-04 - val_loss: 3.4764e-04\n",
      "Epoch 33/100\n",
      "49/51 [===========================>..] - ETA: 0s - loss: 4.9610e-04\n",
      "Epoch 33: val_loss improved from 0.00035 to 0.00034, saving model to models\\LSTM Monero.ckpt\n"
     ]
    },
    {
     "name": "stderr",
     "output_type": "stream",
     "text": [
      "WARNING:absl:Found untraced functions such as lstm_cell_5_layer_call_fn, lstm_cell_5_layer_call_and_return_conditional_losses while saving (showing 2 of 2). These functions will not be directly callable after loading.\n"
     ]
    },
    {
     "name": "stdout",
     "output_type": "stream",
     "text": [
      "INFO:tensorflow:Assets written to: models\\LSTM Monero.ckpt\\assets\n"
     ]
    },
    {
     "name": "stderr",
     "output_type": "stream",
     "text": [
      "INFO:tensorflow:Assets written to: models\\LSTM Monero.ckpt\\assets\n"
     ]
    },
    {
     "name": "stdout",
     "output_type": "stream",
     "text": [
      "51/51 [==============================] - 8s 150ms/step - loss: 5.1035e-04 - val_loss: 3.4471e-04\n",
      "Epoch 34/100\n",
      "49/51 [===========================>..] - ETA: 0s - loss: 5.2884e-04\n",
      "Epoch 34: val_loss improved from 0.00034 to 0.00034, saving model to models\\LSTM Monero.ckpt\n"
     ]
    },
    {
     "name": "stderr",
     "output_type": "stream",
     "text": [
      "WARNING:absl:Found untraced functions such as lstm_cell_5_layer_call_fn, lstm_cell_5_layer_call_and_return_conditional_losses while saving (showing 2 of 2). These functions will not be directly callable after loading.\n"
     ]
    },
    {
     "name": "stdout",
     "output_type": "stream",
     "text": [
      "INFO:tensorflow:Assets written to: models\\LSTM Monero.ckpt\\assets\n"
     ]
    },
    {
     "name": "stderr",
     "output_type": "stream",
     "text": [
      "INFO:tensorflow:Assets written to: models\\LSTM Monero.ckpt\\assets\n"
     ]
    },
    {
     "name": "stdout",
     "output_type": "stream",
     "text": [
      "51/51 [==============================] - 7s 143ms/step - loss: 5.3036e-04 - val_loss: 3.3999e-04\n",
      "Epoch 35/100\n",
      "49/51 [===========================>..] - ETA: 0s - loss: 5.5505e-04\n",
      "Epoch 35: val_loss improved from 0.00034 to 0.00034, saving model to models\\LSTM Monero.ckpt\n"
     ]
    },
    {
     "name": "stderr",
     "output_type": "stream",
     "text": [
      "WARNING:absl:Found untraced functions such as lstm_cell_5_layer_call_fn, lstm_cell_5_layer_call_and_return_conditional_losses while saving (showing 2 of 2). These functions will not be directly callable after loading.\n"
     ]
    },
    {
     "name": "stdout",
     "output_type": "stream",
     "text": [
      "INFO:tensorflow:Assets written to: models\\LSTM Monero.ckpt\\assets\n"
     ]
    },
    {
     "name": "stderr",
     "output_type": "stream",
     "text": [
      "INFO:tensorflow:Assets written to: models\\LSTM Monero.ckpt\\assets\n"
     ]
    },
    {
     "name": "stdout",
     "output_type": "stream",
     "text": [
      "51/51 [==============================] - 7s 144ms/step - loss: 5.4128e-04 - val_loss: 3.3732e-04\n",
      "Epoch 36/100\n",
      "49/51 [===========================>..] - ETA: 0s - loss: 5.7148e-04\n",
      "Epoch 36: val_loss did not improve from 0.00034\n",
      "51/51 [==============================] - 1s 22ms/step - loss: 5.6505e-04 - val_loss: 3.6708e-04\n",
      "Epoch 37/100\n",
      "49/51 [===========================>..] - ETA: 0s - loss: 5.0609e-04\n",
      "Epoch 37: val_loss improved from 0.00034 to 0.00033, saving model to models\\LSTM Monero.ckpt\n"
     ]
    },
    {
     "name": "stderr",
     "output_type": "stream",
     "text": [
      "WARNING:absl:Found untraced functions such as lstm_cell_5_layer_call_fn, lstm_cell_5_layer_call_and_return_conditional_losses while saving (showing 2 of 2). These functions will not be directly callable after loading.\n"
     ]
    },
    {
     "name": "stdout",
     "output_type": "stream",
     "text": [
      "INFO:tensorflow:Assets written to: models\\LSTM Monero.ckpt\\assets\n"
     ]
    },
    {
     "name": "stderr",
     "output_type": "stream",
     "text": [
      "INFO:tensorflow:Assets written to: models\\LSTM Monero.ckpt\\assets\n"
     ]
    },
    {
     "name": "stdout",
     "output_type": "stream",
     "text": [
      "51/51 [==============================] - 8s 150ms/step - loss: 5.2014e-04 - val_loss: 3.2857e-04\n",
      "Epoch 38/100\n",
      "51/51 [==============================] - ETA: 0s - loss: 4.4311e-04\n",
      "Epoch 38: val_loss improved from 0.00033 to 0.00033, saving model to models\\LSTM Monero.ckpt\n"
     ]
    },
    {
     "name": "stderr",
     "output_type": "stream",
     "text": [
      "WARNING:absl:Found untraced functions such as lstm_cell_5_layer_call_fn, lstm_cell_5_layer_call_and_return_conditional_losses while saving (showing 2 of 2). These functions will not be directly callable after loading.\n"
     ]
    },
    {
     "name": "stdout",
     "output_type": "stream",
     "text": [
      "INFO:tensorflow:Assets written to: models\\LSTM Monero.ckpt\\assets\n"
     ]
    },
    {
     "name": "stderr",
     "output_type": "stream",
     "text": [
      "INFO:tensorflow:Assets written to: models\\LSTM Monero.ckpt\\assets\n"
     ]
    },
    {
     "name": "stdout",
     "output_type": "stream",
     "text": [
      "51/51 [==============================] - 8s 165ms/step - loss: 4.4311e-04 - val_loss: 3.2710e-04\n",
      "Epoch 39/100\n",
      "51/51 [==============================] - ETA: 0s - loss: 4.6307e-04\n",
      "Epoch 39: val_loss did not improve from 0.00033\n",
      "51/51 [==============================] - 1s 24ms/step - loss: 4.6307e-04 - val_loss: 3.3143e-04\n",
      "Epoch 40/100\n",
      "50/51 [============================>.] - ETA: 0s - loss: 5.7764e-04\n",
      "Epoch 40: val_loss did not improve from 0.00033\n",
      "51/51 [==============================] - 1s 28ms/step - loss: 5.6985e-04 - val_loss: 4.1025e-04\n",
      "Epoch 41/100\n",
      "49/51 [===========================>..] - ETA: 0s - loss: 5.1197e-04\n",
      "Epoch 41: val_loss did not improve from 0.00033\n",
      "51/51 [==============================] - 1s 27ms/step - loss: 5.1333e-04 - val_loss: 3.3574e-04\n",
      "Epoch 42/100\n",
      "49/51 [===========================>..] - ETA: 0s - loss: 5.6477e-04\n",
      "Epoch 42: val_loss did not improve from 0.00033\n",
      "51/51 [==============================] - 1s 22ms/step - loss: 5.4834e-04 - val_loss: 4.4115e-04\n",
      "Epoch 43/100\n",
      "49/51 [===========================>..] - ETA: 0s - loss: 5.0854e-04\n",
      "Epoch 43: val_loss did not improve from 0.00033\n",
      "51/51 [==============================] - 1s 22ms/step - loss: 4.9872e-04 - val_loss: 3.7280e-04\n",
      "Epoch 44/100\n",
      "50/51 [============================>.] - ETA: 0s - loss: 5.0168e-04\n",
      "Epoch 44: val_loss did not improve from 0.00033\n",
      "51/51 [==============================] - 1s 24ms/step - loss: 4.9649e-04 - val_loss: 3.8561e-04\n",
      "Epoch 45/100\n",
      "49/51 [===========================>..] - ETA: 0s - loss: 5.8267e-04\n",
      "Epoch 45: val_loss did not improve from 0.00033\n",
      "51/51 [==============================] - 1s 23ms/step - loss: 5.7245e-04 - val_loss: 4.5794e-04\n",
      "Epoch 46/100\n",
      "49/51 [===========================>..] - ETA: 0s - loss: 6.1935e-04\n",
      "Epoch 46: val_loss improved from 0.00033 to 0.00032, saving model to models\\LSTM Monero.ckpt\n"
     ]
    },
    {
     "name": "stderr",
     "output_type": "stream",
     "text": [
      "WARNING:absl:Found untraced functions such as lstm_cell_5_layer_call_fn, lstm_cell_5_layer_call_and_return_conditional_losses while saving (showing 2 of 2). These functions will not be directly callable after loading.\n"
     ]
    },
    {
     "name": "stdout",
     "output_type": "stream",
     "text": [
      "INFO:tensorflow:Assets written to: models\\LSTM Monero.ckpt\\assets\n"
     ]
    },
    {
     "name": "stderr",
     "output_type": "stream",
     "text": [
      "INFO:tensorflow:Assets written to: models\\LSTM Monero.ckpt\\assets\n"
     ]
    },
    {
     "name": "stdout",
     "output_type": "stream",
     "text": [
      "51/51 [==============================] - 10s 204ms/step - loss: 6.0785e-04 - val_loss: 3.2280e-04\n",
      "Epoch 47/100\n",
      "49/51 [===========================>..] - ETA: 0s - loss: 4.7950e-04\n",
      "Epoch 47: val_loss did not improve from 0.00032\n",
      "51/51 [==============================] - 1s 24ms/step - loss: 4.7804e-04 - val_loss: 3.7332e-04\n",
      "Epoch 48/100\n",
      "49/51 [===========================>..] - ETA: 0s - loss: 5.0548e-04\n",
      "Epoch 48: val_loss improved from 0.00032 to 0.00032, saving model to models\\LSTM Monero.ckpt\n"
     ]
    },
    {
     "name": "stderr",
     "output_type": "stream",
     "text": [
      "WARNING:absl:Found untraced functions such as lstm_cell_5_layer_call_fn, lstm_cell_5_layer_call_and_return_conditional_losses while saving (showing 2 of 2). These functions will not be directly callable after loading.\n"
     ]
    },
    {
     "name": "stdout",
     "output_type": "stream",
     "text": [
      "INFO:tensorflow:Assets written to: models\\LSTM Monero.ckpt\\assets\n"
     ]
    },
    {
     "name": "stderr",
     "output_type": "stream",
     "text": [
      "INFO:tensorflow:Assets written to: models\\LSTM Monero.ckpt\\assets\n"
     ]
    },
    {
     "name": "stdout",
     "output_type": "stream",
     "text": [
      "51/51 [==============================] - 7s 143ms/step - loss: 4.9228e-04 - val_loss: 3.1887e-04\n",
      "Epoch 1/100\n",
      "45/45 [==============================] - ETA: 0s - loss: 0.0027\n",
      "Epoch 1: val_loss improved from inf to 0.00050, saving model to models\\LSTM NEM.ckpt\n"
     ]
    },
    {
     "name": "stderr",
     "output_type": "stream",
     "text": [
      "WARNING:absl:Found untraced functions such as lstm_cell_6_layer_call_fn, lstm_cell_6_layer_call_and_return_conditional_losses while saving (showing 2 of 2). These functions will not be directly callable after loading.\n"
     ]
    },
    {
     "name": "stdout",
     "output_type": "stream",
     "text": [
      "INFO:tensorflow:Assets written to: models\\LSTM NEM.ckpt\\assets\n"
     ]
    },
    {
     "name": "stderr",
     "output_type": "stream",
     "text": [
      "INFO:tensorflow:Assets written to: models\\LSTM NEM.ckpt\\assets\n"
     ]
    },
    {
     "name": "stdout",
     "output_type": "stream",
     "text": [
      "45/45 [==============================] - 10s 169ms/step - loss: 0.0027 - val_loss: 4.9934e-04\n",
      "Epoch 2/100\n",
      "43/45 [===========================>..] - ETA: 0s - loss: 0.0010    \n",
      "Epoch 2: val_loss did not improve from 0.00050\n",
      "45/45 [==============================] - 1s 22ms/step - loss: 9.8796e-04 - val_loss: 9.7405e-04\n",
      "Epoch 3/100\n",
      "43/45 [===========================>..] - ETA: 0s - loss: 9.0295e-04\n",
      "Epoch 3: val_loss improved from 0.00050 to 0.00044, saving model to models\\LSTM NEM.ckpt\n"
     ]
    },
    {
     "name": "stderr",
     "output_type": "stream",
     "text": [
      "WARNING:absl:Found untraced functions such as lstm_cell_6_layer_call_fn, lstm_cell_6_layer_call_and_return_conditional_losses while saving (showing 2 of 2). These functions will not be directly callable after loading.\n"
     ]
    },
    {
     "name": "stdout",
     "output_type": "stream",
     "text": [
      "INFO:tensorflow:Assets written to: models\\LSTM NEM.ckpt\\assets\n"
     ]
    },
    {
     "name": "stderr",
     "output_type": "stream",
     "text": [
      "INFO:tensorflow:Assets written to: models\\LSTM NEM.ckpt\\assets\n"
     ]
    },
    {
     "name": "stdout",
     "output_type": "stream",
     "text": [
      "45/45 [==============================] - 7s 161ms/step - loss: 9.3096e-04 - val_loss: 4.3842e-04\n",
      "Epoch 4/100\n",
      "45/45 [==============================] - ETA: 0s - loss: 7.3922e-04\n",
      "Epoch 4: val_loss improved from 0.00044 to 0.00037, saving model to models\\LSTM NEM.ckpt\n"
     ]
    },
    {
     "name": "stderr",
     "output_type": "stream",
     "text": [
      "WARNING:absl:Found untraced functions such as lstm_cell_6_layer_call_fn, lstm_cell_6_layer_call_and_return_conditional_losses while saving (showing 2 of 2). These functions will not be directly callable after loading.\n"
     ]
    },
    {
     "name": "stdout",
     "output_type": "stream",
     "text": [
      "INFO:tensorflow:Assets written to: models\\LSTM NEM.ckpt\\assets\n"
     ]
    },
    {
     "name": "stderr",
     "output_type": "stream",
     "text": [
      "INFO:tensorflow:Assets written to: models\\LSTM NEM.ckpt\\assets\n"
     ]
    },
    {
     "name": "stdout",
     "output_type": "stream",
     "text": [
      "45/45 [==============================] - 7s 161ms/step - loss: 7.3922e-04 - val_loss: 3.7014e-04\n",
      "Epoch 5/100\n",
      "44/45 [============================>.] - ETA: 0s - loss: 7.3632e-04\n",
      "Epoch 5: val_loss improved from 0.00037 to 0.00032, saving model to models\\LSTM NEM.ckpt\n"
     ]
    },
    {
     "name": "stderr",
     "output_type": "stream",
     "text": [
      "WARNING:absl:Found untraced functions such as lstm_cell_6_layer_call_fn, lstm_cell_6_layer_call_and_return_conditional_losses while saving (showing 2 of 2). These functions will not be directly callable after loading.\n"
     ]
    },
    {
     "name": "stdout",
     "output_type": "stream",
     "text": [
      "INFO:tensorflow:Assets written to: models\\LSTM NEM.ckpt\\assets\n"
     ]
    },
    {
     "name": "stderr",
     "output_type": "stream",
     "text": [
      "INFO:tensorflow:Assets written to: models\\LSTM NEM.ckpt\\assets\n"
     ]
    },
    {
     "name": "stdout",
     "output_type": "stream",
     "text": [
      "45/45 [==============================] - 7s 162ms/step - loss: 7.2886e-04 - val_loss: 3.1571e-04\n",
      "Epoch 6/100\n",
      "43/45 [===========================>..] - ETA: 0s - loss: 6.9634e-04\n",
      "Epoch 6: val_loss did not improve from 0.00032\n",
      "45/45 [==============================] - 1s 24ms/step - loss: 6.8593e-04 - val_loss: 4.0086e-04\n",
      "Epoch 7/100\n",
      "43/45 [===========================>..] - ETA: 0s - loss: 8.7405e-04\n",
      "Epoch 7: val_loss did not improve from 0.00032\n",
      "45/45 [==============================] - 1s 22ms/step - loss: 8.4677e-04 - val_loss: 5.3784e-04\n",
      "Epoch 8/100\n",
      "45/45 [==============================] - ETA: 0s - loss: 5.6095e-04\n",
      "Epoch 8: val_loss improved from 0.00032 to 0.00022, saving model to models\\LSTM NEM.ckpt\n"
     ]
    },
    {
     "name": "stderr",
     "output_type": "stream",
     "text": [
      "WARNING:absl:Found untraced functions such as lstm_cell_6_layer_call_fn, lstm_cell_6_layer_call_and_return_conditional_losses while saving (showing 2 of 2). These functions will not be directly callable after loading.\n"
     ]
    },
    {
     "name": "stdout",
     "output_type": "stream",
     "text": [
      "INFO:tensorflow:Assets written to: models\\LSTM NEM.ckpt\\assets\n"
     ]
    },
    {
     "name": "stderr",
     "output_type": "stream",
     "text": [
      "INFO:tensorflow:Assets written to: models\\LSTM NEM.ckpt\\assets\n"
     ]
    },
    {
     "name": "stdout",
     "output_type": "stream",
     "text": [
      "45/45 [==============================] - 7s 168ms/step - loss: 5.6095e-04 - val_loss: 2.2472e-04\n",
      "Epoch 9/100\n",
      "43/45 [===========================>..] - ETA: 0s - loss: 5.9442e-04\n",
      "Epoch 9: val_loss did not improve from 0.00022\n",
      "45/45 [==============================] - 1s 23ms/step - loss: 5.8869e-04 - val_loss: 3.0418e-04\n",
      "Epoch 10/100\n",
      "43/45 [===========================>..] - ETA: 0s - loss: 5.2448e-04\n",
      "Epoch 10: val_loss did not improve from 0.00022\n",
      "45/45 [==============================] - 1s 25ms/step - loss: 5.1246e-04 - val_loss: 2.3015e-04\n",
      "Epoch 11/100\n",
      "43/45 [===========================>..] - ETA: 0s - loss: 5.5077e-04\n",
      "Epoch 11: val_loss improved from 0.00022 to 0.00019, saving model to models\\LSTM NEM.ckpt\n"
     ]
    },
    {
     "name": "stderr",
     "output_type": "stream",
     "text": [
      "WARNING:absl:Found untraced functions such as lstm_cell_6_layer_call_fn, lstm_cell_6_layer_call_and_return_conditional_losses while saving (showing 2 of 2). These functions will not be directly callable after loading.\n"
     ]
    },
    {
     "name": "stdout",
     "output_type": "stream",
     "text": [
      "INFO:tensorflow:Assets written to: models\\LSTM NEM.ckpt\\assets\n"
     ]
    },
    {
     "name": "stderr",
     "output_type": "stream",
     "text": [
      "INFO:tensorflow:Assets written to: models\\LSTM NEM.ckpt\\assets\n"
     ]
    },
    {
     "name": "stdout",
     "output_type": "stream",
     "text": [
      "45/45 [==============================] - 7s 166ms/step - loss: 5.3381e-04 - val_loss: 1.9225e-04\n",
      "Epoch 12/100\n",
      "44/45 [============================>.] - ETA: 0s - loss: 4.1538e-04\n",
      "Epoch 12: val_loss did not improve from 0.00019\n",
      "45/45 [==============================] - 1s 29ms/step - loss: 5.2343e-04 - val_loss: 2.2379e-04\n",
      "Epoch 13/100\n",
      "44/45 [============================>.] - ETA: 0s - loss: 7.6266e-04\n",
      "Epoch 13: val_loss did not improve from 0.00019\n",
      "45/45 [==============================] - 1s 25ms/step - loss: 7.5507e-04 - val_loss: 2.8615e-04\n",
      "Epoch 14/100\n",
      "43/45 [===========================>..] - ETA: 0s - loss: 5.1335e-04\n",
      "Epoch 14: val_loss did not improve from 0.00019\n",
      "45/45 [==============================] - 1s 23ms/step - loss: 5.0747e-04 - val_loss: 2.4984e-04\n",
      "Epoch 15/100\n",
      "43/45 [===========================>..] - ETA: 0s - loss: 4.8598e-04\n",
      "Epoch 15: val_loss did not improve from 0.00019\n",
      "45/45 [==============================] - 1s 22ms/step - loss: 4.9588e-04 - val_loss: 3.9780e-04\n",
      "Epoch 16/100\n",
      "43/45 [===========================>..] - ETA: 0s - loss: 4.9568e-04\n",
      "Epoch 16: val_loss did not improve from 0.00019\n",
      "45/45 [==============================] - 1s 22ms/step - loss: 4.9520e-04 - val_loss: 2.0747e-04\n",
      "Epoch 17/100\n",
      "43/45 [===========================>..] - ETA: 0s - loss: 4.8851e-04\n",
      "Epoch 17: val_loss improved from 0.00019 to 0.00019, saving model to models\\LSTM NEM.ckpt\n"
     ]
    },
    {
     "name": "stderr",
     "output_type": "stream",
     "text": [
      "WARNING:absl:Found untraced functions such as lstm_cell_6_layer_call_fn, lstm_cell_6_layer_call_and_return_conditional_losses while saving (showing 2 of 2). These functions will not be directly callable after loading.\n"
     ]
    },
    {
     "name": "stdout",
     "output_type": "stream",
     "text": [
      "INFO:tensorflow:Assets written to: models\\LSTM NEM.ckpt\\assets\n"
     ]
    },
    {
     "name": "stderr",
     "output_type": "stream",
     "text": [
      "INFO:tensorflow:Assets written to: models\\LSTM NEM.ckpt\\assets\n"
     ]
    },
    {
     "name": "stdout",
     "output_type": "stream",
     "text": [
      "45/45 [==============================] - 7s 161ms/step - loss: 4.7455e-04 - val_loss: 1.8981e-04\n",
      "Epoch 18/100\n",
      "43/45 [===========================>..] - ETA: 0s - loss: 4.2693e-04\n",
      "Epoch 18: val_loss improved from 0.00019 to 0.00018, saving model to models\\LSTM NEM.ckpt\n"
     ]
    },
    {
     "name": "stderr",
     "output_type": "stream",
     "text": [
      "WARNING:absl:Found untraced functions such as lstm_cell_6_layer_call_fn, lstm_cell_6_layer_call_and_return_conditional_losses while saving (showing 2 of 2). These functions will not be directly callable after loading.\n"
     ]
    },
    {
     "name": "stdout",
     "output_type": "stream",
     "text": [
      "INFO:tensorflow:Assets written to: models\\LSTM NEM.ckpt\\assets\n"
     ]
    },
    {
     "name": "stderr",
     "output_type": "stream",
     "text": [
      "INFO:tensorflow:Assets written to: models\\LSTM NEM.ckpt\\assets\n"
     ]
    },
    {
     "name": "stdout",
     "output_type": "stream",
     "text": [
      "45/45 [==============================] - 7s 163ms/step - loss: 4.3857e-04 - val_loss: 1.7856e-04\n",
      "Epoch 19/100\n",
      "43/45 [===========================>..] - ETA: 0s - loss: 5.4069e-04\n",
      "Epoch 19: val_loss did not improve from 0.00018\n",
      "45/45 [==============================] - 1s 22ms/step - loss: 5.2590e-04 - val_loss: 2.0039e-04\n",
      "Epoch 20/100\n",
      "43/45 [===========================>..] - ETA: 0s - loss: 4.2077e-04\n",
      "Epoch 20: val_loss did not improve from 0.00018\n",
      "45/45 [==============================] - 1s 22ms/step - loss: 4.1749e-04 - val_loss: 2.2104e-04\n",
      "Epoch 21/100\n",
      "43/45 [===========================>..] - ETA: 0s - loss: 5.9624e-04\n",
      "Epoch 21: val_loss improved from 0.00018 to 0.00018, saving model to models\\LSTM NEM.ckpt\n"
     ]
    },
    {
     "name": "stderr",
     "output_type": "stream",
     "text": [
      "WARNING:absl:Found untraced functions such as lstm_cell_6_layer_call_fn, lstm_cell_6_layer_call_and_return_conditional_losses while saving (showing 2 of 2). These functions will not be directly callable after loading.\n"
     ]
    },
    {
     "name": "stdout",
     "output_type": "stream",
     "text": [
      "INFO:tensorflow:Assets written to: models\\LSTM NEM.ckpt\\assets\n"
     ]
    },
    {
     "name": "stderr",
     "output_type": "stream",
     "text": [
      "INFO:tensorflow:Assets written to: models\\LSTM NEM.ckpt\\assets\n"
     ]
    },
    {
     "name": "stdout",
     "output_type": "stream",
     "text": [
      "45/45 [==============================] - 7s 162ms/step - loss: 5.8756e-04 - val_loss: 1.7850e-04\n",
      "Epoch 22/100\n",
      "43/45 [===========================>..] - ETA: 0s - loss: 5.3778e-04\n",
      "Epoch 22: val_loss did not improve from 0.00018\n",
      "45/45 [==============================] - 1s 23ms/step - loss: 5.2499e-04 - val_loss: 2.0156e-04\n",
      "Epoch 23/100\n",
      "43/45 [===========================>..] - ETA: 0s - loss: 4.0027e-04\n",
      "Epoch 23: val_loss improved from 0.00018 to 0.00018, saving model to models\\LSTM NEM.ckpt\n"
     ]
    },
    {
     "name": "stderr",
     "output_type": "stream",
     "text": [
      "WARNING:absl:Found untraced functions such as lstm_cell_6_layer_call_fn, lstm_cell_6_layer_call_and_return_conditional_losses while saving (showing 2 of 2). These functions will not be directly callable after loading.\n"
     ]
    },
    {
     "name": "stdout",
     "output_type": "stream",
     "text": [
      "INFO:tensorflow:Assets written to: models\\LSTM NEM.ckpt\\assets\n"
     ]
    },
    {
     "name": "stderr",
     "output_type": "stream",
     "text": [
      "INFO:tensorflow:Assets written to: models\\LSTM NEM.ckpt\\assets\n"
     ]
    },
    {
     "name": "stdout",
     "output_type": "stream",
     "text": [
      "45/45 [==============================] - 7s 162ms/step - loss: 3.9861e-04 - val_loss: 1.7575e-04\n",
      "Epoch 24/100\n",
      "44/45 [============================>.] - ETA: 0s - loss: 5.1277e-04\n",
      "Epoch 24: val_loss did not improve from 0.00018\n",
      "45/45 [==============================] - 1s 23ms/step - loss: 5.0783e-04 - val_loss: 2.0120e-04\n",
      "Epoch 25/100\n",
      "43/45 [===========================>..] - ETA: 0s - loss: 4.9096e-04\n",
      "Epoch 25: val_loss did not improve from 0.00018\n",
      "45/45 [==============================] - 1s 22ms/step - loss: 4.8428e-04 - val_loss: 2.3603e-04\n",
      "Epoch 26/100\n",
      "43/45 [===========================>..] - ETA: 0s - loss: 4.2140e-04\n",
      "Epoch 26: val_loss did not improve from 0.00018\n",
      "45/45 [==============================] - 1s 22ms/step - loss: 4.3242e-04 - val_loss: 2.1459e-04\n",
      "Epoch 27/100\n",
      "43/45 [===========================>..] - ETA: 0s - loss: 3.5164e-04\n",
      "Epoch 27: val_loss did not improve from 0.00018\n",
      "45/45 [==============================] - 1s 22ms/step - loss: 3.6154e-04 - val_loss: 2.0690e-04\n",
      "Epoch 28/100\n",
      "43/45 [===========================>..] - ETA: 0s - loss: 3.9059e-04\n",
      "Epoch 28: val_loss did not improve from 0.00018\n",
      "45/45 [==============================] - 1s 22ms/step - loss: 3.7991e-04 - val_loss: 1.8871e-04\n",
      "Epoch 29/100\n",
      "43/45 [===========================>..] - ETA: 0s - loss: 4.1311e-04\n",
      "Epoch 29: val_loss did not improve from 0.00018\n",
      "45/45 [==============================] - 1s 22ms/step - loss: 4.0453e-04 - val_loss: 1.9148e-04\n",
      "Epoch 30/100\n",
      "43/45 [===========================>..] - ETA: 0s - loss: 3.9707e-04\n",
      "Epoch 30: val_loss did not improve from 0.00018\n",
      "45/45 [==============================] - 1s 22ms/step - loss: 3.9629e-04 - val_loss: 1.9947e-04\n",
      "Epoch 31/100\n",
      "43/45 [===========================>..] - ETA: 0s - loss: 4.3221e-04\n",
      "Epoch 31: val_loss did not improve from 0.00018\n",
      "45/45 [==============================] - 1s 22ms/step - loss: 4.3513e-04 - val_loss: 2.2584e-04\n",
      "Epoch 32/100\n",
      "43/45 [===========================>..] - ETA: 0s - loss: 4.1148e-04\n",
      "Epoch 32: val_loss did not improve from 0.00018\n",
      "45/45 [==============================] - 1s 23ms/step - loss: 4.0942e-04 - val_loss: 2.0090e-04\n",
      "Epoch 33/100\n",
      "43/45 [===========================>..] - ETA: 0s - loss: 3.9472e-04\n",
      "Epoch 33: val_loss did not improve from 0.00018\n",
      "45/45 [==============================] - 1s 22ms/step - loss: 3.9002e-04 - val_loss: 1.9453e-04\n",
      "Epoch 34/100\n",
      "43/45 [===========================>..] - ETA: 0s - loss: 3.5028e-04\n",
      "Epoch 34: val_loss did not improve from 0.00018\n",
      "45/45 [==============================] - 1s 22ms/step - loss: 3.4063e-04 - val_loss: 2.3082e-04\n",
      "Epoch 35/100\n",
      "43/45 [===========================>..] - ETA: 0s - loss: 4.4296e-04\n",
      "Epoch 35: val_loss did not improve from 0.00018\n",
      "45/45 [==============================] - 1s 22ms/step - loss: 4.4168e-04 - val_loss: 2.2283e-04\n",
      "Epoch 36/100\n",
      "43/45 [===========================>..] - ETA: 0s - loss: 3.8462e-04\n",
      "Epoch 36: val_loss did not improve from 0.00018\n",
      "45/45 [==============================] - 1s 21ms/step - loss: 3.8041e-04 - val_loss: 2.1838e-04\n",
      "Epoch 37/100\n",
      "43/45 [===========================>..] - ETA: 0s - loss: 2.4925e-04\n",
      "Epoch 37: val_loss did not improve from 0.00018\n",
      "45/45 [==============================] - 1s 22ms/step - loss: 3.9214e-04 - val_loss: 2.1439e-04\n",
      "Epoch 38/100\n",
      "43/45 [===========================>..] - ETA: 0s - loss: 4.1342e-04\n",
      "Epoch 38: val_loss did not improve from 0.00018\n",
      "45/45 [==============================] - 1s 22ms/step - loss: 4.0701e-04 - val_loss: 1.8901e-04\n",
      "Epoch 39/100\n",
      "43/45 [===========================>..] - ETA: 0s - loss: 3.8503e-04\n",
      "Epoch 39: val_loss did not improve from 0.00018\n",
      "45/45 [==============================] - 1s 22ms/step - loss: 3.8369e-04 - val_loss: 2.0823e-04\n",
      "Epoch 40/100\n",
      "43/45 [===========================>..] - ETA: 0s - loss: 2.2961e-04\n",
      "Epoch 40: val_loss did not improve from 0.00018\n",
      "45/45 [==============================] - 1s 22ms/step - loss: 3.5663e-04 - val_loss: 2.1017e-04\n",
      "Epoch 41/100\n",
      "43/45 [===========================>..] - ETA: 0s - loss: 3.6888e-04\n",
      "Epoch 41: val_loss did not improve from 0.00018\n",
      "45/45 [==============================] - 1s 22ms/step - loss: 3.7933e-04 - val_loss: 2.7823e-04\n",
      "Epoch 42/100\n",
      "44/45 [============================>.] - ETA: 0s - loss: 4.9595e-04\n",
      "Epoch 42: val_loss did not improve from 0.00018\n",
      "45/45 [==============================] - 1s 27ms/step - loss: 4.9070e-04 - val_loss: 2.4413e-04\n",
      "Epoch 43/100\n",
      "43/45 [===========================>..] - ETA: 0s - loss: 2.6095e-04\n",
      "Epoch 43: val_loss did not improve from 0.00018\n",
      "45/45 [==============================] - 1s 22ms/step - loss: 3.4890e-04 - val_loss: 2.4348e-04\n",
      "Epoch 44/100\n",
      "43/45 [===========================>..] - ETA: 0s - loss: 3.0097e-04\n",
      "Epoch 44: val_loss did not improve from 0.00018\n",
      "45/45 [==============================] - 1s 22ms/step - loss: 2.9322e-04 - val_loss: 2.0648e-04\n",
      "Epoch 45/100\n",
      "43/45 [===========================>..] - ETA: 0s - loss: 3.6212e-04\n",
      "Epoch 45: val_loss did not improve from 0.00018\n",
      "45/45 [==============================] - 1s 22ms/step - loss: 3.5092e-04 - val_loss: 2.0091e-04\n",
      "Epoch 46/100\n",
      "43/45 [===========================>..] - ETA: 0s - loss: 3.6755e-04\n",
      "Epoch 46: val_loss did not improve from 0.00018\n",
      "45/45 [==============================] - 1s 22ms/step - loss: 3.6381e-04 - val_loss: 2.1987e-04\n",
      "Epoch 47/100\n",
      "43/45 [===========================>..] - ETA: 0s - loss: 3.9506e-04\n",
      "Epoch 47: val_loss did not improve from 0.00018\n",
      "45/45 [==============================] - 1s 23ms/step - loss: 3.9670e-04 - val_loss: 2.0283e-04\n",
      "Epoch 48/100\n",
      "43/45 [===========================>..] - ETA: 0s - loss: 3.1501e-04\n",
      "Epoch 48: val_loss did not improve from 0.00018\n",
      "45/45 [==============================] - 1s 24ms/step - loss: 3.0616e-04 - val_loss: 2.0685e-04\n",
      "Epoch 49/100\n",
      "43/45 [===========================>..] - ETA: 0s - loss: 2.0076e-04\n",
      "Epoch 49: val_loss did not improve from 0.00018\n",
      "45/45 [==============================] - 1s 23ms/step - loss: 2.9419e-04 - val_loss: 2.3983e-04\n",
      "Epoch 50/100\n",
      "43/45 [===========================>..] - ETA: 0s - loss: 3.7623e-04\n",
      "Epoch 50: val_loss did not improve from 0.00018\n",
      "45/45 [==============================] - 1s 23ms/step - loss: 3.9425e-04 - val_loss: 2.1348e-04\n",
      "Epoch 51/100\n",
      "43/45 [===========================>..] - ETA: 0s - loss: 3.6315e-04\n",
      "Epoch 51: val_loss did not improve from 0.00018\n",
      "45/45 [==============================] - 1s 22ms/step - loss: 3.5497e-04 - val_loss: 2.1357e-04\n",
      "Epoch 52/100\n",
      "43/45 [===========================>..] - ETA: 0s - loss: 3.7760e-04\n",
      "Epoch 52: val_loss did not improve from 0.00018\n",
      "45/45 [==============================] - 1s 22ms/step - loss: 3.7160e-04 - val_loss: 1.8201e-04\n",
      "Epoch 53/100\n",
      "43/45 [===========================>..] - ETA: 0s - loss: 2.9013e-04\n",
      "Epoch 53: val_loss did not improve from 0.00018\n",
      "45/45 [==============================] - 1s 23ms/step - loss: 2.8262e-04 - val_loss: 2.2082e-04\n",
      "Epoch 54/100\n",
      "43/45 [===========================>..] - ETA: 0s - loss: 3.6900e-04\n",
      "Epoch 54: val_loss did not improve from 0.00018\n",
      "45/45 [==============================] - 1s 25ms/step - loss: 3.6033e-04 - val_loss: 2.4420e-04\n",
      "Epoch 55/100\n",
      "45/45 [==============================] - ETA: 0s - loss: 3.2451e-04\n",
      "Epoch 55: val_loss did not improve from 0.00018\n",
      "45/45 [==============================] - 3s 75ms/step - loss: 3.2451e-04 - val_loss: 1.9852e-04\n",
      "Epoch 56/100\n",
      "43/45 [===========================>..] - ETA: 0s - loss: 3.5753e-04\n",
      "Epoch 56: val_loss did not improve from 0.00018\n",
      "45/45 [==============================] - 1s 21ms/step - loss: 3.4867e-04 - val_loss: 2.4859e-04\n",
      "Epoch 57/100\n",
      "43/45 [===========================>..] - ETA: 0s - loss: 3.5436e-04\n",
      "Epoch 57: val_loss did not improve from 0.00018\n",
      "45/45 [==============================] - 1s 22ms/step - loss: 3.4522e-04 - val_loss: 1.9080e-04\n",
      "Epoch 58/100\n",
      "43/45 [===========================>..] - ETA: 0s - loss: 3.8998e-04\n",
      "Epoch 58: val_loss did not improve from 0.00018\n",
      "45/45 [==============================] - 1s 22ms/step - loss: 3.8634e-04 - val_loss: 2.0712e-04\n",
      "Epoch 59/100\n",
      "43/45 [===========================>..] - ETA: 0s - loss: 3.5063e-04\n",
      "Epoch 59: val_loss did not improve from 0.00018\n",
      "45/45 [==============================] - 1s 22ms/step - loss: 3.4502e-04 - val_loss: 1.9679e-04\n",
      "Epoch 60/100\n",
      "43/45 [===========================>..] - ETA: 0s - loss: 3.5835e-04\n",
      "Epoch 60: val_loss did not improve from 0.00018\n",
      "45/45 [==============================] - 1s 22ms/step - loss: 3.5004e-04 - val_loss: 1.9268e-04\n",
      "Epoch 61/100\n",
      "43/45 [===========================>..] - ETA: 0s - loss: 3.5551e-04\n",
      "Epoch 61: val_loss did not improve from 0.00018\n",
      "45/45 [==============================] - 1s 23ms/step - loss: 3.4832e-04 - val_loss: 2.1148e-04\n",
      "Epoch 62/100\n",
      "43/45 [===========================>..] - ETA: 0s - loss: 4.0600e-04\n",
      "Epoch 62: val_loss did not improve from 0.00018\n",
      "45/45 [==============================] - 1s 22ms/step - loss: 3.9410e-04 - val_loss: 1.8076e-04\n",
      "Epoch 63/100\n",
      "43/45 [===========================>..] - ETA: 0s - loss: 4.0606e-04\n",
      "Epoch 63: val_loss did not improve from 0.00018\n",
      "45/45 [==============================] - 1s 22ms/step - loss: 3.9578e-04 - val_loss: 2.2918e-04\n",
      "Epoch 1/100\n",
      "40/42 [===========================>..] - ETA: 0s - loss: 0.0010\n",
      "Epoch 1: val_loss improved from inf to 0.00011, saving model to models\\LSTM Ethereum.ckpt\n"
     ]
    },
    {
     "name": "stderr",
     "output_type": "stream",
     "text": [
      "WARNING:absl:Found untraced functions such as lstm_cell_7_layer_call_fn, lstm_cell_7_layer_call_and_return_conditional_losses while saving (showing 2 of 2). These functions will not be directly callable after loading.\n"
     ]
    },
    {
     "name": "stdout",
     "output_type": "stream",
     "text": [
      "INFO:tensorflow:Assets written to: models\\LSTM Ethereum.ckpt\\assets\n"
     ]
    },
    {
     "name": "stderr",
     "output_type": "stream",
     "text": [
      "INFO:tensorflow:Assets written to: models\\LSTM Ethereum.ckpt\\assets\n"
     ]
    },
    {
     "name": "stdout",
     "output_type": "stream",
     "text": [
      "42/42 [==============================] - 10s 186ms/step - loss: 9.8779e-04 - val_loss: 1.0752e-04\n",
      "Epoch 2/100\n",
      "40/42 [===========================>..] - ETA: 0s - loss: 1.3656e-04\n",
      "Epoch 2: val_loss did not improve from 0.00011\n",
      "42/42 [==============================] - 1s 23ms/step - loss: 1.3516e-04 - val_loss: 1.1634e-04\n",
      "Epoch 3/100\n",
      "40/42 [===========================>..] - ETA: 0s - loss: 1.2655e-04\n",
      "Epoch 3: val_loss improved from 0.00011 to 0.00009, saving model to models\\LSTM Ethereum.ckpt\n"
     ]
    },
    {
     "name": "stderr",
     "output_type": "stream",
     "text": [
      "WARNING:absl:Found untraced functions such as lstm_cell_7_layer_call_fn, lstm_cell_7_layer_call_and_return_conditional_losses while saving (showing 2 of 2). These functions will not be directly callable after loading.\n"
     ]
    },
    {
     "name": "stdout",
     "output_type": "stream",
     "text": [
      "INFO:tensorflow:Assets written to: models\\LSTM Ethereum.ckpt\\assets\n"
     ]
    },
    {
     "name": "stderr",
     "output_type": "stream",
     "text": [
      "INFO:tensorflow:Assets written to: models\\LSTM Ethereum.ckpt\\assets\n"
     ]
    },
    {
     "name": "stdout",
     "output_type": "stream",
     "text": [
      "42/42 [==============================] - 7s 174ms/step - loss: 1.2684e-04 - val_loss: 9.0318e-05\n",
      "Epoch 4/100\n",
      "40/42 [===========================>..] - ETA: 0s - loss: 1.1466e-04\n",
      "Epoch 4: val_loss did not improve from 0.00009\n",
      "42/42 [==============================] - 1s 24ms/step - loss: 1.1330e-04 - val_loss: 1.5349e-04\n",
      "Epoch 5/100\n",
      "40/42 [===========================>..] - ETA: 0s - loss: 1.2980e-04\n",
      "Epoch 5: val_loss did not improve from 0.00009\n",
      "42/42 [==============================] - 1s 23ms/step - loss: 1.3263e-04 - val_loss: 9.9316e-05\n",
      "Epoch 6/100\n",
      "40/42 [===========================>..] - ETA: 0s - loss: 1.1408e-04\n",
      "Epoch 6: val_loss did not improve from 0.00009\n",
      "42/42 [==============================] - 1s 22ms/step - loss: 1.1749e-04 - val_loss: 1.1863e-04\n",
      "Epoch 7/100\n",
      "40/42 [===========================>..] - ETA: 0s - loss: 1.0670e-04\n",
      "Epoch 7: val_loss improved from 0.00009 to 0.00008, saving model to models\\LSTM Ethereum.ckpt\n"
     ]
    },
    {
     "name": "stderr",
     "output_type": "stream",
     "text": [
      "WARNING:absl:Found untraced functions such as lstm_cell_7_layer_call_fn, lstm_cell_7_layer_call_and_return_conditional_losses while saving (showing 2 of 2). These functions will not be directly callable after loading.\n"
     ]
    },
    {
     "name": "stdout",
     "output_type": "stream",
     "text": [
      "INFO:tensorflow:Assets written to: models\\LSTM Ethereum.ckpt\\assets\n"
     ]
    },
    {
     "name": "stderr",
     "output_type": "stream",
     "text": [
      "INFO:tensorflow:Assets written to: models\\LSTM Ethereum.ckpt\\assets\n"
     ]
    },
    {
     "name": "stdout",
     "output_type": "stream",
     "text": [
      "42/42 [==============================] - 7s 173ms/step - loss: 1.1442e-04 - val_loss: 7.6314e-05\n",
      "Epoch 8/100\n",
      "40/42 [===========================>..] - ETA: 0s - loss: 1.2582e-04\n",
      "Epoch 8: val_loss improved from 0.00008 to 0.00006, saving model to models\\LSTM Ethereum.ckpt\n"
     ]
    },
    {
     "name": "stderr",
     "output_type": "stream",
     "text": [
      "WARNING:absl:Found untraced functions such as lstm_cell_7_layer_call_fn, lstm_cell_7_layer_call_and_return_conditional_losses while saving (showing 2 of 2). These functions will not be directly callable after loading.\n"
     ]
    },
    {
     "name": "stdout",
     "output_type": "stream",
     "text": [
      "INFO:tensorflow:Assets written to: models\\LSTM Ethereum.ckpt\\assets\n"
     ]
    },
    {
     "name": "stderr",
     "output_type": "stream",
     "text": [
      "INFO:tensorflow:Assets written to: models\\LSTM Ethereum.ckpt\\assets\n"
     ]
    },
    {
     "name": "stdout",
     "output_type": "stream",
     "text": [
      "42/42 [==============================] - 7s 170ms/step - loss: 1.2351e-04 - val_loss: 6.4756e-05\n",
      "Epoch 9/100\n",
      "40/42 [===========================>..] - ETA: 0s - loss: 9.1128e-05\n",
      "Epoch 9: val_loss did not improve from 0.00006\n",
      "42/42 [==============================] - 1s 26ms/step - loss: 9.2014e-05 - val_loss: 7.4125e-05\n",
      "Epoch 10/100\n",
      "40/42 [===========================>..] - ETA: 0s - loss: 8.7041e-05\n",
      "Epoch 10: val_loss improved from 0.00006 to 0.00006, saving model to models\\LSTM Ethereum.ckpt\n"
     ]
    },
    {
     "name": "stderr",
     "output_type": "stream",
     "text": [
      "WARNING:absl:Found untraced functions such as lstm_cell_7_layer_call_fn, lstm_cell_7_layer_call_and_return_conditional_losses while saving (showing 2 of 2). These functions will not be directly callable after loading.\n"
     ]
    },
    {
     "name": "stdout",
     "output_type": "stream",
     "text": [
      "INFO:tensorflow:Assets written to: models\\LSTM Ethereum.ckpt\\assets\n"
     ]
    },
    {
     "name": "stderr",
     "output_type": "stream",
     "text": [
      "INFO:tensorflow:Assets written to: models\\LSTM Ethereum.ckpt\\assets\n"
     ]
    },
    {
     "name": "stdout",
     "output_type": "stream",
     "text": [
      "42/42 [==============================] - 7s 178ms/step - loss: 8.4831e-05 - val_loss: 5.5581e-05\n",
      "Epoch 11/100\n",
      "42/42 [==============================] - ETA: 0s - loss: 9.9999e-05\n",
      "Epoch 11: val_loss did not improve from 0.00006\n",
      "42/42 [==============================] - 1s 26ms/step - loss: 9.9999e-05 - val_loss: 7.7127e-05\n",
      "Epoch 12/100\n",
      "40/42 [===========================>..] - ETA: 0s - loss: 8.8790e-05\n",
      "Epoch 12: val_loss improved from 0.00006 to 0.00005, saving model to models\\LSTM Ethereum.ckpt\n"
     ]
    },
    {
     "name": "stderr",
     "output_type": "stream",
     "text": [
      "WARNING:absl:Found untraced functions such as lstm_cell_7_layer_call_fn, lstm_cell_7_layer_call_and_return_conditional_losses while saving (showing 2 of 2). These functions will not be directly callable after loading.\n"
     ]
    },
    {
     "name": "stdout",
     "output_type": "stream",
     "text": [
      "INFO:tensorflow:Assets written to: models\\LSTM Ethereum.ckpt\\assets\n"
     ]
    },
    {
     "name": "stderr",
     "output_type": "stream",
     "text": [
      "INFO:tensorflow:Assets written to: models\\LSTM Ethereum.ckpt\\assets\n"
     ]
    },
    {
     "name": "stdout",
     "output_type": "stream",
     "text": [
      "42/42 [==============================] - 7s 171ms/step - loss: 8.5847e-05 - val_loss: 4.9839e-05\n",
      "Epoch 13/100\n",
      "42/42 [==============================] - ETA: 0s - loss: 9.0467e-05\n",
      "Epoch 13: val_loss did not improve from 0.00005\n",
      "42/42 [==============================] - 1s 26ms/step - loss: 9.0467e-05 - val_loss: 5.5310e-05\n",
      "Epoch 14/100\n",
      "42/42 [==============================] - ETA: 0s - loss: 8.5476e-05\n",
      "Epoch 14: val_loss did not improve from 0.00005\n",
      "42/42 [==============================] - 1s 24ms/step - loss: 8.5476e-05 - val_loss: 5.0684e-05\n",
      "Epoch 15/100\n",
      "41/42 [============================>.] - ETA: 0s - loss: 7.7492e-05\n",
      "Epoch 15: val_loss did not improve from 0.00005\n",
      "42/42 [==============================] - 1s 24ms/step - loss: 7.8992e-05 - val_loss: 5.5760e-05\n",
      "Epoch 16/100\n",
      "40/42 [===========================>..] - ETA: 0s - loss: 8.0712e-05\n",
      "Epoch 16: val_loss did not improve from 0.00005\n",
      "42/42 [==============================] - 1s 23ms/step - loss: 7.9197e-05 - val_loss: 5.2876e-05\n",
      "Epoch 17/100\n",
      "40/42 [===========================>..] - ETA: 0s - loss: 7.2536e-05\n",
      "Epoch 17: val_loss improved from 0.00005 to 0.00005, saving model to models\\LSTM Ethereum.ckpt\n"
     ]
    },
    {
     "name": "stderr",
     "output_type": "stream",
     "text": [
      "WARNING:absl:Found untraced functions such as lstm_cell_7_layer_call_fn, lstm_cell_7_layer_call_and_return_conditional_losses while saving (showing 2 of 2). These functions will not be directly callable after loading.\n"
     ]
    },
    {
     "name": "stdout",
     "output_type": "stream",
     "text": [
      "INFO:tensorflow:Assets written to: models\\LSTM Ethereum.ckpt\\assets\n"
     ]
    },
    {
     "name": "stderr",
     "output_type": "stream",
     "text": [
      "INFO:tensorflow:Assets written to: models\\LSTM Ethereum.ckpt\\assets\n"
     ]
    },
    {
     "name": "stdout",
     "output_type": "stream",
     "text": [
      "42/42 [==============================] - 7s 172ms/step - loss: 7.8918e-05 - val_loss: 4.5239e-05\n",
      "Epoch 18/100\n",
      "40/42 [===========================>..] - ETA: 0s - loss: 7.2916e-05\n",
      "Epoch 18: val_loss improved from 0.00005 to 0.00004, saving model to models\\LSTM Ethereum.ckpt\n"
     ]
    },
    {
     "name": "stderr",
     "output_type": "stream",
     "text": [
      "WARNING:absl:Found untraced functions such as lstm_cell_7_layer_call_fn, lstm_cell_7_layer_call_and_return_conditional_losses while saving (showing 2 of 2). These functions will not be directly callable after loading.\n"
     ]
    },
    {
     "name": "stdout",
     "output_type": "stream",
     "text": [
      "INFO:tensorflow:Assets written to: models\\LSTM Ethereum.ckpt\\assets\n"
     ]
    },
    {
     "name": "stderr",
     "output_type": "stream",
     "text": [
      "INFO:tensorflow:Assets written to: models\\LSTM Ethereum.ckpt\\assets\n"
     ]
    },
    {
     "name": "stdout",
     "output_type": "stream",
     "text": [
      "42/42 [==============================] - 7s 174ms/step - loss: 7.7981e-05 - val_loss: 3.9840e-05\n",
      "Epoch 19/100\n",
      "40/42 [===========================>..] - ETA: 0s - loss: 6.5936e-05\n",
      "Epoch 19: val_loss improved from 0.00004 to 0.00004, saving model to models\\LSTM Ethereum.ckpt\n"
     ]
    },
    {
     "name": "stderr",
     "output_type": "stream",
     "text": [
      "WARNING:absl:Found untraced functions such as lstm_cell_7_layer_call_fn, lstm_cell_7_layer_call_and_return_conditional_losses while saving (showing 2 of 2). These functions will not be directly callable after loading.\n"
     ]
    },
    {
     "name": "stdout",
     "output_type": "stream",
     "text": [
      "INFO:tensorflow:Assets written to: models\\LSTM Ethereum.ckpt\\assets\n"
     ]
    },
    {
     "name": "stderr",
     "output_type": "stream",
     "text": [
      "INFO:tensorflow:Assets written to: models\\LSTM Ethereum.ckpt\\assets\n"
     ]
    },
    {
     "name": "stdout",
     "output_type": "stream",
     "text": [
      "42/42 [==============================] - 7s 179ms/step - loss: 6.5631e-05 - val_loss: 3.7119e-05\n",
      "Epoch 20/100\n",
      "40/42 [===========================>..] - ETA: 0s - loss: 6.6395e-05\n",
      "Epoch 20: val_loss improved from 0.00004 to 0.00004, saving model to models\\LSTM Ethereum.ckpt\n"
     ]
    },
    {
     "name": "stderr",
     "output_type": "stream",
     "text": [
      "WARNING:absl:Found untraced functions such as lstm_cell_7_layer_call_fn, lstm_cell_7_layer_call_and_return_conditional_losses while saving (showing 2 of 2). These functions will not be directly callable after loading.\n"
     ]
    },
    {
     "name": "stdout",
     "output_type": "stream",
     "text": [
      "INFO:tensorflow:Assets written to: models\\LSTM Ethereum.ckpt\\assets\n"
     ]
    },
    {
     "name": "stderr",
     "output_type": "stream",
     "text": [
      "INFO:tensorflow:Assets written to: models\\LSTM Ethereum.ckpt\\assets\n"
     ]
    },
    {
     "name": "stdout",
     "output_type": "stream",
     "text": [
      "42/42 [==============================] - 8s 202ms/step - loss: 6.6036e-05 - val_loss: 3.5688e-05\n",
      "Epoch 21/100\n",
      "41/42 [============================>.] - ETA: 0s - loss: 7.0065e-05\n",
      "Epoch 21: val_loss did not improve from 0.00004\n",
      "42/42 [==============================] - 1s 31ms/step - loss: 6.9005e-05 - val_loss: 4.5752e-05\n",
      "Epoch 22/100\n",
      "40/42 [===========================>..] - ETA: 0s - loss: 6.5175e-05\n",
      "Epoch 22: val_loss did not improve from 0.00004\n",
      "42/42 [==============================] - 1s 26ms/step - loss: 6.2737e-05 - val_loss: 4.3143e-05\n",
      "Epoch 23/100\n",
      "40/42 [===========================>..] - ETA: 0s - loss: 7.7835e-05\n",
      "Epoch 23: val_loss improved from 0.00004 to 0.00003, saving model to models\\LSTM Ethereum.ckpt\n"
     ]
    },
    {
     "name": "stderr",
     "output_type": "stream",
     "text": [
      "WARNING:absl:Found untraced functions such as lstm_cell_7_layer_call_fn, lstm_cell_7_layer_call_and_return_conditional_losses while saving (showing 2 of 2). These functions will not be directly callable after loading.\n"
     ]
    },
    {
     "name": "stdout",
     "output_type": "stream",
     "text": [
      "INFO:tensorflow:Assets written to: models\\LSTM Ethereum.ckpt\\assets\n"
     ]
    },
    {
     "name": "stderr",
     "output_type": "stream",
     "text": [
      "INFO:tensorflow:Assets written to: models\\LSTM Ethereum.ckpt\\assets\n"
     ]
    },
    {
     "name": "stdout",
     "output_type": "stream",
     "text": [
      "42/42 [==============================] - 8s 183ms/step - loss: 7.7915e-05 - val_loss: 3.3914e-05\n",
      "Epoch 24/100\n",
      "40/42 [===========================>..] - ETA: 0s - loss: 6.4941e-05\n",
      "Epoch 24: val_loss improved from 0.00003 to 0.00003, saving model to models\\LSTM Ethereum.ckpt\n"
     ]
    },
    {
     "name": "stderr",
     "output_type": "stream",
     "text": [
      "WARNING:absl:Found untraced functions such as lstm_cell_7_layer_call_fn, lstm_cell_7_layer_call_and_return_conditional_losses while saving (showing 2 of 2). These functions will not be directly callable after loading.\n"
     ]
    },
    {
     "name": "stdout",
     "output_type": "stream",
     "text": [
      "INFO:tensorflow:Assets written to: models\\LSTM Ethereum.ckpt\\assets\n"
     ]
    },
    {
     "name": "stderr",
     "output_type": "stream",
     "text": [
      "INFO:tensorflow:Assets written to: models\\LSTM Ethereum.ckpt\\assets\n"
     ]
    },
    {
     "name": "stdout",
     "output_type": "stream",
     "text": [
      "42/42 [==============================] - 8s 191ms/step - loss: 6.6181e-05 - val_loss: 3.2984e-05\n",
      "Epoch 25/100\n",
      "42/42 [==============================] - ETA: 0s - loss: 6.4357e-05\n",
      "Epoch 25: val_loss did not improve from 0.00003\n",
      "42/42 [==============================] - 1s 34ms/step - loss: 6.4357e-05 - val_loss: 4.8473e-05\n",
      "Epoch 26/100\n",
      "42/42 [==============================] - ETA: 0s - loss: 5.7046e-05\n",
      "Epoch 26: val_loss did not improve from 0.00003\n",
      "42/42 [==============================] - 1s 30ms/step - loss: 5.7046e-05 - val_loss: 4.1153e-05\n",
      "Epoch 27/100\n",
      "40/42 [===========================>..] - ETA: 0s - loss: 5.9166e-05\n",
      "Epoch 27: val_loss did not improve from 0.00003\n",
      "42/42 [==============================] - 1s 24ms/step - loss: 5.7287e-05 - val_loss: 3.3400e-05\n",
      "Epoch 28/100\n",
      "40/42 [===========================>..] - ETA: 0s - loss: 5.8718e-05\n",
      "Epoch 28: val_loss improved from 0.00003 to 0.00003, saving model to models\\LSTM Ethereum.ckpt\n"
     ]
    },
    {
     "name": "stderr",
     "output_type": "stream",
     "text": [
      "WARNING:absl:Found untraced functions such as lstm_cell_7_layer_call_fn, lstm_cell_7_layer_call_and_return_conditional_losses while saving (showing 2 of 2). These functions will not be directly callable after loading.\n"
     ]
    },
    {
     "name": "stdout",
     "output_type": "stream",
     "text": [
      "INFO:tensorflow:Assets written to: models\\LSTM Ethereum.ckpt\\assets\n"
     ]
    },
    {
     "name": "stderr",
     "output_type": "stream",
     "text": [
      "INFO:tensorflow:Assets written to: models\\LSTM Ethereum.ckpt\\assets\n"
     ]
    },
    {
     "name": "stdout",
     "output_type": "stream",
     "text": [
      "42/42 [==============================] - 8s 187ms/step - loss: 5.9833e-05 - val_loss: 3.0616e-05\n",
      "Epoch 29/100\n",
      "42/42 [==============================] - ETA: 0s - loss: 6.7270e-05\n",
      "Epoch 29: val_loss did not improve from 0.00003\n",
      "42/42 [==============================] - 1s 28ms/step - loss: 6.7270e-05 - val_loss: 3.3215e-05\n",
      "Epoch 30/100\n",
      "42/42 [==============================] - ETA: 0s - loss: 6.0594e-05\n",
      "Epoch 30: val_loss improved from 0.00003 to 0.00003, saving model to models\\LSTM Ethereum.ckpt\n"
     ]
    },
    {
     "name": "stderr",
     "output_type": "stream",
     "text": [
      "WARNING:absl:Found untraced functions such as lstm_cell_7_layer_call_fn, lstm_cell_7_layer_call_and_return_conditional_losses while saving (showing 2 of 2). These functions will not be directly callable after loading.\n"
     ]
    },
    {
     "name": "stdout",
     "output_type": "stream",
     "text": [
      "INFO:tensorflow:Assets written to: models\\LSTM Ethereum.ckpt\\assets\n"
     ]
    },
    {
     "name": "stderr",
     "output_type": "stream",
     "text": [
      "INFO:tensorflow:Assets written to: models\\LSTM Ethereum.ckpt\\assets\n"
     ]
    },
    {
     "name": "stdout",
     "output_type": "stream",
     "text": [
      "42/42 [==============================] - 8s 185ms/step - loss: 6.0594e-05 - val_loss: 3.0512e-05\n",
      "Epoch 31/100\n",
      "40/42 [===========================>..] - ETA: 0s - loss: 5.9788e-05\n",
      "Epoch 31: val_loss did not improve from 0.00003\n",
      "42/42 [==============================] - 1s 24ms/step - loss: 6.0238e-05 - val_loss: 3.7944e-05\n",
      "Epoch 32/100\n",
      "40/42 [===========================>..] - ETA: 0s - loss: 5.9239e-05\n",
      "Epoch 32: val_loss did not improve from 0.00003\n",
      "42/42 [==============================] - 1s 23ms/step - loss: 6.1570e-05 - val_loss: 5.6772e-05\n",
      "Epoch 33/100\n",
      "40/42 [===========================>..] - ETA: 0s - loss: 5.6285e-05\n",
      "Epoch 33: val_loss did not improve from 0.00003\n",
      "42/42 [==============================] - 1s 23ms/step - loss: 5.7856e-05 - val_loss: 3.4736e-05\n",
      "Epoch 34/100\n",
      "40/42 [===========================>..] - ETA: 0s - loss: 5.5849e-05\n",
      "Epoch 34: val_loss did not improve from 0.00003\n",
      "42/42 [==============================] - 1s 23ms/step - loss: 5.6308e-05 - val_loss: 4.0093e-05\n",
      "Epoch 35/100\n",
      "40/42 [===========================>..] - ETA: 0s - loss: 6.4306e-05\n",
      "Epoch 35: val_loss improved from 0.00003 to 0.00003, saving model to models\\LSTM Ethereum.ckpt\n"
     ]
    },
    {
     "name": "stderr",
     "output_type": "stream",
     "text": [
      "WARNING:absl:Found untraced functions such as lstm_cell_7_layer_call_fn, lstm_cell_7_layer_call_and_return_conditional_losses while saving (showing 2 of 2). These functions will not be directly callable after loading.\n"
     ]
    },
    {
     "name": "stdout",
     "output_type": "stream",
     "text": [
      "INFO:tensorflow:Assets written to: models\\LSTM Ethereum.ckpt\\assets\n"
     ]
    },
    {
     "name": "stderr",
     "output_type": "stream",
     "text": [
      "INFO:tensorflow:Assets written to: models\\LSTM Ethereum.ckpt\\assets\n"
     ]
    },
    {
     "name": "stdout",
     "output_type": "stream",
     "text": [
      "42/42 [==============================] - 7s 181ms/step - loss: 6.2232e-05 - val_loss: 2.9150e-05\n",
      "Epoch 36/100\n",
      "40/42 [===========================>..] - ETA: 0s - loss: 4.9418e-05\n",
      "Epoch 36: val_loss did not improve from 0.00003\n",
      "42/42 [==============================] - 1s 23ms/step - loss: 5.0777e-05 - val_loss: 3.3729e-05\n",
      "Epoch 37/100\n",
      "40/42 [===========================>..] - ETA: 0s - loss: 4.7899e-05\n",
      "Epoch 37: val_loss did not improve from 0.00003\n",
      "42/42 [==============================] - 1s 23ms/step - loss: 4.7062e-05 - val_loss: 3.0956e-05\n",
      "Epoch 38/100\n",
      "40/42 [===========================>..] - ETA: 0s - loss: 5.3168e-05\n",
      "Epoch 38: val_loss did not improve from 0.00003\n",
      "42/42 [==============================] - 1s 23ms/step - loss: 5.3230e-05 - val_loss: 3.1018e-05\n",
      "Epoch 39/100\n",
      "40/42 [===========================>..] - ETA: 0s - loss: 5.3716e-05\n",
      "Epoch 39: val_loss did not improve from 0.00003\n",
      "42/42 [==============================] - 1s 23ms/step - loss: 5.2318e-05 - val_loss: 3.9569e-05\n",
      "Epoch 40/100\n",
      "42/42 [==============================] - ETA: 0s - loss: 5.8352e-05\n",
      "Epoch 40: val_loss did not improve from 0.00003\n",
      "42/42 [==============================] - 1s 23ms/step - loss: 5.8352e-05 - val_loss: 3.1150e-05\n",
      "Epoch 41/100\n",
      "40/42 [===========================>..] - ETA: 0s - loss: 6.3129e-05\n",
      "Epoch 41: val_loss did not improve from 0.00003\n",
      "42/42 [==============================] - 1s 23ms/step - loss: 6.2417e-05 - val_loss: 3.6853e-05\n",
      "Epoch 42/100\n",
      "40/42 [===========================>..] - ETA: 0s - loss: 4.8777e-05\n",
      "Epoch 42: val_loss improved from 0.00003 to 0.00003, saving model to models\\LSTM Ethereum.ckpt\n"
     ]
    },
    {
     "name": "stderr",
     "output_type": "stream",
     "text": [
      "WARNING:absl:Found untraced functions such as lstm_cell_7_layer_call_fn, lstm_cell_7_layer_call_and_return_conditional_losses while saving (showing 2 of 2). These functions will not be directly callable after loading.\n"
     ]
    },
    {
     "name": "stdout",
     "output_type": "stream",
     "text": [
      "INFO:tensorflow:Assets written to: models\\LSTM Ethereum.ckpt\\assets\n"
     ]
    },
    {
     "name": "stderr",
     "output_type": "stream",
     "text": [
      "INFO:tensorflow:Assets written to: models\\LSTM Ethereum.ckpt\\assets\n"
     ]
    },
    {
     "name": "stdout",
     "output_type": "stream",
     "text": [
      "42/42 [==============================] - 7s 174ms/step - loss: 4.7284e-05 - val_loss: 2.8282e-05\n",
      "Epoch 43/100\n",
      "40/42 [===========================>..] - ETA: 0s - loss: 4.6580e-05\n",
      "Epoch 43: val_loss did not improve from 0.00003\n",
      "42/42 [==============================] - 1s 23ms/step - loss: 4.5803e-05 - val_loss: 3.3331e-05\n",
      "Epoch 44/100\n",
      "42/42 [==============================] - ETA: 0s - loss: 5.3482e-05\n",
      "Epoch 44: val_loss improved from 0.00003 to 0.00003, saving model to models\\LSTM Ethereum.ckpt\n"
     ]
    },
    {
     "name": "stderr",
     "output_type": "stream",
     "text": [
      "WARNING:absl:Found untraced functions such as lstm_cell_7_layer_call_fn, lstm_cell_7_layer_call_and_return_conditional_losses while saving (showing 2 of 2). These functions will not be directly callable after loading.\n"
     ]
    },
    {
     "name": "stdout",
     "output_type": "stream",
     "text": [
      "INFO:tensorflow:Assets written to: models\\LSTM Ethereum.ckpt\\assets\n"
     ]
    },
    {
     "name": "stderr",
     "output_type": "stream",
     "text": [
      "INFO:tensorflow:Assets written to: models\\LSTM Ethereum.ckpt\\assets\n"
     ]
    },
    {
     "name": "stdout",
     "output_type": "stream",
     "text": [
      "42/42 [==============================] - 7s 173ms/step - loss: 5.3482e-05 - val_loss: 2.7606e-05\n",
      "Epoch 45/100\n",
      "40/42 [===========================>..] - ETA: 0s - loss: 4.4663e-05\n",
      "Epoch 45: val_loss did not improve from 0.00003\n",
      "42/42 [==============================] - 1s 24ms/step - loss: 4.5928e-05 - val_loss: 2.9789e-05\n",
      "Epoch 46/100\n",
      "40/42 [===========================>..] - ETA: 0s - loss: 4.7080e-05\n",
      "Epoch 46: val_loss did not improve from 0.00003\n",
      "42/42 [==============================] - 1s 23ms/step - loss: 4.5830e-05 - val_loss: 4.2105e-05\n",
      "Epoch 47/100\n",
      "40/42 [===========================>..] - ETA: 0s - loss: 6.6360e-05\n",
      "Epoch 47: val_loss did not improve from 0.00003\n",
      "42/42 [==============================] - 1s 23ms/step - loss: 6.4374e-05 - val_loss: 3.1217e-05\n",
      "Epoch 48/100\n",
      "40/42 [===========================>..] - ETA: 0s - loss: 6.0886e-05\n",
      "Epoch 48: val_loss did not improve from 0.00003\n",
      "42/42 [==============================] - 1s 23ms/step - loss: 6.0655e-05 - val_loss: 3.4878e-05\n",
      "Epoch 49/100\n",
      "42/42 [==============================] - ETA: 0s - loss: 5.8919e-05\n",
      "Epoch 49: val_loss did not improve from 0.00003\n",
      "42/42 [==============================] - 1s 23ms/step - loss: 5.8919e-05 - val_loss: 3.2454e-05\n",
      "Epoch 50/100\n",
      "40/42 [===========================>..] - ETA: 0s - loss: 5.9463e-05\n",
      "Epoch 50: val_loss did not improve from 0.00003\n",
      "42/42 [==============================] - 1s 23ms/step - loss: 5.8388e-05 - val_loss: 3.7136e-05\n",
      "Epoch 51/100\n",
      "40/42 [===========================>..] - ETA: 0s - loss: 5.7095e-05\n",
      "Epoch 51: val_loss did not improve from 0.00003\n",
      "42/42 [==============================] - 1s 22ms/step - loss: 5.8641e-05 - val_loss: 2.8206e-05\n",
      "Epoch 52/100\n",
      "42/42 [==============================] - ETA: 0s - loss: 5.2519e-05\n",
      "Epoch 52: val_loss did not improve from 0.00003\n",
      "42/42 [==============================] - 1s 24ms/step - loss: 5.2519e-05 - val_loss: 3.8338e-05\n",
      "Epoch 53/100\n",
      "40/42 [===========================>..] - ETA: 0s - loss: 5.3629e-05\n",
      "Epoch 53: val_loss did not improve from 0.00003\n",
      "42/42 [==============================] - 1s 24ms/step - loss: 5.2692e-05 - val_loss: 3.3020e-05\n",
      "Epoch 1/100\n",
      "25/27 [==========================>...] - ETA: 0s - loss: 0.0015\n",
      "Epoch 1: val_loss improved from inf to 0.00074, saving model to models\\LSTM Cardano.ckpt\n"
     ]
    },
    {
     "name": "stderr",
     "output_type": "stream",
     "text": [
      "WARNING:absl:Found untraced functions such as lstm_cell_8_layer_call_fn, lstm_cell_8_layer_call_and_return_conditional_losses while saving (showing 2 of 2). These functions will not be directly callable after loading.\n"
     ]
    },
    {
     "name": "stdout",
     "output_type": "stream",
     "text": [
      "INFO:tensorflow:Assets written to: models\\LSTM Cardano.ckpt\\assets\n"
     ]
    },
    {
     "name": "stderr",
     "output_type": "stream",
     "text": [
      "INFO:tensorflow:Assets written to: models\\LSTM Cardano.ckpt\\assets\n"
     ]
    },
    {
     "name": "stdout",
     "output_type": "stream",
     "text": [
      "27/27 [==============================] - 10s 316ms/step - loss: 0.0015 - val_loss: 7.4379e-04\n",
      "Epoch 2/100\n",
      "25/27 [==========================>...] - ETA: 0s - loss: 6.2434e-04\n",
      "Epoch 2: val_loss improved from 0.00074 to 0.00031, saving model to models\\LSTM Cardano.ckpt\n"
     ]
    },
    {
     "name": "stderr",
     "output_type": "stream",
     "text": [
      "WARNING:absl:Found untraced functions such as lstm_cell_8_layer_call_fn, lstm_cell_8_layer_call_and_return_conditional_losses while saving (showing 2 of 2). These functions will not be directly callable after loading.\n"
     ]
    },
    {
     "name": "stdout",
     "output_type": "stream",
     "text": [
      "INFO:tensorflow:Assets written to: models\\LSTM Cardano.ckpt\\assets\n"
     ]
    },
    {
     "name": "stderr",
     "output_type": "stream",
     "text": [
      "INFO:tensorflow:Assets written to: models\\LSTM Cardano.ckpt\\assets\n"
     ]
    },
    {
     "name": "stdout",
     "output_type": "stream",
     "text": [
      "27/27 [==============================] - 7s 265ms/step - loss: 6.3362e-04 - val_loss: 3.0554e-04\n",
      "Epoch 3/100\n",
      "25/27 [==========================>...] - ETA: 0s - loss: 4.0661e-04\n",
      "Epoch 3: val_loss improved from 0.00031 to 0.00028, saving model to models\\LSTM Cardano.ckpt\n"
     ]
    },
    {
     "name": "stderr",
     "output_type": "stream",
     "text": [
      "WARNING:absl:Found untraced functions such as lstm_cell_8_layer_call_fn, lstm_cell_8_layer_call_and_return_conditional_losses while saving (showing 2 of 2). These functions will not be directly callable after loading.\n"
     ]
    },
    {
     "name": "stdout",
     "output_type": "stream",
     "text": [
      "INFO:tensorflow:Assets written to: models\\LSTM Cardano.ckpt\\assets\n"
     ]
    },
    {
     "name": "stderr",
     "output_type": "stream",
     "text": [
      "INFO:tensorflow:Assets written to: models\\LSTM Cardano.ckpt\\assets\n"
     ]
    },
    {
     "name": "stdout",
     "output_type": "stream",
     "text": [
      "27/27 [==============================] - 7s 257ms/step - loss: 4.1343e-04 - val_loss: 2.7758e-04\n",
      "Epoch 4/100\n",
      "25/27 [==========================>...] - ETA: 0s - loss: 4.7419e-04\n",
      "Epoch 4: val_loss did not improve from 0.00028\n",
      "27/27 [==============================] - 1s 23ms/step - loss: 4.6073e-04 - val_loss: 3.5521e-04\n",
      "Epoch 5/100\n",
      "25/27 [==========================>...] - ETA: 0s - loss: 4.2194e-04\n",
      "Epoch 5: val_loss did not improve from 0.00028\n",
      "27/27 [==============================] - 1s 23ms/step - loss: 4.0579e-04 - val_loss: 2.8361e-04\n",
      "Epoch 6/100\n",
      "25/27 [==========================>...] - ETA: 0s - loss: 4.1580e-04\n",
      "Epoch 6: val_loss improved from 0.00028 to 0.00020, saving model to models\\LSTM Cardano.ckpt\n"
     ]
    },
    {
     "name": "stderr",
     "output_type": "stream",
     "text": [
      "WARNING:absl:Found untraced functions such as lstm_cell_8_layer_call_fn, lstm_cell_8_layer_call_and_return_conditional_losses while saving (showing 2 of 2). These functions will not be directly callable after loading.\n"
     ]
    },
    {
     "name": "stdout",
     "output_type": "stream",
     "text": [
      "INFO:tensorflow:Assets written to: models\\LSTM Cardano.ckpt\\assets\n"
     ]
    },
    {
     "name": "stderr",
     "output_type": "stream",
     "text": [
      "INFO:tensorflow:Assets written to: models\\LSTM Cardano.ckpt\\assets\n"
     ]
    },
    {
     "name": "stdout",
     "output_type": "stream",
     "text": [
      "27/27 [==============================] - 7s 268ms/step - loss: 3.9994e-04 - val_loss: 2.0311e-04\n",
      "Epoch 7/100\n",
      "26/27 [===========================>..] - ETA: 0s - loss: 4.0120e-04\n",
      "Epoch 7: val_loss did not improve from 0.00020\n",
      "27/27 [==============================] - 1s 25ms/step - loss: 3.9838e-04 - val_loss: 2.5049e-04\n",
      "Epoch 8/100\n",
      "27/27 [==============================] - ETA: 0s - loss: 3.6477e-04\n",
      "Epoch 8: val_loss improved from 0.00020 to 0.00018, saving model to models\\LSTM Cardano.ckpt\n"
     ]
    },
    {
     "name": "stderr",
     "output_type": "stream",
     "text": [
      "WARNING:absl:Found untraced functions such as lstm_cell_8_layer_call_fn, lstm_cell_8_layer_call_and_return_conditional_losses while saving (showing 2 of 2). These functions will not be directly callable after loading.\n"
     ]
    },
    {
     "name": "stdout",
     "output_type": "stream",
     "text": [
      "INFO:tensorflow:Assets written to: models\\LSTM Cardano.ckpt\\assets\n"
     ]
    },
    {
     "name": "stderr",
     "output_type": "stream",
     "text": [
      "INFO:tensorflow:Assets written to: models\\LSTM Cardano.ckpt\\assets\n"
     ]
    },
    {
     "name": "stdout",
     "output_type": "stream",
     "text": [
      "27/27 [==============================] - 7s 268ms/step - loss: 3.6477e-04 - val_loss: 1.7798e-04\n",
      "Epoch 9/100\n",
      "26/27 [===========================>..] - ETA: 0s - loss: 3.0459e-04\n",
      "Epoch 9: val_loss improved from 0.00018 to 0.00016, saving model to models\\LSTM Cardano.ckpt\n"
     ]
    },
    {
     "name": "stderr",
     "output_type": "stream",
     "text": [
      "WARNING:absl:Found untraced functions such as lstm_cell_8_layer_call_fn, lstm_cell_8_layer_call_and_return_conditional_losses while saving (showing 2 of 2). These functions will not be directly callable after loading.\n"
     ]
    },
    {
     "name": "stdout",
     "output_type": "stream",
     "text": [
      "INFO:tensorflow:Assets written to: models\\LSTM Cardano.ckpt\\assets\n"
     ]
    },
    {
     "name": "stderr",
     "output_type": "stream",
     "text": [
      "INFO:tensorflow:Assets written to: models\\LSTM Cardano.ckpt\\assets\n"
     ]
    },
    {
     "name": "stdout",
     "output_type": "stream",
     "text": [
      "27/27 [==============================] - 7s 275ms/step - loss: 3.0537e-04 - val_loss: 1.6080e-04\n",
      "Epoch 10/100\n",
      "25/27 [==========================>...] - ETA: 0s - loss: 3.3491e-04\n",
      "Epoch 10: val_loss improved from 0.00016 to 0.00015, saving model to models\\LSTM Cardano.ckpt\n"
     ]
    },
    {
     "name": "stderr",
     "output_type": "stream",
     "text": [
      "WARNING:absl:Found untraced functions such as lstm_cell_8_layer_call_fn, lstm_cell_8_layer_call_and_return_conditional_losses while saving (showing 2 of 2). These functions will not be directly callable after loading.\n"
     ]
    },
    {
     "name": "stdout",
     "output_type": "stream",
     "text": [
      "INFO:tensorflow:Assets written to: models\\LSTM Cardano.ckpt\\assets\n"
     ]
    },
    {
     "name": "stderr",
     "output_type": "stream",
     "text": [
      "INFO:tensorflow:Assets written to: models\\LSTM Cardano.ckpt\\assets\n"
     ]
    },
    {
     "name": "stdout",
     "output_type": "stream",
     "text": [
      "27/27 [==============================] - 7s 266ms/step - loss: 3.3559e-04 - val_loss: 1.5261e-04\n",
      "Epoch 11/100\n",
      "25/27 [==========================>...] - ETA: 0s - loss: 3.3227e-04\n",
      "Epoch 11: val_loss improved from 0.00015 to 0.00013, saving model to models\\LSTM Cardano.ckpt\n"
     ]
    },
    {
     "name": "stderr",
     "output_type": "stream",
     "text": [
      "WARNING:absl:Found untraced functions such as lstm_cell_8_layer_call_fn, lstm_cell_8_layer_call_and_return_conditional_losses while saving (showing 2 of 2). These functions will not be directly callable after loading.\n"
     ]
    },
    {
     "name": "stdout",
     "output_type": "stream",
     "text": [
      "INFO:tensorflow:Assets written to: models\\LSTM Cardano.ckpt\\assets\n"
     ]
    },
    {
     "name": "stderr",
     "output_type": "stream",
     "text": [
      "INFO:tensorflow:Assets written to: models\\LSTM Cardano.ckpt\\assets\n"
     ]
    },
    {
     "name": "stdout",
     "output_type": "stream",
     "text": [
      "27/27 [==============================] - 7s 284ms/step - loss: 3.2009e-04 - val_loss: 1.3313e-04\n",
      "Epoch 12/100\n",
      "27/27 [==============================] - ETA: 0s - loss: 2.9402e-04\n",
      "Epoch 12: val_loss did not improve from 0.00013\n",
      "27/27 [==============================] - 1s 25ms/step - loss: 2.9402e-04 - val_loss: 1.4199e-04\n",
      "Epoch 13/100\n",
      "25/27 [==========================>...] - ETA: 0s - loss: 3.2549e-04\n",
      "Epoch 13: val_loss did not improve from 0.00013\n",
      "27/27 [==============================] - 1s 25ms/step - loss: 3.1246e-04 - val_loss: 1.3887e-04\n",
      "Epoch 14/100\n",
      "27/27 [==============================] - ETA: 0s - loss: 2.9613e-04\n",
      "Epoch 14: val_loss did not improve from 0.00013\n",
      "27/27 [==============================] - 1s 28ms/step - loss: 2.9613e-04 - val_loss: 1.4000e-04\n",
      "Epoch 15/100\n",
      "27/27 [==============================] - ETA: 0s - loss: 2.7879e-04\n",
      "Epoch 15: val_loss improved from 0.00013 to 0.00012, saving model to models\\LSTM Cardano.ckpt\n"
     ]
    },
    {
     "name": "stderr",
     "output_type": "stream",
     "text": [
      "WARNING:absl:Found untraced functions such as lstm_cell_8_layer_call_fn, lstm_cell_8_layer_call_and_return_conditional_losses while saving (showing 2 of 2). These functions will not be directly callable after loading.\n"
     ]
    },
    {
     "name": "stdout",
     "output_type": "stream",
     "text": [
      "INFO:tensorflow:Assets written to: models\\LSTM Cardano.ckpt\\assets\n"
     ]
    },
    {
     "name": "stderr",
     "output_type": "stream",
     "text": [
      "INFO:tensorflow:Assets written to: models\\LSTM Cardano.ckpt\\assets\n"
     ]
    },
    {
     "name": "stdout",
     "output_type": "stream",
     "text": [
      "27/27 [==============================] - 7s 280ms/step - loss: 2.7879e-04 - val_loss: 1.2401e-04\n",
      "Epoch 16/100\n",
      "25/27 [==========================>...] - ETA: 0s - loss: 2.8901e-04\n",
      "Epoch 16: val_loss did not improve from 0.00012\n",
      "27/27 [==============================] - 1s 26ms/step - loss: 2.8426e-04 - val_loss: 1.2734e-04\n",
      "Epoch 17/100\n",
      "25/27 [==========================>...] - ETA: 0s - loss: 2.5928e-04\n",
      "Epoch 17: val_loss improved from 0.00012 to 0.00009, saving model to models\\LSTM Cardano.ckpt\n"
     ]
    },
    {
     "name": "stderr",
     "output_type": "stream",
     "text": [
      "WARNING:absl:Found untraced functions such as lstm_cell_8_layer_call_fn, lstm_cell_8_layer_call_and_return_conditional_losses while saving (showing 2 of 2). These functions will not be directly callable after loading.\n"
     ]
    },
    {
     "name": "stdout",
     "output_type": "stream",
     "text": [
      "INFO:tensorflow:Assets written to: models\\LSTM Cardano.ckpt\\assets\n"
     ]
    },
    {
     "name": "stderr",
     "output_type": "stream",
     "text": [
      "INFO:tensorflow:Assets written to: models\\LSTM Cardano.ckpt\\assets\n"
     ]
    },
    {
     "name": "stdout",
     "output_type": "stream",
     "text": [
      "27/27 [==============================] - 7s 266ms/step - loss: 2.5677e-04 - val_loss: 9.0244e-05\n",
      "Epoch 18/100\n",
      "25/27 [==========================>...] - ETA: 0s - loss: 1.8329e-04\n",
      "Epoch 18: val_loss did not improve from 0.00009\n",
      "27/27 [==============================] - 1s 23ms/step - loss: 1.9411e-04 - val_loss: 9.4775e-05\n",
      "Epoch 19/100\n",
      "25/27 [==========================>...] - ETA: 0s - loss: 2.0824e-04\n",
      "Epoch 19: val_loss did not improve from 0.00009\n",
      "27/27 [==============================] - 1s 22ms/step - loss: 2.1300e-04 - val_loss: 9.1663e-05\n",
      "Epoch 20/100\n",
      "25/27 [==========================>...] - ETA: 0s - loss: 2.3612e-04\n",
      "Epoch 20: val_loss did not improve from 0.00009\n",
      "27/27 [==============================] - 1s 22ms/step - loss: 2.3529e-04 - val_loss: 9.3860e-05\n",
      "Epoch 21/100\n",
      "25/27 [==========================>...] - ETA: 0s - loss: 2.0626e-04\n",
      "Epoch 21: val_loss improved from 0.00009 to 0.00008, saving model to models\\LSTM Cardano.ckpt\n"
     ]
    },
    {
     "name": "stderr",
     "output_type": "stream",
     "text": [
      "WARNING:absl:Found untraced functions such as lstm_cell_8_layer_call_fn, lstm_cell_8_layer_call_and_return_conditional_losses while saving (showing 2 of 2). These functions will not be directly callable after loading.\n"
     ]
    },
    {
     "name": "stdout",
     "output_type": "stream",
     "text": [
      "INFO:tensorflow:Assets written to: models\\LSTM Cardano.ckpt\\assets\n"
     ]
    },
    {
     "name": "stderr",
     "output_type": "stream",
     "text": [
      "INFO:tensorflow:Assets written to: models\\LSTM Cardano.ckpt\\assets\n"
     ]
    },
    {
     "name": "stdout",
     "output_type": "stream",
     "text": [
      "27/27 [==============================] - 7s 279ms/step - loss: 2.0414e-04 - val_loss: 7.9835e-05\n",
      "Epoch 22/100\n",
      "27/27 [==============================] - ETA: 0s - loss: 2.0736e-04\n",
      "Epoch 22: val_loss did not improve from 0.00008\n",
      "27/27 [==============================] - 1s 24ms/step - loss: 2.0736e-04 - val_loss: 9.0375e-05\n",
      "Epoch 23/100\n",
      "25/27 [==========================>...] - ETA: 0s - loss: 2.2325e-04\n",
      "Epoch 23: val_loss improved from 0.00008 to 0.00008, saving model to models\\LSTM Cardano.ckpt\n"
     ]
    },
    {
     "name": "stderr",
     "output_type": "stream",
     "text": [
      "WARNING:absl:Found untraced functions such as lstm_cell_8_layer_call_fn, lstm_cell_8_layer_call_and_return_conditional_losses while saving (showing 2 of 2). These functions will not be directly callable after loading.\n"
     ]
    },
    {
     "name": "stdout",
     "output_type": "stream",
     "text": [
      "INFO:tensorflow:Assets written to: models\\LSTM Cardano.ckpt\\assets\n"
     ]
    },
    {
     "name": "stderr",
     "output_type": "stream",
     "text": [
      "INFO:tensorflow:Assets written to: models\\LSTM Cardano.ckpt\\assets\n"
     ]
    },
    {
     "name": "stdout",
     "output_type": "stream",
     "text": [
      "27/27 [==============================] - 8s 291ms/step - loss: 2.1485e-04 - val_loss: 7.7871e-05\n",
      "Epoch 24/100\n",
      "27/27 [==============================] - ETA: 0s - loss: 1.6918e-04\n",
      "Epoch 24: val_loss did not improve from 0.00008\n",
      "27/27 [==============================] - 1s 31ms/step - loss: 1.6918e-04 - val_loss: 8.3816e-05\n",
      "Epoch 25/100\n",
      "26/27 [===========================>..] - ETA: 0s - loss: 2.1162e-04\n",
      "Epoch 25: val_loss did not improve from 0.00008\n",
      "27/27 [==============================] - 1s 28ms/step - loss: 2.1267e-04 - val_loss: 1.2390e-04\n",
      "Epoch 26/100\n",
      "27/27 [==============================] - ETA: 0s - loss: 2.0496e-04\n",
      "Epoch 26: val_loss did not improve from 0.00008\n",
      "27/27 [==============================] - 1s 25ms/step - loss: 2.0496e-04 - val_loss: 7.7973e-05\n",
      "Epoch 27/100\n",
      "26/27 [===========================>..] - ETA: 0s - loss: 1.8859e-04\n",
      "Epoch 27: val_loss did not improve from 0.00008\n",
      "27/27 [==============================] - 1s 28ms/step - loss: 1.8718e-04 - val_loss: 8.1570e-05\n",
      "Epoch 28/100\n",
      "25/27 [==========================>...] - ETA: 0s - loss: 1.6661e-04\n",
      "Epoch 28: val_loss improved from 0.00008 to 0.00007, saving model to models\\LSTM Cardano.ckpt\n"
     ]
    },
    {
     "name": "stderr",
     "output_type": "stream",
     "text": [
      "WARNING:absl:Found untraced functions such as lstm_cell_8_layer_call_fn, lstm_cell_8_layer_call_and_return_conditional_losses while saving (showing 2 of 2). These functions will not be directly callable after loading.\n"
     ]
    },
    {
     "name": "stdout",
     "output_type": "stream",
     "text": [
      "INFO:tensorflow:Assets written to: models\\LSTM Cardano.ckpt\\assets\n"
     ]
    },
    {
     "name": "stderr",
     "output_type": "stream",
     "text": [
      "INFO:tensorflow:Assets written to: models\\LSTM Cardano.ckpt\\assets\n"
     ]
    },
    {
     "name": "stdout",
     "output_type": "stream",
     "text": [
      "27/27 [==============================] - 7s 281ms/step - loss: 1.6642e-04 - val_loss: 6.8938e-05\n",
      "Epoch 29/100\n",
      "25/27 [==========================>...] - ETA: 0s - loss: 1.7318e-04\n",
      "Epoch 29: val_loss did not improve from 0.00007\n",
      "27/27 [==============================] - 1s 27ms/step - loss: 1.6707e-04 - val_loss: 1.2152e-04\n",
      "Epoch 30/100\n",
      "25/27 [==========================>...] - ETA: 0s - loss: 1.9826e-04\n",
      "Epoch 30: val_loss improved from 0.00007 to 0.00006, saving model to models\\LSTM Cardano.ckpt\n"
     ]
    },
    {
     "name": "stderr",
     "output_type": "stream",
     "text": [
      "WARNING:absl:Found untraced functions such as lstm_cell_8_layer_call_fn, lstm_cell_8_layer_call_and_return_conditional_losses while saving (showing 2 of 2). These functions will not be directly callable after loading.\n"
     ]
    },
    {
     "name": "stdout",
     "output_type": "stream",
     "text": [
      "INFO:tensorflow:Assets written to: models\\LSTM Cardano.ckpt\\assets\n"
     ]
    },
    {
     "name": "stderr",
     "output_type": "stream",
     "text": [
      "INFO:tensorflow:Assets written to: models\\LSTM Cardano.ckpt\\assets\n"
     ]
    },
    {
     "name": "stdout",
     "output_type": "stream",
     "text": [
      "27/27 [==============================] - 7s 273ms/step - loss: 1.8957e-04 - val_loss: 6.2711e-05\n",
      "Epoch 31/100\n",
      "25/27 [==========================>...] - ETA: 0s - loss: 1.6844e-04\n",
      "Epoch 31: val_loss did not improve from 0.00006\n",
      "27/27 [==============================] - 1s 24ms/step - loss: 1.6536e-04 - val_loss: 7.6962e-05\n",
      "Epoch 32/100\n",
      "25/27 [==========================>...] - ETA: 0s - loss: 1.9167e-04\n",
      "Epoch 32: val_loss did not improve from 0.00006\n",
      "27/27 [==============================] - 1s 23ms/step - loss: 1.8560e-04 - val_loss: 1.0169e-04\n",
      "Epoch 33/100\n",
      "25/27 [==========================>...] - ETA: 0s - loss: 1.5507e-04\n",
      "Epoch 33: val_loss did not improve from 0.00006\n",
      "27/27 [==============================] - 1s 23ms/step - loss: 1.7723e-04 - val_loss: 6.8788e-05\n",
      "Epoch 34/100\n",
      "27/27 [==============================] - ETA: 0s - loss: 1.7670e-04\n",
      "Epoch 34: val_loss improved from 0.00006 to 0.00006, saving model to models\\LSTM Cardano.ckpt\n"
     ]
    },
    {
     "name": "stderr",
     "output_type": "stream",
     "text": [
      "WARNING:absl:Found untraced functions such as lstm_cell_8_layer_call_fn, lstm_cell_8_layer_call_and_return_conditional_losses while saving (showing 2 of 2). These functions will not be directly callable after loading.\n"
     ]
    },
    {
     "name": "stdout",
     "output_type": "stream",
     "text": [
      "INFO:tensorflow:Assets written to: models\\LSTM Cardano.ckpt\\assets\n"
     ]
    },
    {
     "name": "stderr",
     "output_type": "stream",
     "text": [
      "INFO:tensorflow:Assets written to: models\\LSTM Cardano.ckpt\\assets\n"
     ]
    },
    {
     "name": "stdout",
     "output_type": "stream",
     "text": [
      "27/27 [==============================] - 7s 281ms/step - loss: 1.7670e-04 - val_loss: 6.0591e-05\n",
      "Epoch 35/100\n",
      "26/27 [===========================>..] - ETA: 0s - loss: 1.8065e-04\n",
      "Epoch 35: val_loss did not improve from 0.00006\n",
      "27/27 [==============================] - 1s 25ms/step - loss: 1.7917e-04 - val_loss: 6.1255e-05\n",
      "Epoch 36/100\n",
      "26/27 [===========================>..] - ETA: 0s - loss: 1.9166e-04\n",
      "Epoch 36: val_loss improved from 0.00006 to 0.00006, saving model to models\\LSTM Cardano.ckpt\n"
     ]
    },
    {
     "name": "stderr",
     "output_type": "stream",
     "text": [
      "WARNING:absl:Found untraced functions such as lstm_cell_8_layer_call_fn, lstm_cell_8_layer_call_and_return_conditional_losses while saving (showing 2 of 2). These functions will not be directly callable after loading.\n"
     ]
    },
    {
     "name": "stdout",
     "output_type": "stream",
     "text": [
      "INFO:tensorflow:Assets written to: models\\LSTM Cardano.ckpt\\assets\n"
     ]
    },
    {
     "name": "stderr",
     "output_type": "stream",
     "text": [
      "INFO:tensorflow:Assets written to: models\\LSTM Cardano.ckpt\\assets\n"
     ]
    },
    {
     "name": "stdout",
     "output_type": "stream",
     "text": [
      "27/27 [==============================] - 7s 275ms/step - loss: 1.9121e-04 - val_loss: 5.5820e-05\n",
      "Epoch 37/100\n",
      "25/27 [==========================>...] - ETA: 0s - loss: 1.2455e-04\n",
      "Epoch 37: val_loss did not improve from 0.00006\n",
      "27/27 [==============================] - 1s 24ms/step - loss: 1.5525e-04 - val_loss: 8.2943e-05\n",
      "Epoch 38/100\n",
      "25/27 [==========================>...] - ETA: 0s - loss: 1.0721e-04\n",
      "Epoch 38: val_loss did not improve from 0.00006\n",
      "27/27 [==============================] - 1s 23ms/step - loss: 1.0605e-04 - val_loss: 5.9191e-05\n",
      "Epoch 39/100\n",
      "25/27 [==========================>...] - ETA: 0s - loss: 1.4012e-04\n",
      "Epoch 39: val_loss improved from 0.00006 to 0.00006, saving model to models\\LSTM Cardano.ckpt\n"
     ]
    },
    {
     "name": "stderr",
     "output_type": "stream",
     "text": [
      "WARNING:absl:Found untraced functions such as lstm_cell_8_layer_call_fn, lstm_cell_8_layer_call_and_return_conditional_losses while saving (showing 2 of 2). These functions will not be directly callable after loading.\n"
     ]
    },
    {
     "name": "stdout",
     "output_type": "stream",
     "text": [
      "INFO:tensorflow:Assets written to: models\\LSTM Cardano.ckpt\\assets\n"
     ]
    },
    {
     "name": "stderr",
     "output_type": "stream",
     "text": [
      "INFO:tensorflow:Assets written to: models\\LSTM Cardano.ckpt\\assets\n"
     ]
    },
    {
     "name": "stdout",
     "output_type": "stream",
     "text": [
      "27/27 [==============================] - 7s 269ms/step - loss: 1.3710e-04 - val_loss: 5.5145e-05\n",
      "Epoch 40/100\n",
      "25/27 [==========================>...] - ETA: 0s - loss: 1.3650e-04\n",
      "Epoch 40: val_loss did not improve from 0.00006\n",
      "27/27 [==============================] - 1s 22ms/step - loss: 1.4000e-04 - val_loss: 6.9013e-05\n",
      "Epoch 41/100\n",
      "25/27 [==========================>...] - ETA: 0s - loss: 1.1839e-04\n",
      "Epoch 41: val_loss did not improve from 0.00006\n",
      "27/27 [==============================] - 1s 24ms/step - loss: 1.3390e-04 - val_loss: 6.3030e-05\n",
      "Epoch 42/100\n",
      "25/27 [==========================>...] - ETA: 0s - loss: 1.2412e-04\n",
      "Epoch 42: val_loss did not improve from 0.00006\n",
      "27/27 [==============================] - 1s 23ms/step - loss: 1.2729e-04 - val_loss: 7.9145e-05\n",
      "Epoch 43/100\n",
      "25/27 [==========================>...] - ETA: 0s - loss: 1.6357e-04\n",
      "Epoch 43: val_loss did not improve from 0.00006\n",
      "27/27 [==============================] - 1s 23ms/step - loss: 1.6476e-04 - val_loss: 8.3528e-05\n",
      "Epoch 44/100\n",
      "25/27 [==========================>...] - ETA: 0s - loss: 1.4141e-04\n",
      "Epoch 44: val_loss did not improve from 0.00006\n",
      "27/27 [==============================] - 1s 23ms/step - loss: 1.3814e-04 - val_loss: 7.9075e-05\n",
      "Epoch 45/100\n",
      "25/27 [==========================>...] - ETA: 0s - loss: 1.4883e-04\n",
      "Epoch 45: val_loss improved from 0.00006 to 0.00005, saving model to models\\LSTM Cardano.ckpt\n"
     ]
    },
    {
     "name": "stderr",
     "output_type": "stream",
     "text": [
      "WARNING:absl:Found untraced functions such as lstm_cell_8_layer_call_fn, lstm_cell_8_layer_call_and_return_conditional_losses while saving (showing 2 of 2). These functions will not be directly callable after loading.\n"
     ]
    },
    {
     "name": "stdout",
     "output_type": "stream",
     "text": [
      "INFO:tensorflow:Assets written to: models\\LSTM Cardano.ckpt\\assets\n"
     ]
    },
    {
     "name": "stderr",
     "output_type": "stream",
     "text": [
      "INFO:tensorflow:Assets written to: models\\LSTM Cardano.ckpt\\assets\n"
     ]
    },
    {
     "name": "stdout",
     "output_type": "stream",
     "text": [
      "27/27 [==============================] - 7s 285ms/step - loss: 1.4268e-04 - val_loss: 5.4736e-05\n",
      "Epoch 46/100\n",
      "25/27 [==========================>...] - ETA: 0s - loss: 1.5780e-04\n",
      "Epoch 46: val_loss improved from 0.00005 to 0.00005, saving model to models\\LSTM Cardano.ckpt\n"
     ]
    },
    {
     "name": "stderr",
     "output_type": "stream",
     "text": [
      "WARNING:absl:Found untraced functions such as lstm_cell_8_layer_call_fn, lstm_cell_8_layer_call_and_return_conditional_losses while saving (showing 2 of 2). These functions will not be directly callable after loading.\n"
     ]
    },
    {
     "name": "stdout",
     "output_type": "stream",
     "text": [
      "INFO:tensorflow:Assets written to: models\\LSTM Cardano.ckpt\\assets\n"
     ]
    },
    {
     "name": "stderr",
     "output_type": "stream",
     "text": [
      "INFO:tensorflow:Assets written to: models\\LSTM Cardano.ckpt\\assets\n"
     ]
    },
    {
     "name": "stdout",
     "output_type": "stream",
     "text": [
      "27/27 [==============================] - 7s 263ms/step - loss: 1.5451e-04 - val_loss: 5.3145e-05\n",
      "Epoch 47/100\n",
      "25/27 [==========================>...] - ETA: 0s - loss: 1.5078e-04\n",
      "Epoch 47: val_loss did not improve from 0.00005\n",
      "27/27 [==============================] - 1s 23ms/step - loss: 1.4550e-04 - val_loss: 7.0496e-05\n",
      "Epoch 48/100\n",
      "25/27 [==========================>...] - ETA: 0s - loss: 1.5536e-04\n",
      "Epoch 48: val_loss improved from 0.00005 to 0.00005, saving model to models\\LSTM Cardano.ckpt\n"
     ]
    },
    {
     "name": "stderr",
     "output_type": "stream",
     "text": [
      "WARNING:absl:Found untraced functions such as lstm_cell_8_layer_call_fn, lstm_cell_8_layer_call_and_return_conditional_losses while saving (showing 2 of 2). These functions will not be directly callable after loading.\n"
     ]
    },
    {
     "name": "stdout",
     "output_type": "stream",
     "text": [
      "INFO:tensorflow:Assets written to: models\\LSTM Cardano.ckpt\\assets\n"
     ]
    },
    {
     "name": "stderr",
     "output_type": "stream",
     "text": [
      "INFO:tensorflow:Assets written to: models\\LSTM Cardano.ckpt\\assets\n"
     ]
    },
    {
     "name": "stdout",
     "output_type": "stream",
     "text": [
      "27/27 [==============================] - 7s 265ms/step - loss: 1.5119e-04 - val_loss: 5.2379e-05\n"
     ]
    }
   ],
   "source": [
    "coins = [\"Dogecoin\",\"Litecoin\",\"Bitcoin\",\"XRP\",\"Stellar\",\"Monero\",\"NEM\",\"Ethereum\",\"Cardano\"]\n",
    "model = \"LSTM\"\n",
    "#coin = \"Bitcoin\"\n",
    "for coin in coins:\n",
    "    partial_name = model+ \" \" + coin\n",
    "    objective = \"Close\"\n",
    "    train = pd.read_csv('archive/coin_'+coin+'.csv')\n",
    "    ##20 entrenamiento-80 pruebas\n",
    "    split_row = len(train) - int(0.2 * len(train))\n",
    "    train_data = train.iloc[:split_row]\n",
    "    test_data = train.iloc[split_row:]\n",
    "    train_scaled_data, test_scaled_data = trainingsteps(objective, partial_name, train, train_data, test_data)\n",
    "    X_train, X_test, y_train, y_test = seriesdefinition(50,len(train_data),train_scaled_data)\n",
    "    training(X_train,y_train,partial_name)"
   ]
  },
  {
   "cell_type": "code",
   "execution_count": null,
   "id": "466066a4-7c02-4313-b206-f0334a24261d",
   "metadata": {},
   "outputs": [],
   "source": []
  }
 ],
 "metadata": {
  "kernelspec": {
   "display_name": "Python 3",
   "language": "python",
   "name": "python3"
  },
  "language_info": {
   "codemirror_mode": {
    "name": "ipython",
    "version": 3
   },
   "file_extension": ".py",
   "mimetype": "text/x-python",
   "name": "python",
   "nbconvert_exporter": "python",
   "pygments_lexer": "ipython3",
   "version": "3.8.10"
  }
 },
 "nbformat": 4,
 "nbformat_minor": 5
}
