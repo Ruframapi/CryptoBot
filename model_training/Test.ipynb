{
 "cells": [
  {
   "cell_type": "code",
   "execution_count": 9,
   "id": "d46e7a82-a6bf-45a3-bda2-a728ee9657dd",
   "metadata": {},
   "outputs": [],
   "source": [
    "from tensorflow import keras\n",
    "from pickle import load\n",
    "from sklearn.preprocessing import MinMaxScaler\n",
    "import pandas as pd\n",
    "import numpy as np"
   ]
  },
  {
   "cell_type": "code",
   "execution_count": 10,
   "id": "cca41c9c-e9df-4a0b-beb2-fde202a670e8",
   "metadata": {},
   "outputs": [],
   "source": [
    "## Omitir esta parte es solo para cargar unos datos\n",
    "from numpy import loadtxt\n",
    "\n",
    "test_scaled_data = loadtxt('test_scaled_data.csv', delimiter=',')\n",
    "X_testing = []\n",
    "y_testing = []\n",
    "time_steps = 50\n",
    "\n",
    "for i in range(time_steps, 51):\n",
    "    X_testing.append(test_scaled_data[i-time_steps:i])\n",
    "    y_testing.append(test_scaled_data[i])"
   ]
  },
  {
   "cell_type": "code",
   "execution_count": 11,
   "id": "3de79db9-e39a-4be3-8400-57f3f4fd1565",
   "metadata": {},
   "outputs": [
    {
     "name": "stdout",
     "output_type": "stream",
     "text": [
      "[0.13414584 0.12991017 0.12828425 0.12546439 0.11940279 0.11394567\n",
      " 0.11554131 0.11002574 0.11157405 0.11271281 0.1176516  0.11657085\n",
      " 0.12127074 0.11825011 0.11595898 0.11434624 0.1143172  0.11324349\n",
      " 0.11633756 0.11789332 0.118039   0.1181668  0.11559021 0.1136547\n",
      " 0.11269793 0.11310318 0.11352172 0.11123575 0.11167128 0.10820598\n",
      " 0.1036034  0.11363394 0.11246804 0.11271983 0.11228383 0.11733514\n",
      " 0.11487655 0.11435483 0.11360797 0.11303749 0.11384337 0.11428322\n",
      " 0.11593314 0.11388919 0.1123223  0.11242595 0.10904132 0.11470718\n",
      " 0.11574403 0.11575444]\n"
     ]
    },
    {
     "data": {
      "text/plain": [
       "(50,)"
      ]
     },
     "execution_count": 11,
     "metadata": {},
     "output_type": "execute_result"
    }
   ],
   "source": [
    "### Esto necesita recibir una lista de arreglos de numpy, un arreglo de numpy por cada serie de 50 timesteps\n",
    "print(X_testing[0])\n",
    "X_testing[0].shape"
   ]
  },
  {
   "cell_type": "code",
   "execution_count": 12,
   "id": "cd137efa-071e-47dd-8579-c00da1ac865c",
   "metadata": {},
   "outputs": [],
   "source": [
    "coins = [\"Dogecoin\",\"Litecoin\",\"Bitcoin\",\"XRP\",\"Stellar\",\"Monero\",\"NEM\",\"Ethereum\",\"Cardano\"]\n",
    "\n",
    "\n",
    "model = \"LSTM\"\n",
    "coin = \"Bitcoin\"\n",
    "partial_name = model+ \" \" + coin\n",
    "\n",
    "model = keras.models.load_model('models/'+partial_name+\".ckpt\")\n",
    "scaler = load(open('models/'+partial_name+'_scaler.pkl', 'rb'))\n",
    "\n",
    "def prediction(serie):\n",
    "    X_testing = np.array(serie)\n",
    "    X_testing = np.reshape(X_testing, (X_testing.shape[0], X_testing.shape[1], 1))\n",
    "    predicted_price = model.predict(X_testing)\n",
    "    inv_price = scaler.inverse_transform(predicted_price)\n",
    "    return inv_price    "
   ]
  },
  {
   "cell_type": "code",
   "execution_count": 13,
   "id": "d8959c7b-ae23-4f60-9d4b-e9ddc8b48ef7",
   "metadata": {},
   "outputs": [
    {
     "name": "stdout",
     "output_type": "stream",
     "text": [
      "1/1 [==============================] - 0s 393ms/step\n"
     ]
    }
   ],
   "source": [
    "inv_price = prediction(X_testing)\n"
   ]
  },
  {
   "cell_type": "code",
   "execution_count": 14,
   "id": "c196e124-91e5-45f9-8091-8938590ae5e9",
   "metadata": {},
   "outputs": [
    {
     "name": "stdout",
     "output_type": "stream",
     "text": [
      "[[7359.878]]\n"
     ]
    }
   ],
   "source": [
    "print(inv_price)"
   ]
  },
  {
   "cell_type": "code",
   "execution_count": null,
   "id": "a32a2103-de8c-4abe-b503-2226babae837",
   "metadata": {},
   "outputs": [],
   "source": []
  }
 ],
 "metadata": {
  "kernelspec": {
   "display_name": "Python 3",
   "language": "python",
   "name": "python3"
  },
  "language_info": {
   "codemirror_mode": {
    "name": "ipython",
    "version": 3
   },
   "file_extension": ".py",
   "mimetype": "text/x-python",
   "name": "python",
   "nbconvert_exporter": "python",
   "pygments_lexer": "ipython3",
   "version": "3.8.10"
  }
 },
 "nbformat": 4,
 "nbformat_minor": 5
}
